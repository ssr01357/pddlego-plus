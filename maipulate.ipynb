{
 "cells": [
  {
   "cell_type": "code",
   "execution_count": 14,
   "id": "c1c9800f",
   "metadata": {},
   "outputs": [
    {
     "ename": "NameError",
     "evalue": "name '__file__' is not defined",
     "output_type": "error",
     "traceback": [
      "\u001b[31m---------------------------------------------------------------------------\u001b[39m",
      "\u001b[31mNameError\u001b[39m                                 Traceback (most recent call last)",
      "\u001b[36mCell\u001b[39m\u001b[36m \u001b[39m\u001b[32mIn[14]\u001b[39m\u001b[32m, line 1\u001b[39m\n\u001b[32m----> \u001b[39m\u001b[32m1\u001b[39m \u001b[34;43m__file__\u001b[39;49m\n",
      "\u001b[31mNameError\u001b[39m: name '__file__' is not defined"
     ]
    }
   ],
   "source": [
    "__file__"
   ]
  },
  {
   "cell_type": "code",
   "execution_count": 20,
   "id": "588f9d4c",
   "metadata": {},
   "outputs": [],
   "source": [
    "with open(\"prompts/pddl_format.txt\") as f:\n",
    "    prompt = f.read().rstrip()+\"\\n\""
   ]
  },
  {
   "cell_type": "code",
   "execution_count": 4,
   "id": "f423285d",
   "metadata": {},
   "outputs": [
    {
     "name": "stdout",
     "output_type": "stream",
     "text": [
      "\n",
      "    Please provide the output in JSON format, including the edit suggestions for a domain file as 'df' and the edit suggestions for a problem file as 'pf'. \n",
      "    The output format should be: {\"df\": \"...\", \"pf\": \"...\"}\n",
      "    You will modify the following df and pf using add, delate, and replace operations (in a JSON format). \n",
      "    You SHOULD NOT provide a domain file and a problem file directly.\n",
      "    This is the structure for df edit file, remember to add bracket:\n",
      "    {\n",
      "    \"predicates\": {\n",
      "        \"add\": [\"(predicates to add)\"],\n",
      "        \"replace\": {\"(old)\": \"(new)\"},\n",
      "        \"delete\": [\"(predicates to delete)\"]\n",
      "        },\n",
      "    \"action\": {\n",
      "        \"open-door\": {\n",
      "            \"precondition\": [\"(entire full new precondition for open-door)\"], # directly replace the whole precondition\n",
      "            \"effect\": [\"(entire full new effect for open-door)\"] # so as effect\n",
      "            },\n",
      "        \"move\": {\n",
      "            \"precondition\": []\n",
      "            \"effect\": []\n",
      "            }\n",
      "        }\n",
      "    }\n",
      "    This is the structure for pf edit file:\n",
      "    {\n",
      "    \"objects\": {\n",
      "        \"add\": [],\n",
      "        \"replace\": {},\n",
      "        \"delete\": []\n",
      "        },\n",
      "    \"init\": {\n",
      "        \"add\": [],\n",
      "        \"replace\": {},\n",
      "        \"delete\": []\n",
      "        },\n",
      "    \"goal\": [\"(entire full new goal)\"]\n",
      "    }\n",
      "\n"
     ]
    }
   ],
   "source": [
    "\n",
    "prompt_edit = \"\"\"\n",
    "    Please provide the output in JSON format, including the edit suggestions for a domain file as 'df' and the edit suggestions for a problem file as 'pf'. \n",
    "    The output format should be: {{\"df\": \"...\", \"pf\": \"...\"}}\n",
    "    You will modify the following df and pf using add, delate, and replace operations (in a JSON format). \n",
    "    You SHOULD NOT provide a domain file and a problem file directly.\n",
    "    This is the structure for df edit file, remember to add bracket:\n",
    "    {{\n",
    "    \"predicates\": {{\n",
    "        \"add\": [\"(predicates to add)\"],\n",
    "        \"replace\": {{\"(old)\": \"(new)\"}},\n",
    "        \"delete\": [\"(predicates to delete)\"]\n",
    "        }},\n",
    "    \"action\": {{\n",
    "        \"open-door\": {{\n",
    "            \"precondition\": [\"(entire full new precondition for open-door)\"], # directly replace the whole precondition\n",
    "            \"effect\": [\"(entire full new effect for open-door)\"] # so as effect\n",
    "            }},\n",
    "        \"move\": {{\n",
    "            \"precondition\": []\n",
    "            \"effect\": []\n",
    "            }}\n",
    "        }}\n",
    "    }}\n",
    "    This is the structure for pf edit file:\n",
    "    {{\n",
    "    \"objects\": {{\n",
    "        \"add\": [],\n",
    "        \"replace\": {{}},\n",
    "        \"delete\": []\n",
    "        }},\n",
    "    \"init\": {{\n",
    "        \"add\": [],\n",
    "        \"replace\": {{}},\n",
    "        \"delete\": []\n",
    "        }},\n",
    "    \"goal\": [\"(entire full new goal)\"]\n",
    "    }}\n",
    "\"\"\"\n",
    "print(prompt_edit.format())\n"
   ]
  },
  {
   "cell_type": "code",
   "execution_count": null,
   "id": "cc4abd5a",
   "metadata": {},
   "outputs": [
    {
     "name": "stdout",
     "output_type": "stream",
     "text": [
      "hell\n",
      "{var2}\n",
      "\n",
      "hell\n",
      "{{var2}}\n",
      "\n"
     ]
    }
   ],
   "source": []
  },
  {
   "cell_type": "code",
   "execution_count": 32,
   "id": "47d4841b",
   "metadata": {},
   "outputs": [
    {
     "name": "stdout",
     "output_type": "stream",
     "text": [
      "\n",
      "    Please provide the output in strict JSON format, without any additional text or explanation, including a PDDL domain file as 'df' and a PDDL problem file as 'pf'. \n",
      "    The format should strictly be:\n",
      "        {\n",
      "        \"df\": \"...\",\n",
      "        \"pf\": \"...\"\n",
      "        }\n",
      "\n",
      "    This is a variable\n",
      "\n"
     ]
    }
   ],
   "source": [
    "prompt_format = \"\"\"\n",
    "    Please provide the output in strict JSON format, without any additional text or explanation, including a PDDL domain file as 'df' and a PDDL problem file as 'pf'. \n",
    "    The format should strictly be:\n",
    "        {{\n",
    "        \"df\": \"...\",\n",
    "        \"pf\": \"...\"\n",
    "        }}\n",
    "\n",
    "    {prompt}\n",
    "\"\"\"\n",
    "print(prompt_format.format(prompt = \"This is a variable\"))"
   ]
  },
  {
   "cell_type": "code",
   "execution_count": 29,
   "id": "5a02ff7f",
   "metadata": {},
   "outputs": [
    {
     "name": "stdout",
     "output_type": "stream",
     "text": [
      "Please provide the output in strict JSON format, without any additional text or explanation, including a PDDL domain file as 'df' and a PDDL problem file as 'pf'. \n",
      "The format should strictly be:\n",
      "    {\n",
      "    \"df\": \"...\",\n",
      "    \"pf\": \"...\"\n",
      "    }\n",
      "\n",
      "\n",
      "{var}\n",
      "\n"
     ]
    }
   ],
   "source": [
    "print(prompt)"
   ]
  },
  {
   "cell_type": "code",
   "execution_count": 30,
   "id": "0d697aa7",
   "metadata": {},
   "outputs": [
    {
     "ename": "KeyError",
     "evalue": "'\\n    \"df\"'",
     "output_type": "error",
     "traceback": [
      "\u001b[31m---------------------------------------------------------------------------\u001b[39m",
      "\u001b[31mKeyError\u001b[39m                                  Traceback (most recent call last)",
      "\u001b[36mCell\u001b[39m\u001b[36m \u001b[39m\u001b[32mIn[30]\u001b[39m\u001b[32m, line 1\u001b[39m\n\u001b[32m----> \u001b[39m\u001b[32m1\u001b[39m \u001b[43mprompt\u001b[49m\u001b[43m.\u001b[49m\u001b[43mformat\u001b[49m\u001b[43m(\u001b[49m\u001b[43mvar\u001b[49m\u001b[43m \u001b[49m\u001b[43m=\u001b[49m\u001b[43m \u001b[49m\u001b[33;43m\"\u001b[39;49m\u001b[33;43mThis is a variable\u001b[39;49m\u001b[33;43m\"\u001b[39;49m\u001b[43m)\u001b[49m\n",
      "\u001b[31mKeyError\u001b[39m: '\\n    \"df\"'"
     ]
    }
   ],
   "source": [
    "prompt.format(var = \"This is a variable\")"
   ]
  },
  {
   "cell_type": "code",
   "execution_count": 25,
   "id": "3ac5ce47",
   "metadata": {},
   "outputs": [],
   "source": [
    "import torch\n",
    "import gc"
   ]
  },
  {
   "cell_type": "code",
   "execution_count": 27,
   "id": "4b43da2f",
   "metadata": {},
   "outputs": [
    {
     "data": {
      "text/plain": [
       "20"
      ]
     },
     "execution_count": 27,
     "metadata": {},
     "output_type": "execute_result"
    }
   ],
   "source": [
    "gc.collect()"
   ]
  },
  {
   "cell_type": "code",
   "execution_count": null,
   "id": "b2fb6049",
   "metadata": {},
   "outputs": [],
   "source": [
    "\n",
    "\n",
    "def clear_cuda_memory(model_name):\n",
    "    \"\"\"Clears a specific model from cache and frees GPU memory.\"\"\"\n",
    "    global _kani_cache, _hf_engine_cache\n",
    "\n",
    "    if model_name in _kani_cache:\n",
    "        del _kani_cache[model_name]\n",
    "        # print(f\"Cleared {model_name} from kani_cache.\")\n",
    "\n",
    "    if model_name in _hf_engine_cache:\n",
    "        del _hf_engine_cache[model_name]\n",
    "        # print(f\"Cleared {model_name} from hf_engine_cache.\")\n",
    "\n",
    "    # Force Python's garbage collector to run\n",
    "    gc.collect()\n",
    "\n",
    "    # Tell PyTorch to release unused cached memory\n",
    "    if torch.cuda.is_available():\n",
    "        torch.cuda.empty_cache()\n",
    "        # print(\"Cleared CUDA cache.\")"
   ]
  },
  {
   "cell_type": "code",
   "execution_count": null,
   "id": "c9cccd4d",
   "metadata": {},
   "outputs": [],
   "source": [
    "import json\n",
    "import re # Already in your original code\n",
    "def repair_json(content):\n",
    "    \n",
    "    # Clean up the content\n",
    "    content = _remove_think_tags(content)\n",
    "    content = _extract_json_from_codeblock(content)\n",
    "    content = _fix_triple_quoted_strings(content)\n",
    "    content = _extract_json_from_plain_text(content)\n",
    "    content = _fix_unescaped_characters(content)\n",
    "    content = _strip_formatting(content)\n",
    "\n",
    "    return content\n",
    "\n",
    "def _remove_think_tags(text):\n",
    "    think_end = text.find('</think>')\n",
    "    if think_end != -1:\n",
    "        return text[think_end + 8:].strip()  # len('</think>') = 8\n",
    "    return text\n",
    "\n",
    "def _extract_json_from_codeblock(text):\n",
    "    # Try to match ```json ... ``` first\n",
    "    patterns = [\n",
    "        r\"(?s)```json\\s*(.*?)\\s*```\",  # JSON code block\n",
    "        r\"(?s)```\\s*(.*?)\\s*```\"        # Generic code block\n",
    "    ]\n",
    "    \n",
    "    for pattern in patterns:\n",
    "        match = re.search(pattern, text)\n",
    "        if match:\n",
    "            return match.group(1).strip()\n",
    "    \n",
    "    return text\n",
    "\n",
    "def _extract_json_from_plain_text(text: str) -> str:\n",
    "    last_brace_pos = text.rfind('{')\n",
    "    if last_brace_pos != -1:\n",
    "        return text[last_brace_pos:]\n",
    "\n",
    "    return text\n",
    "\n",
    "def _fix_triple_quoted_strings(text):\n",
    "    pattern = r'\"(\\w+)\":\\s*\"\"\"(.*?)\"\"\"'\n",
    "    \n",
    "    def escape_for_json(match):\n",
    "        key = match.group(1)\n",
    "        content = match.group(2)\n",
    "        \n",
    "        # Escape special characters for JSON\n",
    "        replacements = [\n",
    "            ('\\\\', '\\\\\\\\'),  # Backslashes first\n",
    "            ('\"', '\\\\\"'),    # Quotes\n",
    "            ('\\n', '\\\\n'),   # Newlines\n",
    "            ('\\r', '\\\\r'),   # Carriage returns\n",
    "            ('\\t', '\\\\t'),   # Tabs\n",
    "        ]\n",
    "        \n",
    "        for old, new in replacements:\n",
    "            content = content.replace(old, new)\n",
    "        \n",
    "        return f'\"{key}\": \"{content}\"'\n",
    "    \n",
    "    return re.sub(pattern, escape_for_json, text, flags=re.DOTALL)\n",
    "\n",
    "def _fix_unescaped_characters(text: str) -> str:\n",
    "    # Set a limit to prevent infinite loops on unfixable errors\n",
    "    max_attempts = 200\n",
    "    \n",
    "    for i in range(max_attempts):\n",
    "        try:\n",
    "            # Try to parse the text. If it works, we're done.\n",
    "            json.loads(text)\n",
    "            return text\n",
    "        except json.JSONDecodeError as e:\n",
    "            # On error, the parser tells us exactly where the problem is.\n",
    "            # e.pos is the character index of the error.\n",
    "            \n",
    "            # Case 1: An unescaped newline or other control character in a string\n",
    "            if \"Invalid control character\" in e.msg:\n",
    "                # Replace the problematic character with its escaped version\n",
    "                char_to_escape = text[e.pos]\n",
    "                if char_to_escape == '\\n':\n",
    "                    escaped_char = '\\\\n'\n",
    "                elif char_to_escape == '\\r':\n",
    "                    escaped_char = '\\\\r'\n",
    "                elif char_to_escape == '\\t':\n",
    "                    escaped_char = '\\\\t'\n",
    "                else:\n",
    "                    # If it's some other control character, just remove it\n",
    "                    escaped_char = ''\n",
    "                \n",
    "                text = text[:e.pos] + escaped_char + text[e.pos + 1:]\n",
    "\n",
    "            # Case 2: An unescaped double quote in a string\n",
    "            elif \"Unterminated string\" in e.msg:\n",
    "                # This often means a '\"' is inside a string without being escaped.\n",
    "                # We'll try to find the quote just before the error and escape it.\n",
    "                text = text[:e.pos - 1] + '\\\\' + text[e.pos - 1:]\n",
    "\n",
    "            # If we can't fix it, break the loop and return the broken text\n",
    "            else:\n",
    "                break\n",
    "    return text\n",
    "\n",
    "def _strip_formatting(text):\n",
    "    # Remove leading/trailing markdown json markers\n",
    "    text = text.strip()\n",
    "    if text.startswith(\"```json\"):\n",
    "        text = text[7:]  # len(\"```json\") = 7\n",
    "    if text.endswith(\"```\"):\n",
    "        text = text[:-3]\n",
    "    \n",
    "    # Remove surrounding quotes if present\n",
    "    text = text.strip()\n",
    "    if text.startswith(\"'\") and text.endswith(\"'\") and len(text) > 1:\n",
    "        text = text[1:-1]\n",
    "    \n",
    "    return text.strip()\n"
   ]
  },
  {
   "cell_type": "code",
   "execution_count": 24,
   "id": "6ac1b254",
   "metadata": {},
   "outputs": [
    {
     "data": {
      "text/plain": [
       "{'df': '(define (domain put-cds-in-safe)\\n  (:requirements :strips :typing :negative-preconditions)\\n  \\n  (:types\\n    object receptacle)\\n  \\n  (:predicates\\n    (at ?o - object)\\n    (in ?o ?r - receptacle)\\n    (opened ?r - receptacle)\\n    (closed ?r - receptacle))\\n  \\n  (:action GotoLocation\\n    :parameters (?from - receptacle ?to - receptacle)\\n    :precondition (and (at ?from) (not (at ?to)))\\n    :effect (and (at ?to) (not (at ?from))))\\n  \\n  (:action OpenObject\\n    :parameters (?r - receptacle)\\n    :precondition (and (at ?r) (closed ?r))\\n    :effect (and (opened ?r) (not (closed ?r))))\\n  \\n  (:action CloseObject\\n    :parameters (?r - receptacle)\\n    :precondition (and (at ?r) (opened ?r))\\n    :effect (and (closed ?r) (not (opened ?r))))\\n  \\n  (:action PickupObject\\n    :parameters (?o - object ?r - receptacle)\\n    :precondition (and (at ?r) (in ?o ?r) (opened ?r))\\n    :effect (and (at ?o) (not (in ?o ?r))))\\n  \\n  (:action PutObject\\n    :parameters (?o - object ?r - receptacle)\\n    :precondition (and (at ?r) (opened ?r) (at ?o))\\n    :effect (and (in ?o ?r) (not (at ?o))))\\n  \\n  (:action useObject\\n    :parameters (?o - object)\\n    :precondition (at ?o)\\n    :effect ())\\n  \\n  (:action HeatObject\\n    :parameters (?o - object ?r - microwaveReceptacle)\\n    :precondition (and (at ?r) (opened ?r) (at ?o))\\n    :effect ())\\n  \\n  (:action CleanObject\\n    :parameters (?o - object ?r - sinkbasinReceptacle)\\n    :precondition (and (at ?r) (opened ?r) (at ?o))\\n    :effect ())\\n  \\n  (:action CoolObject\\n    :parameters (?o - object ?r - fridgeReceptacle)\\n    :precondition (and (at ?r) (opened ?r) (at ?o))\\n    :effect ())\\n  \\n  (:action SliceObject\\n    :parameters (?r - receptacle ?co - object ?sharp_o - sharpObject)\\n    :precondition (and (at ?r) (in ?co ?r) (in ?sharp_o ?r) (opened ?r))\\n    :effect ())\\n)',\n",
       " 'pf': '(define (problem put-cds-in-safe-problem)\\n  (:domain put-cds-in-safe)\\n  \\n  (:objects\\n    cd1 cd2 - object\\n    desk1 desk2 drawer1 drawer2 drawer3 drawer4 drawer5 drawer6 shelf1 shelf2 shelf3 shelf4 shelf5 shelf6 safe1 - receptacle)\\n  \\n  (:init\\n    (at desk1)\\n    (closed safe1)\\n    (in cd1 desk1)\\n    (in cd2 desk2))\\n  \\n  (:goal\\n    (and (in cd1 safe1) (in cd2 safe1)))\\n)'}"
      ]
     },
     "execution_count": 24,
     "metadata": {},
     "output_type": "execute_result"
    }
   ],
   "source": [
    "repaired_content = repair_json(text)\n",
    "json.loads(repaired_content)"
   ]
  },
  {
   "cell_type": "code",
   "execution_count": 18,
   "id": "c68e42e1",
   "metadata": {},
   "outputs": [],
   "source": [
    "from kani import Kani\n",
    "from kani.engines.huggingface import HuggingEngine\n",
    "import glob\n",
    "import os\n",
    "import json\n",
    "from os.path import join as pjoin\n",
    "from alfworld.info import ALFWORLD_DATA\n",
    "from alfworld.agents.utils.misc import add_task_to_grammar\n",
    "from alfworld.agents.environment.alfred_tw_env import AlfredExpert, AlfredDemangler, AlfredExpertType\n",
    "import textworld\n",
    "import textworld.gym\n"
   ]
  },
  {
   "cell_type": "code",
   "execution_count": 19,
   "id": "22f37068",
   "metadata": {},
   "outputs": [
    {
     "data": {
      "text/plain": [
       "'/home/yl3427/.cache/alfworld'"
      ]
     },
     "execution_count": 19,
     "metadata": {},
     "output_type": "execute_result"
    }
   ],
   "source": [
    "ALFWORLD_DATA"
   ]
  },
  {
   "cell_type": "code",
   "execution_count": 20,
   "id": "a7982a04",
   "metadata": {},
   "outputs": [],
   "source": [
    "### ========= Alfworld =========\n",
    "# choose a problem to solve\n",
    "problems = glob.glob(pjoin(ALFWORLD_DATA, \"**\", \"initial_state.pddl\"), recursive=True)\n",
    "problems = [p for p in problems if \"movable_recep\" not in p]\n",
    "if len(problems) == 0:\n",
    "    raise ValueError(f\"Can't find problem files in {ALFWORLD_DATA}. Did you run alfworld-data?\")"
   ]
  },
  {
   "cell_type": "code",
   "execution_count": 21,
   "id": "1041317c",
   "metadata": {},
   "outputs": [
    {
     "data": {
      "text/plain": [
       "6025"
      ]
     },
     "execution_count": 21,
     "metadata": {},
     "output_type": "execute_result"
    }
   ],
   "source": [
    "len(problems)"
   ]
  },
  {
   "cell_type": "code",
   "execution_count": 23,
   "id": "382bfef0",
   "metadata": {},
   "outputs": [
    {
     "data": {
      "text/plain": [
       "'/home/yl3427/.cache/alfworld/json_2.1.1/valid_unseen/pick_two_obj_and_place-CD-None-Safe-308/trial_T20190907_051013_060265/initial_state.pddl'"
      ]
     },
     "execution_count": 23,
     "metadata": {},
     "output_type": "execute_result"
    }
   ],
   "source": [
    "problems[3]"
   ]
  },
  {
   "cell_type": "code",
   "execution_count": 28,
   "id": "0201e43b",
   "metadata": {},
   "outputs": [
    {
     "data": {
      "text/plain": [
       "'/home/yl3427/.cache/alfworld/json_2.1.1/valid_unseen/pick_two_obj_and_place-CD-None-Safe-308/trial_T20190907_051013_060265/initial_state.pddl'"
      ]
     },
     "execution_count": 28,
     "metadata": {},
     "output_type": "execute_result"
    }
   ],
   "source": [
    "problem_id = 3\n",
    "problems[problem_id]\n"
   ]
  },
  {
   "cell_type": "code",
   "execution_count": 29,
   "id": "48ff6dd2",
   "metadata": {},
   "outputs": [],
   "source": [
    "problem = os.path.dirname(problems[3])"
   ]
  },
  {
   "cell_type": "code",
   "execution_count": 30,
   "id": "0d9c0702",
   "metadata": {},
   "outputs": [],
   "source": [
    "domain = pjoin(ALFWORLD_DATA, \"logic\", \"alfred.pddl\")\n",
    "grammar = pjoin(ALFWORLD_DATA, \"logic\", \"alfred.twl2\")\n",
    "\n",
    "GAME_LOGIC = {\n",
    "        \"pddl_domain\": open(domain).read(),\n",
    "        \"grammar\": open(grammar).read(),\n",
    "    }\n",
    "\n",
    "# load state and trajectory files\n",
    "pddl_file = os.path.join(problem, 'initial_state.pddl') # pf\n",
    "json_file = os.path.join(problem, 'traj_data.json')\n",
    "with open(json_file, 'r') as f:\n",
    "    traj_data = json.load(f)\n",
    "GAME_LOGIC['grammar'] = add_task_to_grammar(GAME_LOGIC['grammar'], traj_data)"
   ]
  },
  {
   "cell_type": "code",
   "execution_count": 31,
   "id": "ecc4aee6",
   "metadata": {},
   "outputs": [],
   "source": [
    "gamedata = dict(**GAME_LOGIC, pddl_problem=open(pddl_file).read())\n",
    "gamefile = os.path.join(os.path.dirname(pddl_file), 'game.tw-pddl')"
   ]
  },
  {
   "cell_type": "code",
   "execution_count": 32,
   "id": "a4705ae8",
   "metadata": {},
   "outputs": [
    {
     "data": {
      "text/plain": [
       "{'pddl_domain': \";; Specification in PDDL of the Alfred domain\\n;; Intended to be used with Fast Downward which supports PDDL 2.2 level 1 plus the :action-costs requirement from PDDL 3.1.\\n\\n(define (domain alfred)\\n (:requirements\\n    :adl\\n    :action-costs\\n    :typing\\n )\\n (:types\\n  agent\\n  location\\n  receptacle\\n  object\\n  rtype\\n  otype\\n  )\\n\\n\\n (:predicates\\n    (atLocation ?a - agent ?l - location)                     ; true if the agent is at the location\\n    (receptacleAtLocation ?r - receptacle ?l - location)      ; true if the receptacle is at the location (constant)\\n    (objectAtLocation ?o - object ?l - location)              ; true if the object is at the location\\n    (openable ?r - receptacle)                                ; true if a receptacle is openable\\n    (opened ?r - receptacle)                                  ; true if a receptacle is opened\\n    (inReceptacle ?o - object ?r - receptacle)                ; object ?o is in receptacle ?r\\n    (isReceptacleObject ?o - object)                          ; true if the object can have things put inside it\\n    (inReceptacleObject ?innerObject - object ?outerObject - object)                ; object ?innerObject is inside object ?outerObject\\n    (isReceptacleObjectFull ?o - object)                      ; true if the receptacle object contains something\\n    (wasInReceptacle ?o - object ?r - receptacle)             ; object ?o was or is in receptacle ?r now or some time in the past\\n    (checked ?r - receptacle)                                 ; whether the receptacle has been looked inside/visited\\n    (examined ?l - location)                                  ; TODO\\n    (receptacleType ?r - receptacle ?t - rtype)               ; the type of receptacle (Cabinet vs Cabinet|01|2...)\\n    (canContain ?rt - rtype ?ot - otype)                      ; true if receptacle can hold object\\n    (objectType ?o - object ?t - otype)                       ; the type of object (Apple vs Apple|01|2...)\\n    (holds ?a - agent ?o - object)                            ; object ?o is held by agent ?a\\n    (holdsAny ?a - agent)                                     ; agent ?a holds an object\\n    (holdsAnyReceptacleObject ?a - agent)                        ; agent ?a holds a receptacle object\\n    (full ?r - receptacle)                                    ; true if the receptacle has no remaining space\\n    (isClean ?o - object)                                     ; true if the object has been clean in sink\\n    (cleanable ?o - object)                                   ; true if the object can be placed in a sink\\n    (isHot ?o - object)                                       ; true if the object has been heated up\\n    (heatable ?o - object)                                    ; true if the object can be heated up in a microwave\\n    (isCool ?o - object)                                      ; true if the object has been cooled\\n    (coolable ?o - object)                                    ; true if the object can be cooled in the fridge\\n    (pickupable ?o - object)                                   ; true if the object can be picked up\\n    (moveable ?o - object)                                      ; true if the object can be moved\\n    (toggleable ?o - object)                                  ; true if the object can be turned on/off\\n    (isOn ?o - object)                                        ; true if the object is on\\n    (isToggled ?o - object)                                   ; true if the object has been toggled\\n    (sliceable ?o - object)                                   ; true if the object can be sliced\\n    (isSliced ?o - object)                                    ; true if the object is sliced\\n )\\n\\n  (:functions\\n    (distance ?from ?to)\\n    (total-cost) - number\\n   )\\n\\n;; All actions are specified such that the final arguments are the ones used\\n;; for performing actions in Unity.\\n\\n\\n(:action look\\n    :parameters (?a - agent ?l - location)\\n    :precondition\\n        (and\\n            (atLocation ?a ?l)\\n        )\\n    :effect\\n        (and\\n            (checked ?l)\\n        )\\n)\\n\\n(:action inventory\\n    :parameters (?a - agent)\\n    :precondition\\n        ()\\n    :effect\\n        (and\\n            (checked ?a)\\n        )\\n)\\n\\n(:action examineReceptacle\\n    :parameters (?a - agent ?r - receptacle)\\n    :precondition\\n        (and\\n            (exists (?l - location)\\n                (and\\n                    (atLocation ?a ?l)\\n                    (receptacleAtLocation ?r ?l)\\n                )\\n            )\\n        )\\n    :effect\\n        (and\\n            (checked ?r)\\n        )\\n)\\n\\n(:action examineObject\\n    :parameters (?a - agent ?o - object)\\n    :precondition\\n        (or\\n            ;(exists (?l - location)\\n            ;    (and\\n            ;        (atLocation ?a ?l)\\n            ;        (objectAtLocation ?o ?l)\\n            ;    )\\n            ;)\\n            (exists (?l - location, ?r - receptacle)\\n                (and\\n                    (atLocation ?a ?l)\\n                    (receptacleAtLocation ?r ?l)\\n                    ; (objectAtLocation ?o ?l)\\n                    (inReceptacle ?o ?r)\\n                    (or (not (openable ?r)) (opened ?r))  ; receptacle is opened if it is openable.\\n              )\\n            )\\n            (holds ?a ?o)\\n        )\\n    :effect\\n        (and\\n            (checked ?o)\\n        )\\n)\\n\\n;; agent goes to receptacle\\n (:action GotoLocation\\n    :parameters (?a - agent ?lStart - location ?lEnd - location ?r - receptacle)\\n    :precondition (and\\n                    (atLocation ?a ?lStart)\\n                    (receptacleAtLocation ?r ?lEnd)\\n                    ;(exists (?r - receptacle) (receptacleAtLocation ?r ?lEnd))\\n                  )\\n    :effect (and\\n                (not (atLocation ?a ?lStart))\\n                (atLocation ?a ?lEnd)\\n                ; (forall (?r - receptacle)\\n                ;     (when (and (receptacleAtLocation ?r ?lEnd)\\n                ;                (or (not (openable ?r)) (opened ?r)))\\n                ;         (checked ?r)\\n                ;     )\\n                ; )\\n                ; (increase (total-cost) (distance ?lStart ?lEnd))\\n                (increase (total-cost) 1)\\n            )\\n )\\n\\n;; agent opens receptacle\\n (:action OpenObject\\n    :parameters (?a - agent ?l - location ?r - receptacle)\\n    :precondition (and\\n            (openable ?r)\\n            (atLocation ?a ?l)\\n            (receptacleAtLocation ?r ?l)\\n            (not (opened ?r))\\n            )\\n    :effect (and\\n                (opened ?r)\\n                (checked ?r)\\n                (increase (total-cost) 1)\\n            )\\n )\\n;; agent closes receptacle\\n (:action CloseObject\\n    :parameters (?a - agent ?l - location ?r - receptacle)\\n    :precondition (and\\n            (openable ?r)\\n            (atLocation ?a ?l)\\n            (receptacleAtLocation ?r ?l)\\n            (opened ?r)\\n            )\\n    :effect (and\\n                (not (opened ?r))\\n                (increase (total-cost) 1)\\n            )\\n\\n )\\n\\n ;; agent picks up object from a receptacle\\n (:action PickupObject\\n    :parameters (?a - agent ?l - location ?o - object ?r - receptacle)\\n    :precondition\\n        (and\\n            (pickupable ?o)\\n            (atLocation ?a ?l)\\n            (receptacleAtLocation ?r ?l)\\n            ; (objectAtLocation ?o ?l)\\n            (inReceptacle ?o ?r)\\n            (not (holdsAny ?a))  ; agent's hands are empty.\\n            ;(not (holdsAnyReceptacleObject ?a))\\n            (or (not (openable ?r)) (opened ?r))  ; receptacle is opened if it is openable.\\n            ;(not (isReceptacleObject ?o))\\n        )\\n    :effect\\n        (and\\n            (not (inReceptacle ?o ?r))\\n            (holds ?a ?o)\\n            (holdsAny ?a)\\n            (not (objectAtLocation ?o ?l))\\n            ;(not (full ?r))\\n            (increase (total-cost) 1)\\n        )\\n )\\n\\n\\n; ;; agent picks up object from a receptacle\\n; (:action PickupObjectFromReceptacleObject\\n;    :parameters (?a - agent ?l - location ?o - object ?outerR - object ?r - receptacle)\\n;    :precondition\\n;        (and\\n;            (atLocation ?a ?l)\\n;            (receptacleAtLocation ?r ?l)\\n;            (inReceptacle ?o ?r)\\n;            (pickupable ?o)\\n;            (not (holdsAny ?a))  ; agent's hands are empty.\\n;            (not (holdsAnyReceptacleObject ?a))\\n;            (or (not (openable ?r)) (opened ?r))  ; receptacle is opened if it is openable.\\n;            (not (isReceptacleObject ?o))\\n;            (isReceptacleObject ?outerR)\\n;            (inReceptacleObject ?o ?outerR)\\n;        )\\n;    :effect\\n;        (and\\n;            (not (inReceptacle ?o ?r))\\n;            (holds ?a ?o)\\n;            (holdsAny ?a)\\n;            (not (objectAtLocation ?o ?l))\\n;            (not (full ?r))\\n;            (increase (total-cost) 1)\\n;\\n;            (not (inReceptacleObject ?o ?outerR))\\n;            (not (isReceptacleObjectFull ?outerR))\\n;        )\\n; )\\n;\\n; ;; agent picks up object from a receptacle\\n; (:action PickupEmptyReceptacleObject\\n;    :parameters (?a - agent ?l - location ?o - object ?r - receptacle)\\n;    :precondition\\n;        (and\\n;            (atLocation ?a ?l)\\n;            (receptacleAtLocation ?r ?l)\\n;            ; (objectAtLocation ?o ?l)\\n;            (inReceptacle ?o ?r)\\n;            (pickupable ?o)\\n;            (not (holdsAny ?a))  ; agent's hands are empty.\\n;            (not (holdsAnyReceptacleObject ?a))\\n;            (or (not (openable ?r)) (opened ?r))  ; receptacle is opened if it is openable.\\n;            (isReceptacleObject ?o)\\n;            (not (isReceptacleObjectFull ?o))\\n;        )\\n;    :effect\\n;        (and\\n;            (not (inReceptacle ?o ?r))\\n;            (holds ?a ?o)\\n;            (holdsAny ?a)\\n;            (not (objectAtLocation ?o ?l))\\n;            (not (full ?r))\\n;            (increase (total-cost) 1)\\n;            (holdsAnyReceptacleObject ?a)\\n;        )\\n; )\\n;\\n; ;; agent picks up object from a receptacle\\n; (:action PickupFullReceptacleObject\\n;    :parameters (?a - agent ?l - location ?o - object ?outerR - object ?r - receptacle)\\n;    :precondition\\n;        (and\\n;            (atLocation ?a ?l)\\n;            (receptacleAtLocation ?r ?l)\\n;            (inReceptacle ?outerR ?r)\\n;            (pickupable ?outerR)\\n;            (not (holdsAny ?a))  ; agent's hands are empty.\\n;            (not (holdsAnyReceptacleObject ?a))\\n;            (or (not (openable ?r)) (opened ?r))  ; receptacle is opened if it is openable.\\n;            (not (isReceptacleObject ?o))\\n;            (isReceptacleObject ?outerR)\\n;            (inReceptacleObject ?o ?outerR)\\n;        )\\n;    :effect\\n;        (and\\n;            (not (inReceptacle ?o ?r))\\n;            (not (inReceptacle ?outerR ?r))\\n;            (holds ?a ?outerR)\\n;            (holdsAny ?a)\\n;            (not (objectAtLocation ?o ?l))\\n;            (not (objectAtLocation ?outerR ?l))\\n;            (not (full ?r))\\n;            (increase (total-cost) 1)\\n;            (holdsAnyReceptacleObject ?a)\\n;        )\\n; )\\n\\n\\n;; agent puts down an object\\n (:action PutObject\\n    :parameters (?a - agent ?l - location ?o - object ?r - receptacle ?ot - otype ?rt - rtype)\\n    :precondition (and\\n            (holds ?a ?o)\\n            (atLocation ?a ?l)\\n            (receptacleAtLocation ?r ?l)\\n            (or (not (openable ?r)) (opened ?r))    ; receptacle is opened if it is openable\\n            ;(not (full ?r))\\n            (objectType ?o ?ot)\\n            (receptacleType ?r ?rt)\\n            (canContain ?rt ?ot)\\n            ;(not (holdsAnyReceptacleObject ?a))\\n            )\\n    :effect (and\\n                (inReceptacle ?o ?r)\\n                (objectAtLocation ?o ?l)\\n                ;(full ?r)\\n                (not (holds ?a ?o))\\n                (not (holdsAny ?a))\\n                (increase (total-cost) 1)\\n            )\\n )\\n\\n;;; agent puts down an object\\n; (:action PutObjectInReceptacleObject\\n;    :parameters (?a - agent ?l - location ?ot - otype ?o - object ?outerO - object ?outerR - receptacle)\\n;    :precondition (and\\n;            (atLocation ?a ?l)\\n;            (objectAtLocation ?outerO ?l)\\n;            (isReceptacleObject ?outerO)\\n;            (not (isReceptacleObject ?o))\\n;            (objectType ?o ?ot)\\n;            (holds ?a ?o)\\n;            (not (holdsAnyReceptacleObject ?a))\\n;            (inReceptacle ?outerO ?outerR)\\n;            (not (isReceptacleObjectFull ?outerO))\\n;            )\\n;    :effect (and\\n;                (inReceptacleObject ?o ?outerO)\\n;                (inReceptacle ?o ?outerR)\\n;                (not (holds ?a ?o))\\n;                (not (holdsAny ?a))\\n;                (objectAtLocation ?o ?l)\\n;                (isReceptacleObjectFull ?outerO)\\n;                (increase (total-cost) 1)\\n;            )\\n; )\\n;\\n;;; agent puts down an object\\n; (:action PutEmptyReceptacleObjectinReceptacle\\n;    :parameters (?a - agent ?l - location ?ot - otype ?o - object ?r - receptacle)\\n;    :precondition (and\\n;            (atLocation ?a ?l)\\n;            (receptacleAtLocation ?r ?l)\\n;            (or (not (openable ?r)) (opened ?r))    ; receptacle is opened if it is openable\\n;            (not (full ?r))\\n;            (objectType ?o ?ot)\\n;            (holds ?a ?o)\\n;            (holdsAnyReceptacleObject ?a)\\n;            (isReceptacleObject ?o)\\n;            (not (isReceptacleObjectFull ?o))\\n;            )\\n;    :effect (and\\n;                (inReceptacle ?o ?r)\\n;                (objectAtLocation ?o ?l)\\n;                (full ?r)\\n;                (not (holds ?a ?o))\\n;                (not (holdsAny ?a))\\n;                (not (holdsAnyReceptacleObject ?a))\\n;                (increase (total-cost) 1)\\n;            )\\n; )\\n;\\n;;; agent puts down a receptacle object in a receptacle\\n; (:action PutFullReceptacleObjectInReceptacle\\n;    :parameters (?a - agent ?l - location ?ot - otype ?innerO - object ?outerO - object ?r - receptacle) ; ?rt - rtype)\\n;    :precondition (and\\n;            (atLocation ?a ?l)\\n;            (receptacleAtLocation ?r ?l)\\n;            (objectType ?outerO ?ot)\\n;            (holds ?a ?outerO)\\n;            (holdsAnyReceptacleObject ?a)\\n;            (isReceptacleObject ?outerO)\\n;            (isReceptacleObjectFull ?outerO)\\n;            (inReceptacleObject ?innerO ?outerO)\\n;            )\\n;    :effect (and\\n;                (not (holdsAny ?a))\\n;                (not (holdsAnyReceptacleObject ?a))\\n;                (objectAtLocation ?outerO ?l)\\n;                (objectAtLocation ?innerO ?l)\\n;                (inReceptacle ?outerO ?r)\\n;                (inReceptacle ?innerO ?r)\\n;                (not (holds ?a ?outerO))\\n;                (increase (total-cost) 1)\\n;            )\\n; )\\n\\n;; agent cleans some object\\n (:action CleanObject\\n    :parameters (?a - agent ?l - location ?r - receptacle ?o - object)\\n    :precondition (and\\n            (cleanable ?o)\\n            (or\\n                ;(receptacleType ?r SinkType)\\n                (receptacleType ?r SinkBasinType)\\n            )\\n            (atLocation ?a ?l)\\n            (receptacleAtLocation ?r ?l)\\n            (holds ?a ?o)\\n            )\\n    :effect (and\\n                (increase (total-cost) 5)\\n                (isClean ?o)\\n            )\\n )\\n\\n\\n;; agent heats-up some object\\n (:action HeatObject\\n    :parameters (?a - agent ?l - location ?r - receptacle ?o - object)\\n    :precondition (and\\n            (heatable ?o)\\n            (or\\n                (receptacleType ?r MicrowaveType)\\n            )\\n            (atLocation ?a ?l)\\n            (receptacleAtLocation ?r ?l)\\n            (holds ?a ?o)\\n            )\\n    :effect (and\\n                (increase (total-cost) 5)\\n                (isHot ?o)\\n                (not (isCool ?o))\\n            )\\n )\\n\\n;; agent cools some object\\n (:action CoolObject\\n    :parameters (?a - agent ?l - location ?r - receptacle ?o - object)\\n    :precondition (and\\n            (coolable ?o)\\n            (or\\n                (receptacleType ?r FridgeType)\\n            )\\n            (atLocation ?a ?l)\\n            (receptacleAtLocation ?r ?l)\\n            (holds ?a ?o)\\n            )\\n    :effect (and\\n                (increase (total-cost) 5)\\n                (isCool ?o)\\n                (not (isHot ?o))\\n            )\\n )\\n\\n\\n;; agent toggle object\\n (:action ToggleObject\\n    :parameters (?a - agent ?l - location ?o - object ?r - receptacle)\\n    :precondition (and\\n            (toggleable ?o)\\n            (atLocation ?a ?l)\\n            (receptacleAtLocation ?r ?l)\\n            (inReceptacle ?o ?r)\\n            )\\n    :effect (and\\n                (increase (total-cost) 5)\\n                (when (isOn ?o)\\n                    (not (isOn ?o)))\\n                (when (not (isOn ?o))\\n                    (isOn ?o))\\n                (isToggled ?o)\\n            )\\n )\\n\\n\\n;; agent slices some object with a knife\\n (:action SliceObject\\n    :parameters (?a - agent ?l - location ?co - object ?ko - object)\\n    :precondition\\n            (and\\n                (sliceable ?co)\\n                (or\\n                    (objectType ?ko KnifeType)\\n                    (objectType ?ko ButterKnifeType)\\n                )\\n                (atLocation ?a ?l)\\n                (objectAtLocation ?co ?l)\\n                (holds ?a ?ko)\\n            )\\n    :effect (and\\n                (increase (total-cost) 5)\\n                (isSliced ?co)\\n            )\\n )\\n\\n\\n(:action help\\n    :parameters (?a - agent)\\n    :precondition\\n        ()\\n    :effect\\n        (and\\n            (checked ?a)\\n        )\\n)\\n\\n)\\n\",\n",
       " 'grammar': 'grammar :: \"\"\"\\n    {\\n        \"intro\": [\\n            {\\n                \"rhs\": \"-= Welcome to TextWorld, ALFRED! =-\\\\n\\\\n#look.feedback#\\\\n\\\\n#task#\"\\n            }\\n        ],\\n\\n        \"notImplemented\": [\\n            {\\n                \"rhs\": \"TODO\"\\n            }\\n        ],\\n\\n        \"task\": [\\n            {\\n                \"rhs\": \"Your task is to: put two cd in safe.\"\\n            }\\n        ],\\n\\n        \"GotoLocation.feedback\": [\\n            {\\n                \"rhs\": \"You arrive at {r.name}. #examineReceptacle.feedback#\"\\n            }\\n        ],\\n\\n        \"OpenObject.feedback\": [\\n            {\\n                \"rhs\": \"You open the {r.name}. #examineReceptacle.feedback#\"\\n            }\\n        ],\\n\\n        \"CloseObject.feedback\": [\\n            {\\n                \"rhs\": \"You close the {r.name}.\"\\n            }\\n        ],\\n\\n        \"PickupObject.feedback\": [\\n            {\\n                \"rhs\": \"You pick up the {o.name} from the {r.name}.\"\\n            }\\n        ],\\n\\n        \"PickupObjectFromReceptacleObject.feedback\": [\\n            {\\n                \"rhs\": \"PickupObjectFromReceptacleObject: You pick up the {o.name}.\"\\n            }\\n        ],\\n\\n        \"PickupEmptyReceptacleObject.feedback\": [\\n            {\\n                \"rhs\": \"PickupEmptyReceptacleObject: You pick up the {o.name}.\"\\n            }\\n        ],\\n\\n        \"PickupFullReceptacleObject.feedback\": [\\n            {\\n                \"rhs\": \"PickupFullReceptacleObject: You pick up the {outerr.name}.\"\\n            }\\n        ],\\n\\n        \"PutObject.feedback\": [\\n            {\\n                \"rhs\": \"You move the {o.name} to the {r.name}.\"\\n            }\\n        ],\\n\\n        \"PutObjectInReceptacleObject.feedback\": [\\n            {\\n                \"rhs\": \"PutObjectInReceptacleObject: You put the {o.name} in the {outero.name}.\"\\n            }\\n        ],\\n\\n        \"PutEmptyReceptacleObjectinReceptacle.feedback\": [\\n            {\\n                \"rhs\": \"PutEmptyReceptacleObjectinReceptacle: You put the {o.name} in the {r.name}.\"\\n            }\\n        ],\\n\\n        \"PutFullReceptacleObjectInReceptacle.feedback\": [\\n            {\\n                \"rhs\": \"PutFullReceptacleObjectInReceptacle: You put the {outero.name} in the {r.name}.\"\\n            }\\n        ],\\n\\n        \"inventory.feedback\": [\\n            {\\n                \"condition\": \"holdsany(a:agent)\",\\n                \"rhs\": \"You are carrying: [{o.indefinite + \\' \\' + o.name | holds(a:agent, o:object)}].\"\\n            },\\n            {\\n                \"rhs\": \"You are not carrying anything.\"\\n            }\\n        ],\\n\\n        \"examineReceptacle.feedback\": [\\n            {\\n                \"condition\": \"openable(r:receptacle) & opened(r:receptacle)\",\\n                \"rhs\": \"The {r.name} is open. In it, you see [{o.indefinite + \\' \\' + o.name | inreceptacle(o:object, r:receptacle)}].\"\\n            },\\n            {\\n                \"condition\": \"openable(r:receptacle)\",\\n                \"rhs\": \"The {r.name} is closed.\"\\n            },\\n            {\\n                \"rhs\": \"On the {r.name}, you see [{o.indefinite + \\' \\' + o.name | inreceptacle(o:object, r:receptacle)}].\"\\n            }\\n        ],\\n\\n        \"examineObject.feedback\": [\\n            {\\n                \"condition\": \"isreceptacleobject(o:object)\",\\n                \"rhs\": \"This is a normal {o.name}. In it, you see [{o2.indefinite + \\' \\' + o2.name | inreceptacleobject(o2:object, o:object)}].\"\\n            },\\n            {\\n                \"condition\": \"isclean(o:object) & ishot(o:object) & issliced(o:object)\",\\n                \"rhs\": \"This is a hot and clean sliced {o.name}.\"\\n            },\\n            {\\n                \"condition\": \"isclean(o:object) & iscool(o:object) & issliced(o:object)\",\\n                \"rhs\": \"This is a cool and clean sliced {o.name}.\"\\n            },\\n            {\\n                \"condition\": \"isclean(o:object) & issliced(o:object)\",\\n                \"rhs\": \"This is a clean sliced {o.name}.\"\\n            },\\n            {\\n                \"condition\": \"ishot(o:object) & issliced(o:object)\",\\n                \"rhs\": \"This is a hot sliced {o.name}.\"\\n            },\\n            {\\n                \"condition\": \"iscool(o:object) & issliced(o:object)\",\\n                \"rhs\": \"This is a cool sliced {o.name}.\"\\n            },\\n            {\\n                \"condition\": \"isclean(o:object) & ishot(o:object)\",\\n                \"rhs\": \"This is a hot and clean {o.name}.\"\\n            },\\n            {\\n                \"condition\": \"isclean(o:object) & iscool(o:object)\",\\n                \"rhs\": \"This is a cool and clean {o.name}.\"\\n            },\\n            {\\n                \"condition\": \"ishot(o:object)\",\\n                \"rhs\": \"This is a hot {o.name}.\"\\n            },\\n            {\\n                \"condition\": \"isclean(o:object)\",\\n                \"rhs\": \"This is a clean {o.name}.\"\\n            },\\n            {\\n                \"condition\": \"iscool(o:object)\",\\n                \"rhs\": \"This is a cold {o.name}.\"\\n            },\\n            {\\n                \"condition\": \"toggleable(o:object) & istoggled(o:object)\",\\n                \"rhs\": \"This {o.name} is on.\"\\n            },\\n            {\\n                \"condition\": \"toggleable(o:object) & not_istoggled(o:object)\",\\n                \"rhs\": \"This {o.name} is off.\"\\n            },\\n            {\\n                \"condition\": \"sliceable(o:object) & issliced(o:object)\",\\n                \"rhs\": \"This is a sliced {o.name}.\"\\n            },\\n            {\\n                \"rhs\": \"There\\'s nothing special about {o.name}.\"\\n            }\\n        ]\\n    }\\n\"\"\";\\n\\naction GotoLocation {\\n    template :: \"go to [{r.name | receptacleatlocation(r:receptacle, lend:location)}]\";\\n    feedback :: \"#GotoLocation.feedback#\";\\n}\\n\\naction OpenObject {\\n    template :: \"open {r}\";\\n    feedback :: \"#OpenObject.feedback#\";\\n}\\n\\naction CloseObject {\\n    template :: \"close {r}\";\\n    feedback :: \"#CloseObject.feedback#\";\\n}\\n\\naction PickupObject {\\n    template :: \"take {o} from {r}\";\\n    feedback :: \"#PickupObject.feedback#\";\\n}\\n\\naction PickupObjectFromReceptacleObject {\\n    template :: \"take {o} from {r}\";\\n    feedback :: \"#PickupObjectFromReceptacleObject.feedback#\";\\n}\\n\\naction PickupEmptyReceptacleObject {\\n    template :: \"take {o} from {r}\";\\n    feedback :: \"#PickupEmptyReceptacleObject.feedback#\";\\n}\\n\\naction PickupFullReceptacleObject {\\n    template :: \"take {outerr} from {r}\";\\n    feedback :: \"#PickupFullReceptacleObject.feedback#\";\\n}\\n\\naction PutObject {\\n    template :: \"move {o} to {r}\";\\n    feedback :: \"#PutObject.feedback#\";\\n}\\n\\naction PutObjectInReceptacleObject {\\n    template :: \"put {o} into {outero}\";\\n    feedback :: \"#PutObjectInReceptacleObject.feedback#\";\\n}\\n\\naction PutEmptyReceptacleObjectinReceptacle {\\n    template :: \"move {o} to {r}\";\\n    feedback :: \"#PutEmptyReceptacleObjectinReceptacle.feedback#\";\\n}\\n\\naction PutFullReceptacleObjectInReceptacle {\\n    template :: \"put {outero} in {r}\";\\n    feedback :: \"#PutFullReceptacleObjectInReceptacle.feedback#\";\\n}\\n\\naction inventory {\\n    template :: \"inventory\";\\n    feedback :: \"#inventory.feedback#\";\\n}\\n\\naction examineReceptacle {\\n    template :: \"examine {r}\";\\n    feedback :: \"#examineReceptacle.feedback#\";\\n}\\n\\naction examineObject {\\n    template :: \"examine {o}\";\\n    feedback :: \"#examineObject.feedback#\";\\n}\\n\\naction ToggleObject {\\n    template :: \"use {o}\";\\n    feedback :: \"#toggleObject.feedback#\";\\n\\n    grammar :: \"\"\"\\n        {\\n            \"toggleObject.feedback\": [\\n                {\\n                    \"condition\": \"toggleable(o:object) & istoggled(o:object)\",\\n                    \"rhs\": \"You turn on the {o.name}.\"\\n                },\\n                {\\n                    \"condition\": \"toggleable(o:object)\",\\n                    \"rhs\": \"You turn off the {o.name}.\"\\n                },\\n                {\\n                    \"rhs\": \"You don\\'t see any switch on the {o.name}.\"\\n                }\\n            ]\\n        }\\n    \"\"\";\\n}\\n\\naction HeatObject {\\n    template :: \"heat {o} with {r}\";\\n    feedback :: \"#heatObject.feedback#\";\\n\\n    grammar :: \"\"\"\\n        {\\n            \"heatObject.feedback\": [\\n                {\\n                    \"rhs\": \"You heat the {o.name} using the {r.name}.\"\\n                }\\n            ]\\n        }\\n    \"\"\";\\n}\\n\\naction CleanObject {\\n    template :: \"clean {o} with {r}\";\\n    feedback :: \"#cleanObject.feedback#\";\\n\\n    grammar :: \"\"\"\\n        {\\n            \"cleanObject.feedback\": [\\n                {\\n                    \"rhs\": \"You clean the {o.name} using the {r.name}.\"\\n                }\\n            ]\\n        }\\n    \"\"\";\\n}\\n\\naction CoolObject {\\n    template :: \"cool {o} with {r}\";\\n    feedback :: \"#coolObject.feedback#\";\\n\\n    grammar :: \"\"\"\\n        {\\n            \"coolObject.feedback\": [\\n                {\\n                    \"rhs\": \"You cool the {o.name} using the {r.name}.\"\\n                }\\n            ]\\n        }\\n    \"\"\";\\n}\\n\\naction SliceObject {\\n    template :: \"slice {co} with {ko}\";\\n    feedback :: \"#sliceObject.feedback#\";\\n\\n    grammar :: \"\"\"\\n        {\\n            \"sliceObject.feedback\": [\\n                {\\n                    \"rhs\": \"You sliced the {co.name} with the {ko.name}.\"\\n                }\\n            ]\\n        }\\n    \"\"\";\\n}\\n\\naction look {\\n    template :: \"look\";\\n    feedback :: \"#look.feedback#\";\\n\\n    grammar :: \"\"\"\\n        {\\n            \"look.feedback\": [\\n                {\\n                   \"condition\": \"atlocation(a:agent, l:location) & receptacleatlocation(r:receptacle, l:location)\",\\n                   \"rhs\": \"#look-variations#. Next to it, you see #list_objects_on_the_floor#.\"\\n                },\\n                {\\n                    \"rhs\": \"You are in the middle of a room. Looking quickly around you, you see #list_appliances#.\"\\n                }\\n            ],\\n\\n            \"look-variations\": [\\n                {\\n                    \"rhs\": \"You are facing the [{r.name | atlocation(a:agent, l:location) & receptacleatlocation(r:receptacle, l:location)}]\"\\n                }\\n            ],\\n\\n            \"list_objects_on_the_floor\": [\\n                {\\n                    \"condition\": \"atlocation(a:agent, l:location) & objectatlocation(o:object, l:location) & receptacleatlocation(r:receptacle, l:location) & not_inreceptacle(o:object, r:receptacle)\",\\n                    \"rhs\": \"[{#overview(o)# | atlocation(a:agent, l:location) & objectatlocation(o:object, l:location) & receptacleatlocation(r:receptacle, l:location) & not_inreceptacle(o:object, r:receptacle)}]\"\\n                },\\n                {\\n                    \"rhs\": \"nothing\"\\n                }\\n            ],\\n\\n            \"list_appliances\": [\\n                {\\n                    \"condition\": \"receptacleatlocation(r:receptacle, l:location)\",\\n                    \"rhs\": \"[{#overview(r)# | receptacleatlocation(r:receptacle, l:location)}]\"\\n                },\\n                {\\n                    \"rhs\": \"nothing\"\\n                }\\n            ],\\n\\n            \"overview(o, r)\": [\\n                {\\n                    \"rhs\": \"{o.indefinite} {o.name} (in/on the {r.name})}\"\\n                }\\n            ],\\n\\n            \"overview(o)\": [\\n                {\\n                    \"rhs\": \"{o.indefinite} {o.name}\"\\n                }\\n            ],\\n            \"overview(r)\": [\\n                {\\n                    \"rhs\": \"{r.indefinite} {r.name or r.id}\"\\n                }\\n            ],\\n            \"overview_with_state(r)\": [\\n                {\\n                    \"rhs\": \"{r.indefinite} {r.name or r.id}#overview_state(r)#\"\\n                }\\n            ],\\n            \"overview_state(r)\": [\\n                {\\n                    \"condition\": \"openable(r:receptacle) & opened(r:receptacle)\",\\n                    \"rhs\": \" (it is open)\"\\n                },\\n                {\\n                    \"condition\": \"openable(r:receptacle)\",\\n                    \"rhs\": \" (it is closed)\"\\n                },\\n                {\\n                    \"rhs\": \"\"\\n                }\\n            ],\\n\\n            \"list_empty\": [\\n                {\\n                    \"rhs\": \"nothing\"\\n                }\\n            ],\\n            \"list_separator\": [\\n                {\\n                    \"rhs\": \", \"\\n                }\\n            ],\\n            \"list_last_separator\": [\\n                {\\n                    \"rhs\": \", and \"\\n                }\\n            ]\\n        }\\n    \"\"\";\\n}\\n\\naction help {\\n    template :: \"help\";\\n    feedback :: \"#help.feedback#\";\\n\\n    grammar :: \"\"\"\\n        {\\n            \"help.feedback\": [\\n                {\\n                    \"rhs\": \"\\\\nAvailable commands:\\\\n  look:                             look around your current location\\\\n  inventory:                        check your current inventory\\\\n  go to (receptacle):               move to a receptacle\\\\n  open (receptacle):                open a receptacle\\\\n  close (receptacle):               close a receptacle\\\\n  take (object) from (receptacle):  take an object from a receptacle\\\\n  move (object) to (receptacle):  place an object in or on a receptacle\\\\n  examine (something):              examine a receptacle or an object\\\\n  use (object):                     use an object\\\\n  heat (object) with (receptacle):  heat an object using a receptacle\\\\n  clean (object) with (receptacle): clean an object using a receptacle\\\\n  cool (object) with (receptacle):  cool an object using a receptacle\\\\n  slice (object) with (object):     slice an object using a sharp object\\\\n\"\\n                }\\n            ]\\n        }\\n    \"\"\";\\n}\\n',\n",
       " 'pddl_problem': '\\n(define (problem plan_trial_T20190907_051013_060265)\\n(:domain alfred)\\n(:objects\\nagent1 - agent\\nRemoteControl - object\\n        Laptop - object\\n        Kettle - object\\n        Pen - object\\n        Fork - object\\n        Cloth - object\\n        HousePlant - object\\n        Plunger - object\\n        SoapBottle - object\\n        Cup - object\\n        Candle - object\\n        Tomato - object\\n        Television - object\\n        TennisRacket - object\\n        Towel - object\\n        SaltShaker - object\\n        Spoon - object\\n        Apple - object\\n        Poster - object\\n        Curtains - object\\n        Footstool - object\\n        AlarmClock - object\\n        Ladle - object\\n        PaperTowelRoll - object\\n        BaseballBat - object\\n        Knife - object\\n        Spatula - object\\n        SoapBar - object\\n        CreditCard - object\\n        Sink - object\\n        Newspaper - object\\n        LaundryHamperLid - object\\n        KeyChain - object\\n        Glassbottle - object\\n        ButterKnife - object\\n        Chair - object\\n        HandTowel - object\\n        ToiletPaperRoll - object\\n        Plate - object\\n        Pot - object\\n        WineBottle - object\\n        Boots - object\\n        PepperShaker - object\\n        PaperTowel - object\\n        Bowl - object\\n        SprayBottle - object\\n        ScrubBrush - object\\n        Box - object\\n        CD - object\\n        Pan - object\\n        Statue - object\\n        Vase - object\\n        ShowerGlass - object\\n        DishSponge - object\\n        Egg - object\\n        Lettuce - object\\n        Book - object\\n        TeddyBear - object\\n        ToiletPaper - object\\n        ShowerDoor - object\\n        Window - object\\n        Blinds - object\\n        CellPhone - object\\n        FloorLamp - object\\n        Pillow - object\\n        Mirror - object\\n        Painting - object\\n        TissueBox - object\\n        Pencil - object\\n        Potato - object\\n        LightSwitch - object\\n        StoveKnob - object\\n        Mug - object\\n        Bathtub - object\\n        DeskLamp - object\\n        Watch - object\\n        WateringCan - object\\n        BasketBall - object\\n        Bread - object\\nRemoteControlType - otype\\n        LaptopType - otype\\n        KettleType - otype\\n        PenType - otype\\n        ForkType - otype\\n        ClothType - otype\\n        HousePlantType - otype\\n        PlungerType - otype\\n        SoapBottleType - otype\\n        CupType - otype\\n        CandleType - otype\\n        TomatoType - otype\\n        TelevisionType - otype\\n        TennisRacketType - otype\\n        TowelType - otype\\n        SaltShakerType - otype\\n        SpoonType - otype\\n        AppleType - otype\\n        PosterType - otype\\n        CurtainsType - otype\\n        FootstoolType - otype\\n        AlarmClockType - otype\\n        LadleType - otype\\n        PaperTowelRollType - otype\\n        BaseballBatType - otype\\n        KnifeType - otype\\n        SpatulaType - otype\\n        SoapBarType - otype\\n        CreditCardType - otype\\n        SinkType - otype\\n        NewspaperType - otype\\n        LaundryHamperLidType - otype\\n        KeyChainType - otype\\n        GlassbottleType - otype\\n        ButterKnifeType - otype\\n        ChairType - otype\\n        HandTowelType - otype\\n        ToiletPaperRollType - otype\\n        PlateType - otype\\n        PotType - otype\\n        WineBottleType - otype\\n        BootsType - otype\\n        PepperShakerType - otype\\n        PaperTowelType - otype\\n        BowlType - otype\\n        SprayBottleType - otype\\n        ScrubBrushType - otype\\n        BoxType - otype\\n        CDType - otype\\n        PanType - otype\\n        StatueType - otype\\n        VaseType - otype\\n        ShowerGlassType - otype\\n        DishSpongeType - otype\\n        EggType - otype\\n        LettuceType - otype\\n        BookType - otype\\n        TeddyBearType - otype\\n        ToiletPaperType - otype\\n        ShowerDoorType - otype\\n        WindowType - otype\\n        BlindsType - otype\\n        CellPhoneType - otype\\n        FloorLampType - otype\\n        PillowType - otype\\n        MirrorType - otype\\n        PaintingType - otype\\n        TissueBoxType - otype\\n        PencilType - otype\\n        PotatoType - otype\\n        LightSwitchType - otype\\n        StoveKnobType - otype\\n        MugType - otype\\n        BathtubType - otype\\n        DeskLampType - otype\\n        WatchType - otype\\n        WateringCanType - otype\\n        BasketBallType - otype\\n        BreadType - otype\\nSinkBasinType - rtype\\n        GarbageCanType - rtype\\n        StoveBurnerType - rtype\\n        OttomanType - rtype\\n        CabinetType - rtype\\n        SideTableType - rtype\\n        DiningTableType - rtype\\n        CoffeeTableType - rtype\\n        SafeType - rtype\\n        DresserType - rtype\\n        DeskType - rtype\\n        BedType - rtype\\n        TowelHolderType - rtype\\n        ToiletPaperHangerType - rtype\\n        MicrowaveType - rtype\\n        SofaType - rtype\\n        CartType - rtype\\n        ArmChairType - rtype\\n        HandTowelHolderType - rtype\\n        TVStandType - rtype\\n        BathtubBasinType - rtype\\n        CoffeeMachineType - rtype\\n        ToasterType - rtype\\n        LaundryHamperType - rtype\\n        DrawerType - rtype\\n        FridgeType - rtype\\n        ToiletType - rtype\\n        ShelfType - rtype\\n        PaintingHangerType - rtype\\n        CounterTopType - rtype\\n\\n\\n        AlarmClock_bar__minus_01_dot_83_bar__plus_00_dot_88_bar__plus_00_dot_45 - object\\n        AlarmClock_bar__minus_01_dot_83_bar__plus_01_dot_72_bar__plus_00_dot_37 - object\\n        BaseballBat_bar__plus_01_dot_95_bar__plus_00_dot_66_bar__minus_01_dot_81 - object\\n        BasketBall_bar__plus_01_dot_98_bar__plus_00_dot_12_bar__plus_00_dot_21 - object\\n        Blinds_bar__plus_00_dot_60_bar__plus_02_dot_16_bar__minus_01_dot_92 - object\\n        Blinds_bar__minus_00_dot_40_bar__plus_02_dot_16_bar__minus_01_dot_92 - object\\n        Book_bar__plus_00_dot_80_bar__plus_00_dot_78_bar__plus_02_dot_23 - object\\n        Bowl_bar__minus_00_dot_48_bar__plus_00_dot_86_bar__minus_01_dot_70 - object\\n        Bowl_bar__minus_01_dot_74_bar__plus_00_dot_88_bar__plus_00_dot_75 - object\\n        CD_bar__minus_00_dot_55_bar__plus_00_dot_65_bar__minus_00_dot_85 - object\\n        CD_bar__minus_00_dot_90_bar__plus_00_dot_86_bar__minus_00_dot_84 - object\\n        CD_bar__minus_01_dot_92_bar__plus_00_dot_88_bar__plus_00_dot_58 - object\\n        CellPhone_bar__minus_01_dot_40_bar__plus_00_dot_88_bar__plus_00_dot_67 - object\\n        Chair_bar__minus_00_dot_13_bar__plus_00_dot_53_bar__minus_01_dot_58 - object\\n        Chair_bar__minus_01_dot_42_bar__plus_00_dot_53_bar__plus_00_dot_81 - object\\n        CreditCard_bar__minus_00_dot_51_bar__plus_00_dot_65_bar__minus_00_dot_61 - object\\n        DeskLamp_bar__minus_02_dot_30_bar__plus_00_dot_87_bar__plus_00_dot_75 - object\\n        KeyChain_bar__minus_00_dot_40_bar__plus_00_dot_86_bar__minus_00_dot_84 - object\\n        KeyChain_bar__minus_00_dot_51_bar__plus_00_dot_37_bar__minus_00_dot_85 - object\\n        Laptop_bar__plus_01_dot_21_bar__plus_00_dot_78_bar__plus_00_dot_79 - object\\n        Laptop_bar__plus_01_dot_61_bar__plus_00_dot_78_bar__plus_01_dot_37 - object\\n        LaundryHamperLid_bar__plus_00_dot_16_bar__plus_00_dot_48_bar__plus_02_dot_64 - object\\n        LightSwitch_bar__plus_02_dot_15_bar__plus_01_dot_23_bar__minus_00_dot_52 - object\\n        Mirror_bar__minus_01_dot_36_bar__plus_01_dot_43_bar__plus_02_dot_86 - object\\n        Mug_bar__minus_00_dot_40_bar__plus_00_dot_86_bar__minus_01_dot_18 - object\\n        Mug_bar__minus_00_dot_74_bar__plus_00_dot_86_bar__minus_00_dot_66 - object\\n        Mug_bar__minus_01_dot_83_bar__plus_00_dot_88_bar__plus_00_dot_33 - object\\n        Pencil_bar__minus_02_dot_05_bar__plus_01_dot_35_bar__plus_00_dot_45 - object\\n        Pencil_bar__minus_02_dot_24_bar__plus_00_dot_39_bar__plus_00_dot_76 - object\\n        Pen_bar__minus_00_dot_65_bar__plus_00_dot_86_bar__minus_01_dot_01 - object\\n        Pen_bar__minus_01_dot_94_bar__plus_01_dot_73_bar__plus_00_dot_41 - object\\n        Pen_bar__minus_01_dot_99_bar__plus_00_dot_39_bar__plus_00_dot_72 - object\\n        Pillow_bar__plus_01_dot_21_bar__plus_00_dot_92_bar__plus_01_dot_37 - object\\n        Pillow_bar__plus_01_dot_61_bar__plus_00_dot_92_bar__plus_02_dot_23 - object\\n        Window_bar__plus_00_dot_58_bar__plus_01_dot_53_bar__minus_01_dot_95 - object\\n        Window_bar__minus_00_dot_42_bar__plus_01_dot_53_bar__minus_01_dot_95 - object\\n        Bed_bar__plus_01_dot_23_bar__plus_00_dot_00_bar__plus_01_dot_67 - receptacle\\n        Desk_bar__minus_00_dot_57_bar__plus_00_dot_00_bar__minus_01_dot_35 - receptacle\\n        Desk_bar__minus_01_dot_58_bar__plus_00_dot_02_bar__plus_00_dot_67 - receptacle\\n        Drawer_bar__minus_00_dot_51_bar__plus_00_dot_19_bar__minus_00_dot_85 - receptacle\\n        Drawer_bar__minus_00_dot_51_bar__plus_00_dot_47_bar__minus_00_dot_85 - receptacle\\n        Drawer_bar__minus_00_dot_51_bar__plus_00_dot_72_bar__minus_00_dot_85 - receptacle\\n        Drawer_bar__minus_02_dot_07_bar__plus_00_dot_21_bar__plus_00_dot_73 - receptacle\\n        Drawer_bar__minus_02_dot_07_bar__plus_00_dot_49_bar__plus_00_dot_73 - receptacle\\n        Drawer_bar__minus_02_dot_07_bar__plus_00_dot_74_bar__plus_00_dot_73 - receptacle\\n        GarbageCan_bar__minus_00_dot_75_bar__plus_00_dot_00_bar__minus_00_dot_34 - receptacle\\n        LaundryHamper_bar__plus_00_dot_16_bar__plus_00_dot_01_bar__plus_02_dot_64 - receptacle\\n        Safe_bar__minus_02_dot_18_bar__plus_00_dot_00_bar__plus_02_dot_58 - receptacle\\n        Shelf_bar__minus_01_dot_29_bar__plus_00_dot_87_bar__plus_00_dot_41 - receptacle\\n        Shelf_bar__minus_01_dot_29_bar__plus_01_dot_34_bar__plus_00_dot_41 - receptacle\\n        Shelf_bar__minus_01_dot_29_bar__plus_01_dot_72_bar__plus_00_dot_41 - receptacle\\n        Shelf_bar__minus_01_dot_96_bar__plus_00_dot_87_bar__plus_00_dot_41 - receptacle\\n        Shelf_bar__minus_01_dot_96_bar__plus_01_dot_34_bar__plus_00_dot_41 - receptacle\\n        Shelf_bar__minus_01_dot_96_bar__plus_01_dot_72_bar__plus_00_dot_41 - receptacle\\n        loc_bar__minus_5_bar_6_bar_3_bar_45 - location\\n        loc_bar_1_bar_0_bar_3_bar_60 - location\\n        loc_bar_1_bar__minus_5_bar_3_bar_60 - location\\n        loc_bar_2_bar__minus_6_bar_3_bar_0 - location\\n        loc_bar_2_bar__minus_5_bar_2_bar_15 - location\\n        loc_bar__minus_4_bar_8_bar_3_bar_60 - location\\n        loc_bar_6_bar_0_bar_1_bar_60 - location\\n        loc_bar_0_bar_9_bar_0_bar_60 - location\\n        loc_bar_6_bar__minus_5_bar_2_bar_60 - location\\n        loc_bar__minus_1_bar_3_bar_3_bar_45 - location\\n        loc_bar__minus_4_bar_5_bar_2_bar_0 - location\\n        loc_bar__minus_8_bar_5_bar_2_bar_60 - location\\n        loc_bar__minus_1_bar_6_bar_1_bar_45 - location\\n        loc_bar_6_bar__minus_2_bar_1_bar_30 - location\\n        loc_bar_2_bar__minus_6_bar_3_bar__minus_30 - location\\n        loc_bar_2_bar__minus_6_bar_2_bar__minus_30 - location\\n        loc_bar_1_bar__minus_5_bar_3_bar_45 - location\\n        loc_bar_0_bar__minus_3_bar_3_bar_60 - location\\n        loc_bar__minus_5_bar_9_bar_0_bar_15 - location\\n        loc_bar__minus_4_bar_6_bar_2_bar_30 - location\\n        loc_bar_2_bar__minus_6_bar_3_bar_60 - location\\n        loc_bar__minus_3_bar_4_bar_3_bar_15 - location\\n        loc_bar__minus_7_bar_6_bar_2_bar_30 - location\\n        loc_bar__minus_7_bar_5_bar_2_bar_0 - location\\n        loc_bar__minus_2_bar_2_bar_3_bar_15 - location\\n        loc_bar__minus_7_bar_5_bar_2_bar_60 - location\\n        loc_bar__minus_6_bar_8_bar_0_bar_30 - location\\n        )\\n    \\n\\n(:init\\n\\n\\n        (receptacleType Drawer_bar__minus_00_dot_51_bar__plus_00_dot_47_bar__minus_00_dot_85 DrawerType)\\n        (receptacleType LaundryHamper_bar__plus_00_dot_16_bar__plus_00_dot_01_bar__plus_02_dot_64 LaundryHamperType)\\n        (receptacleType Drawer_bar__minus_00_dot_51_bar__plus_00_dot_19_bar__minus_00_dot_85 DrawerType)\\n        (receptacleType Drawer_bar__minus_02_dot_07_bar__plus_00_dot_21_bar__plus_00_dot_73 DrawerType)\\n        (receptacleType Drawer_bar__minus_02_dot_07_bar__plus_00_dot_49_bar__plus_00_dot_73 DrawerType)\\n        (receptacleType Desk_bar__minus_01_dot_58_bar__plus_00_dot_02_bar__plus_00_dot_67 DeskType)\\n        (receptacleType Shelf_bar__minus_01_dot_29_bar__plus_01_dot_72_bar__plus_00_dot_41 ShelfType)\\n        (receptacleType Drawer_bar__minus_02_dot_07_bar__plus_00_dot_74_bar__plus_00_dot_73 DrawerType)\\n        (receptacleType Shelf_bar__minus_01_dot_96_bar__plus_01_dot_72_bar__plus_00_dot_41 ShelfType)\\n        (receptacleType Shelf_bar__minus_01_dot_96_bar__plus_01_dot_34_bar__plus_00_dot_41 ShelfType)\\n        (receptacleType Drawer_bar__minus_00_dot_51_bar__plus_00_dot_72_bar__minus_00_dot_85 DrawerType)\\n        (receptacleType Shelf_bar__minus_01_dot_29_bar__plus_00_dot_87_bar__plus_00_dot_41 ShelfType)\\n        (receptacleType Safe_bar__minus_02_dot_18_bar__plus_00_dot_00_bar__plus_02_dot_58 SafeType)\\n        (receptacleType Shelf_bar__minus_01_dot_29_bar__plus_01_dot_34_bar__plus_00_dot_41 ShelfType)\\n        (receptacleType GarbageCan_bar__minus_00_dot_75_bar__plus_00_dot_00_bar__minus_00_dot_34 GarbageCanType)\\n        (receptacleType Bed_bar__plus_01_dot_23_bar__plus_00_dot_00_bar__plus_01_dot_67 BedType)\\n        (receptacleType Shelf_bar__minus_01_dot_96_bar__plus_00_dot_87_bar__plus_00_dot_41 ShelfType)\\n        (receptacleType Desk_bar__minus_00_dot_57_bar__plus_00_dot_00_bar__minus_01_dot_35 DeskType)\\n        (objectType Pillow_bar__plus_01_dot_21_bar__plus_00_dot_92_bar__plus_01_dot_37 PillowType)\\n        (objectType LightSwitch_bar__plus_02_dot_15_bar__plus_01_dot_23_bar__minus_00_dot_52 LightSwitchType)\\n        (objectType AlarmClock_bar__minus_01_dot_83_bar__plus_00_dot_88_bar__plus_00_dot_45 AlarmClockType)\\n        (objectType Pillow_bar__plus_01_dot_61_bar__plus_00_dot_92_bar__plus_02_dot_23 PillowType)\\n        (objectType KeyChain_bar__minus_00_dot_51_bar__plus_00_dot_37_bar__minus_00_dot_85 KeyChainType)\\n        (objectType Mirror_bar__minus_01_dot_36_bar__plus_01_dot_43_bar__plus_02_dot_86 MirrorType)\\n        (objectType DeskLamp_bar__minus_02_dot_30_bar__plus_00_dot_87_bar__plus_00_dot_75 DeskLampType)\\n        (objectType Bowl_bar__minus_00_dot_48_bar__plus_00_dot_86_bar__minus_01_dot_70 BowlType)\\n        (objectType Chair_bar__minus_01_dot_42_bar__plus_00_dot_53_bar__plus_00_dot_81 ChairType)\\n        (objectType Pen_bar__minus_01_dot_94_bar__plus_01_dot_73_bar__plus_00_dot_41 PenType)\\n        (objectType Pencil_bar__minus_02_dot_05_bar__plus_01_dot_35_bar__plus_00_dot_45 PencilType)\\n        (objectType Blinds_bar__minus_00_dot_40_bar__plus_02_dot_16_bar__minus_01_dot_92 BlindsType)\\n        (objectType Laptop_bar__plus_01_dot_61_bar__plus_00_dot_78_bar__plus_01_dot_37 LaptopType)\\n        (objectType Window_bar__minus_00_dot_42_bar__plus_01_dot_53_bar__minus_01_dot_95 WindowType)\\n        (objectType Window_bar__plus_00_dot_58_bar__plus_01_dot_53_bar__minus_01_dot_95 WindowType)\\n        (objectType Pencil_bar__minus_02_dot_24_bar__plus_00_dot_39_bar__plus_00_dot_76 PencilType)\\n        (objectType CellPhone_bar__minus_01_dot_40_bar__plus_00_dot_88_bar__plus_00_dot_67 CellPhoneType)\\n        (objectType Mug_bar__minus_00_dot_40_bar__plus_00_dot_86_bar__minus_01_dot_18 MugType)\\n        (objectType CD_bar__minus_00_dot_90_bar__plus_00_dot_86_bar__minus_00_dot_84 CDType)\\n        (objectType CreditCard_bar__minus_00_dot_51_bar__plus_00_dot_65_bar__minus_00_dot_61 CreditCardType)\\n        (objectType CD_bar__minus_00_dot_55_bar__plus_00_dot_65_bar__minus_00_dot_85 CDType)\\n        (objectType BaseballBat_bar__plus_01_dot_95_bar__plus_00_dot_66_bar__minus_01_dot_81 BaseballBatType)\\n        (objectType LaundryHamperLid_bar__plus_00_dot_16_bar__plus_00_dot_48_bar__plus_02_dot_64 LaundryHamperLidType)\\n        (objectType KeyChain_bar__minus_00_dot_40_bar__plus_00_dot_86_bar__minus_00_dot_84 KeyChainType)\\n        (objectType CD_bar__minus_01_dot_92_bar__plus_00_dot_88_bar__plus_00_dot_58 CDType)\\n        (objectType Chair_bar__minus_00_dot_13_bar__plus_00_dot_53_bar__minus_01_dot_58 ChairType)\\n        (objectType Bowl_bar__minus_01_dot_74_bar__plus_00_dot_88_bar__plus_00_dot_75 BowlType)\\n        (objectType AlarmClock_bar__minus_01_dot_83_bar__plus_01_dot_72_bar__plus_00_dot_37 AlarmClockType)\\n        (objectType Pen_bar__minus_00_dot_65_bar__plus_00_dot_86_bar__minus_01_dot_01 PenType)\\n        (objectType Blinds_bar__plus_00_dot_60_bar__plus_02_dot_16_bar__minus_01_dot_92 BlindsType)\\n        (objectType Book_bar__plus_00_dot_80_bar__plus_00_dot_78_bar__plus_02_dot_23 BookType)\\n        (objectType Mug_bar__minus_01_dot_83_bar__plus_00_dot_88_bar__plus_00_dot_33 MugType)\\n        (objectType Mug_bar__minus_00_dot_74_bar__plus_00_dot_86_bar__minus_00_dot_66 MugType)\\n        (objectType BasketBall_bar__plus_01_dot_98_bar__plus_00_dot_12_bar__plus_00_dot_21 BasketBallType)\\n        (objectType Laptop_bar__plus_01_dot_21_bar__plus_00_dot_78_bar__plus_00_dot_79 LaptopType)\\n        (objectType Pen_bar__minus_01_dot_99_bar__plus_00_dot_39_bar__plus_00_dot_72 PenType)\\n        (canContain DrawerType PenType)\\n        (canContain DrawerType CellPhoneType)\\n        (canContain DrawerType CreditCardType)\\n        (canContain DrawerType CDType)\\n        (canContain DrawerType PencilType)\\n        (canContain DrawerType KeyChainType)\\n        (canContain DrawerType BookType)\\n        (canContain DrawerType PenType)\\n        (canContain DrawerType CellPhoneType)\\n        (canContain DrawerType CreditCardType)\\n        (canContain DrawerType CDType)\\n        (canContain DrawerType PencilType)\\n        (canContain DrawerType KeyChainType)\\n        (canContain DrawerType BookType)\\n        (canContain DrawerType PenType)\\n        (canContain DrawerType CellPhoneType)\\n        (canContain DrawerType CreditCardType)\\n        (canContain DrawerType CDType)\\n        (canContain DrawerType PencilType)\\n        (canContain DrawerType KeyChainType)\\n        (canContain DrawerType BookType)\\n        (canContain DrawerType PenType)\\n        (canContain DrawerType CellPhoneType)\\n        (canContain DrawerType CreditCardType)\\n        (canContain DrawerType CDType)\\n        (canContain DrawerType PencilType)\\n        (canContain DrawerType KeyChainType)\\n        (canContain DrawerType BookType)\\n        (canContain DeskType LaptopType)\\n        (canContain DeskType AlarmClockType)\\n        (canContain DeskType PenType)\\n        (canContain DeskType CellPhoneType)\\n        (canContain DeskType BowlType)\\n        (canContain DeskType CreditCardType)\\n        (canContain DeskType CDType)\\n        (canContain DeskType PencilType)\\n        (canContain DeskType KeyChainType)\\n        (canContain DeskType MugType)\\n        (canContain DeskType BasketBallType)\\n        (canContain DeskType BookType)\\n        (canContain ShelfType AlarmClockType)\\n        (canContain ShelfType PenType)\\n        (canContain ShelfType CellPhoneType)\\n        (canContain ShelfType BowlType)\\n        (canContain ShelfType CreditCardType)\\n        (canContain ShelfType CDType)\\n        (canContain ShelfType PencilType)\\n        (canContain ShelfType KeyChainType)\\n        (canContain ShelfType MugType)\\n        (canContain ShelfType BookType)\\n        (canContain DrawerType PenType)\\n        (canContain DrawerType CellPhoneType)\\n        (canContain DrawerType CreditCardType)\\n        (canContain DrawerType CDType)\\n        (canContain DrawerType PencilType)\\n        (canContain DrawerType KeyChainType)\\n        (canContain DrawerType BookType)\\n        (canContain ShelfType AlarmClockType)\\n        (canContain ShelfType PenType)\\n        (canContain ShelfType CellPhoneType)\\n        (canContain ShelfType BowlType)\\n        (canContain ShelfType CreditCardType)\\n        (canContain ShelfType CDType)\\n        (canContain ShelfType PencilType)\\n        (canContain ShelfType KeyChainType)\\n        (canContain ShelfType MugType)\\n        (canContain ShelfType BookType)\\n        (canContain ShelfType AlarmClockType)\\n        (canContain ShelfType PenType)\\n        (canContain ShelfType CellPhoneType)\\n        (canContain ShelfType BowlType)\\n        (canContain ShelfType CreditCardType)\\n        (canContain ShelfType CDType)\\n        (canContain ShelfType PencilType)\\n        (canContain ShelfType KeyChainType)\\n        (canContain ShelfType MugType)\\n        (canContain ShelfType BookType)\\n        (canContain DrawerType PenType)\\n        (canContain DrawerType CellPhoneType)\\n        (canContain DrawerType CreditCardType)\\n        (canContain DrawerType CDType)\\n        (canContain DrawerType PencilType)\\n        (canContain DrawerType KeyChainType)\\n        (canContain DrawerType BookType)\\n        (canContain ShelfType AlarmClockType)\\n        (canContain ShelfType PenType)\\n        (canContain ShelfType CellPhoneType)\\n        (canContain ShelfType BowlType)\\n        (canContain ShelfType CreditCardType)\\n        (canContain ShelfType CDType)\\n        (canContain ShelfType PencilType)\\n        (canContain ShelfType KeyChainType)\\n        (canContain ShelfType MugType)\\n        (canContain ShelfType BookType)\\n        (canContain SafeType CellPhoneType)\\n        (canContain SafeType KeyChainType)\\n        (canContain SafeType CreditCardType)\\n        (canContain SafeType CDType)\\n        (canContain ShelfType AlarmClockType)\\n        (canContain ShelfType PenType)\\n        (canContain ShelfType CellPhoneType)\\n        (canContain ShelfType BowlType)\\n        (canContain ShelfType CreditCardType)\\n        (canContain ShelfType CDType)\\n        (canContain ShelfType PencilType)\\n        (canContain ShelfType KeyChainType)\\n        (canContain ShelfType MugType)\\n        (canContain ShelfType BookType)\\n        (canContain GarbageCanType PenType)\\n        (canContain GarbageCanType CDType)\\n        (canContain GarbageCanType PencilType)\\n        (canContain BedType CellPhoneType)\\n        (canContain BedType BaseballBatType)\\n        (canContain BedType PillowType)\\n        (canContain BedType LaptopType)\\n        (canContain BedType BasketBallType)\\n        (canContain BedType BookType)\\n        (canContain ShelfType AlarmClockType)\\n        (canContain ShelfType PenType)\\n        (canContain ShelfType CellPhoneType)\\n        (canContain ShelfType BowlType)\\n        (canContain ShelfType CreditCardType)\\n        (canContain ShelfType CDType)\\n        (canContain ShelfType PencilType)\\n        (canContain ShelfType KeyChainType)\\n        (canContain ShelfType MugType)\\n        (canContain ShelfType BookType)\\n        (canContain DeskType LaptopType)\\n        (canContain DeskType AlarmClockType)\\n        (canContain DeskType PenType)\\n        (canContain DeskType CellPhoneType)\\n        (canContain DeskType BowlType)\\n        (canContain DeskType CreditCardType)\\n        (canContain DeskType CDType)\\n        (canContain DeskType PencilType)\\n        (canContain DeskType KeyChainType)\\n        (canContain DeskType MugType)\\n        (canContain DeskType BasketBallType)\\n        (canContain DeskType BookType)\\n        (pickupable Pillow_bar__plus_01_dot_21_bar__plus_00_dot_92_bar__plus_01_dot_37)\\n        (pickupable AlarmClock_bar__minus_01_dot_83_bar__plus_00_dot_88_bar__plus_00_dot_45)\\n        (pickupable Pillow_bar__plus_01_dot_61_bar__plus_00_dot_92_bar__plus_02_dot_23)\\n        (pickupable KeyChain_bar__minus_00_dot_51_bar__plus_00_dot_37_bar__minus_00_dot_85)\\n        (pickupable Bowl_bar__minus_00_dot_48_bar__plus_00_dot_86_bar__minus_01_dot_70)\\n        (pickupable Pen_bar__minus_01_dot_94_bar__plus_01_dot_73_bar__plus_00_dot_41)\\n        (pickupable Pencil_bar__minus_02_dot_05_bar__plus_01_dot_35_bar__plus_00_dot_45)\\n        (pickupable Laptop_bar__plus_01_dot_61_bar__plus_00_dot_78_bar__plus_01_dot_37)\\n        (pickupable Pencil_bar__minus_02_dot_24_bar__plus_00_dot_39_bar__plus_00_dot_76)\\n        (pickupable CellPhone_bar__minus_01_dot_40_bar__plus_00_dot_88_bar__plus_00_dot_67)\\n        (pickupable Mug_bar__minus_00_dot_40_bar__plus_00_dot_86_bar__minus_01_dot_18)\\n        (pickupable CD_bar__minus_00_dot_90_bar__plus_00_dot_86_bar__minus_00_dot_84)\\n        (pickupable CreditCard_bar__minus_00_dot_51_bar__plus_00_dot_65_bar__minus_00_dot_61)\\n        (pickupable CD_bar__minus_00_dot_55_bar__plus_00_dot_65_bar__minus_00_dot_85)\\n        (pickupable BaseballBat_bar__plus_01_dot_95_bar__plus_00_dot_66_bar__minus_01_dot_81)\\n        (pickupable KeyChain_bar__minus_00_dot_40_bar__plus_00_dot_86_bar__minus_00_dot_84)\\n        (pickupable CD_bar__minus_01_dot_92_bar__plus_00_dot_88_bar__plus_00_dot_58)\\n        (pickupable Bowl_bar__minus_01_dot_74_bar__plus_00_dot_88_bar__plus_00_dot_75)\\n        (pickupable AlarmClock_bar__minus_01_dot_83_bar__plus_01_dot_72_bar__plus_00_dot_37)\\n        (pickupable Pen_bar__minus_00_dot_65_bar__plus_00_dot_86_bar__minus_01_dot_01)\\n        (pickupable Book_bar__plus_00_dot_80_bar__plus_00_dot_78_bar__plus_02_dot_23)\\n        (pickupable Mug_bar__minus_01_dot_83_bar__plus_00_dot_88_bar__plus_00_dot_33)\\n        (pickupable Mug_bar__minus_00_dot_74_bar__plus_00_dot_86_bar__minus_00_dot_66)\\n        (pickupable BasketBall_bar__plus_01_dot_98_bar__plus_00_dot_12_bar__plus_00_dot_21)\\n        (pickupable Laptop_bar__plus_01_dot_21_bar__plus_00_dot_78_bar__plus_00_dot_79)\\n        (pickupable Pen_bar__minus_01_dot_99_bar__plus_00_dot_39_bar__plus_00_dot_72)\\n        (isReceptacleObject Bowl_bar__minus_00_dot_48_bar__plus_00_dot_86_bar__minus_01_dot_70)\\n        (isReceptacleObject Mug_bar__minus_00_dot_40_bar__plus_00_dot_86_bar__minus_01_dot_18)\\n        (isReceptacleObject Bowl_bar__minus_01_dot_74_bar__plus_00_dot_88_bar__plus_00_dot_75)\\n        (isReceptacleObject Mug_bar__minus_01_dot_83_bar__plus_00_dot_88_bar__plus_00_dot_33)\\n        (isReceptacleObject Mug_bar__minus_00_dot_74_bar__plus_00_dot_86_bar__minus_00_dot_66)\\n        (openable Drawer_bar__minus_00_dot_51_bar__plus_00_dot_19_bar__minus_00_dot_85)\\n        (openable Drawer_bar__minus_02_dot_07_bar__plus_00_dot_74_bar__plus_00_dot_73)\\n        (openable Drawer_bar__minus_00_dot_51_bar__plus_00_dot_72_bar__minus_00_dot_85)\\n        (openable Safe_bar__minus_02_dot_18_bar__plus_00_dot_00_bar__plus_02_dot_58)\\n        \\n        (atLocation agent1 loc_bar__minus_6_bar_8_bar_0_bar_30)\\n        \\n        (cleanable Bowl_bar__minus_00_dot_48_bar__plus_00_dot_86_bar__minus_01_dot_70)\\n        (cleanable Mug_bar__minus_00_dot_40_bar__plus_00_dot_86_bar__minus_01_dot_18)\\n        (cleanable Bowl_bar__minus_01_dot_74_bar__plus_00_dot_88_bar__plus_00_dot_75)\\n        (cleanable Mug_bar__minus_01_dot_83_bar__plus_00_dot_88_bar__plus_00_dot_33)\\n        (cleanable Mug_bar__minus_00_dot_74_bar__plus_00_dot_86_bar__minus_00_dot_66)\\n        \\n        (heatable Mug_bar__minus_00_dot_40_bar__plus_00_dot_86_bar__minus_01_dot_18)\\n        (heatable Mug_bar__minus_01_dot_83_bar__plus_00_dot_88_bar__plus_00_dot_33)\\n        (heatable Mug_bar__minus_00_dot_74_bar__plus_00_dot_86_bar__minus_00_dot_66)\\n        (coolable Bowl_bar__minus_00_dot_48_bar__plus_00_dot_86_bar__minus_01_dot_70)\\n        (coolable Mug_bar__minus_00_dot_40_bar__plus_00_dot_86_bar__minus_01_dot_18)\\n        (coolable Bowl_bar__minus_01_dot_74_bar__plus_00_dot_88_bar__plus_00_dot_75)\\n        (coolable Mug_bar__minus_01_dot_83_bar__plus_00_dot_88_bar__plus_00_dot_33)\\n        (coolable Mug_bar__minus_00_dot_74_bar__plus_00_dot_86_bar__minus_00_dot_66)\\n        \\n        \\n        (toggleable DeskLamp_bar__minus_02_dot_30_bar__plus_00_dot_87_bar__plus_00_dot_75)\\n        \\n        \\n        \\n        \\n        (inReceptacle AlarmClock_bar__minus_01_dot_83_bar__plus_00_dot_88_bar__plus_00_dot_45 Desk_bar__minus_01_dot_58_bar__plus_00_dot_02_bar__plus_00_dot_67)\\n        (inReceptacle Mug_bar__minus_01_dot_83_bar__plus_00_dot_88_bar__plus_00_dot_33 Desk_bar__minus_01_dot_58_bar__plus_00_dot_02_bar__plus_00_dot_67)\\n        (inReceptacle CellPhone_bar__minus_01_dot_40_bar__plus_00_dot_88_bar__plus_00_dot_67 Desk_bar__minus_01_dot_58_bar__plus_00_dot_02_bar__plus_00_dot_67)\\n        (inReceptacle CD_bar__minus_01_dot_92_bar__plus_00_dot_88_bar__plus_00_dot_58 Desk_bar__minus_01_dot_58_bar__plus_00_dot_02_bar__plus_00_dot_67)\\n        (inReceptacle Bowl_bar__minus_01_dot_74_bar__plus_00_dot_88_bar__plus_00_dot_75 Desk_bar__minus_01_dot_58_bar__plus_00_dot_02_bar__plus_00_dot_67)\\n        (inReceptacle DeskLamp_bar__minus_02_dot_30_bar__plus_00_dot_87_bar__plus_00_dot_75 Desk_bar__minus_01_dot_58_bar__plus_00_dot_02_bar__plus_00_dot_67)\\n        (inReceptacle KeyChain_bar__minus_00_dot_51_bar__plus_00_dot_37_bar__minus_00_dot_85 Drawer_bar__minus_00_dot_51_bar__plus_00_dot_47_bar__minus_00_dot_85)\\n        (inReceptacle Pen_bar__minus_01_dot_99_bar__plus_00_dot_39_bar__plus_00_dot_72 Drawer_bar__minus_02_dot_07_bar__plus_00_dot_49_bar__plus_00_dot_73)\\n        (inReceptacle Pencil_bar__minus_02_dot_24_bar__plus_00_dot_39_bar__plus_00_dot_76 Drawer_bar__minus_02_dot_07_bar__plus_00_dot_49_bar__plus_00_dot_73)\\n        (inReceptacle Mug_bar__minus_00_dot_74_bar__plus_00_dot_86_bar__minus_00_dot_66 Desk_bar__minus_00_dot_57_bar__plus_00_dot_00_bar__minus_01_dot_35)\\n        (inReceptacle KeyChain_bar__minus_00_dot_40_bar__plus_00_dot_86_bar__minus_00_dot_84 Desk_bar__minus_00_dot_57_bar__plus_00_dot_00_bar__minus_01_dot_35)\\n        (inReceptacle Mug_bar__minus_00_dot_40_bar__plus_00_dot_86_bar__minus_01_dot_18 Desk_bar__minus_00_dot_57_bar__plus_00_dot_00_bar__minus_01_dot_35)\\n        (inReceptacle CD_bar__minus_00_dot_90_bar__plus_00_dot_86_bar__minus_00_dot_84 Desk_bar__minus_00_dot_57_bar__plus_00_dot_00_bar__minus_01_dot_35)\\n        (inReceptacle Bowl_bar__minus_00_dot_48_bar__plus_00_dot_86_bar__minus_01_dot_70 Desk_bar__minus_00_dot_57_bar__plus_00_dot_00_bar__minus_01_dot_35)\\n        (inReceptacle Pen_bar__minus_00_dot_65_bar__plus_00_dot_86_bar__minus_01_dot_01 Desk_bar__minus_00_dot_57_bar__plus_00_dot_00_bar__minus_01_dot_35)\\n        (inReceptacle Pillow_bar__plus_01_dot_21_bar__plus_00_dot_92_bar__plus_01_dot_37 Bed_bar__plus_01_dot_23_bar__plus_00_dot_00_bar__plus_01_dot_67)\\n        (inReceptacle Book_bar__plus_00_dot_80_bar__plus_00_dot_78_bar__plus_02_dot_23 Bed_bar__plus_01_dot_23_bar__plus_00_dot_00_bar__plus_01_dot_67)\\n        (inReceptacle Pillow_bar__plus_01_dot_61_bar__plus_00_dot_92_bar__plus_02_dot_23 Bed_bar__plus_01_dot_23_bar__plus_00_dot_00_bar__plus_01_dot_67)\\n        (inReceptacle Laptop_bar__plus_01_dot_61_bar__plus_00_dot_78_bar__plus_01_dot_37 Bed_bar__plus_01_dot_23_bar__plus_00_dot_00_bar__plus_01_dot_67)\\n        (inReceptacle Laptop_bar__plus_01_dot_21_bar__plus_00_dot_78_bar__plus_00_dot_79 Bed_bar__plus_01_dot_23_bar__plus_00_dot_00_bar__plus_01_dot_67)\\n        (inReceptacle CD_bar__minus_00_dot_55_bar__plus_00_dot_65_bar__minus_00_dot_85 Drawer_bar__minus_00_dot_51_bar__plus_00_dot_72_bar__minus_00_dot_85)\\n        (inReceptacle CreditCard_bar__minus_00_dot_51_bar__plus_00_dot_65_bar__minus_00_dot_61 Drawer_bar__minus_00_dot_51_bar__plus_00_dot_72_bar__minus_00_dot_85)\\n        (inReceptacle Pen_bar__minus_01_dot_94_bar__plus_01_dot_73_bar__plus_00_dot_41 Shelf_bar__minus_01_dot_96_bar__plus_01_dot_72_bar__plus_00_dot_41)\\n        (inReceptacle AlarmClock_bar__minus_01_dot_83_bar__plus_01_dot_72_bar__plus_00_dot_37 Shelf_bar__minus_01_dot_96_bar__plus_01_dot_72_bar__plus_00_dot_41)\\n        (inReceptacle Pencil_bar__minus_02_dot_05_bar__plus_01_dot_35_bar__plus_00_dot_45 Shelf_bar__minus_01_dot_96_bar__plus_01_dot_34_bar__plus_00_dot_41)\\n        (inReceptacle DeskLamp_bar__minus_02_dot_30_bar__plus_00_dot_87_bar__plus_00_dot_75 Shelf_bar__minus_01_dot_96_bar__plus_00_dot_87_bar__plus_00_dot_41)\\n        (inReceptacle AlarmClock_bar__minus_01_dot_83_bar__plus_00_dot_88_bar__plus_00_dot_45 Shelf_bar__minus_01_dot_96_bar__plus_00_dot_87_bar__plus_00_dot_41)\\n        (inReceptacle Mug_bar__minus_01_dot_83_bar__plus_00_dot_88_bar__plus_00_dot_33 Shelf_bar__minus_01_dot_96_bar__plus_00_dot_87_bar__plus_00_dot_41)\\n        \\n        \\n        (receptacleAtLocation Bed_bar__plus_01_dot_23_bar__plus_00_dot_00_bar__plus_01_dot_67 loc_bar__minus_1_bar_6_bar_1_bar_45)\\n        (receptacleAtLocation Desk_bar__minus_00_dot_57_bar__plus_00_dot_00_bar__minus_01_dot_35 loc_bar_1_bar__minus_5_bar_3_bar_60)\\n        (receptacleAtLocation Desk_bar__minus_01_dot_58_bar__plus_00_dot_02_bar__plus_00_dot_67 loc_bar__minus_1_bar_3_bar_3_bar_45)\\n        (receptacleAtLocation Drawer_bar__minus_00_dot_51_bar__plus_00_dot_19_bar__minus_00_dot_85 loc_bar_2_bar__minus_6_bar_3_bar_60)\\n        (receptacleAtLocation Drawer_bar__minus_00_dot_51_bar__plus_00_dot_47_bar__minus_00_dot_85 loc_bar_0_bar__minus_3_bar_3_bar_60)\\n        (receptacleAtLocation Drawer_bar__minus_00_dot_51_bar__plus_00_dot_72_bar__minus_00_dot_85 loc_bar_1_bar__minus_5_bar_3_bar_45)\\n        (receptacleAtLocation Drawer_bar__minus_02_dot_07_bar__plus_00_dot_21_bar__plus_00_dot_73 loc_bar__minus_8_bar_5_bar_2_bar_60)\\n        (receptacleAtLocation Drawer_bar__minus_02_dot_07_bar__plus_00_dot_49_bar__plus_00_dot_73 loc_bar__minus_8_bar_5_bar_2_bar_60)\\n        (receptacleAtLocation Drawer_bar__minus_02_dot_07_bar__plus_00_dot_74_bar__plus_00_dot_73 loc_bar__minus_5_bar_6_bar_3_bar_45)\\n        (receptacleAtLocation GarbageCan_bar__minus_00_dot_75_bar__plus_00_dot_00_bar__minus_00_dot_34 loc_bar_1_bar_0_bar_3_bar_60)\\n        (receptacleAtLocation LaundryHamper_bar__plus_00_dot_16_bar__plus_00_dot_01_bar__plus_02_dot_64 loc_bar_0_bar_9_bar_0_bar_60)\\n        (receptacleAtLocation Safe_bar__minus_02_dot_18_bar__plus_00_dot_00_bar__plus_02_dot_58 loc_bar__minus_4_bar_8_bar_3_bar_60)\\n        (receptacleAtLocation Shelf_bar__minus_01_dot_29_bar__plus_00_dot_87_bar__plus_00_dot_41 loc_bar__minus_4_bar_6_bar_2_bar_30)\\n        (receptacleAtLocation Shelf_bar__minus_01_dot_29_bar__plus_01_dot_34_bar__plus_00_dot_41 loc_bar__minus_2_bar_2_bar_3_bar_15)\\n        (receptacleAtLocation Shelf_bar__minus_01_dot_29_bar__plus_01_dot_72_bar__plus_00_dot_41 loc_bar__minus_4_bar_5_bar_2_bar_0)\\n        (receptacleAtLocation Shelf_bar__minus_01_dot_96_bar__plus_00_dot_87_bar__plus_00_dot_41 loc_bar__minus_7_bar_6_bar_2_bar_30)\\n        (receptacleAtLocation Shelf_bar__minus_01_dot_96_bar__plus_01_dot_34_bar__plus_00_dot_41 loc_bar__minus_3_bar_4_bar_3_bar_15)\\n        (receptacleAtLocation Shelf_bar__minus_01_dot_96_bar__plus_01_dot_72_bar__plus_00_dot_41 loc_bar__minus_7_bar_5_bar_2_bar_0)\\n        (objectAtLocation Mug_bar__minus_01_dot_83_bar__plus_00_dot_88_bar__plus_00_dot_33 loc_bar__minus_7_bar_6_bar_2_bar_30)\\n        (objectAtLocation Pencil_bar__minus_02_dot_24_bar__plus_00_dot_39_bar__plus_00_dot_76 loc_bar__minus_8_bar_5_bar_2_bar_60)\\n        (objectAtLocation CD_bar__minus_01_dot_92_bar__plus_00_dot_88_bar__plus_00_dot_58 loc_bar__minus_1_bar_3_bar_3_bar_45)\\n        (objectAtLocation KeyChain_bar__minus_00_dot_40_bar__plus_00_dot_86_bar__minus_00_dot_84 loc_bar_1_bar__minus_5_bar_3_bar_60)\\n        (objectAtLocation Pillow_bar__plus_01_dot_21_bar__plus_00_dot_92_bar__plus_01_dot_37 loc_bar__minus_1_bar_6_bar_1_bar_45)\\n        (objectAtLocation Bowl_bar__minus_00_dot_48_bar__plus_00_dot_86_bar__minus_01_dot_70 loc_bar_1_bar__minus_5_bar_3_bar_60)\\n        (objectAtLocation Laptop_bar__plus_01_dot_21_bar__plus_00_dot_78_bar__plus_00_dot_79 loc_bar__minus_1_bar_6_bar_1_bar_45)\\n        (objectAtLocation Pen_bar__minus_00_dot_65_bar__plus_00_dot_86_bar__minus_01_dot_01 loc_bar_1_bar__minus_5_bar_3_bar_60)\\n        (objectAtLocation AlarmClock_bar__minus_01_dot_83_bar__plus_01_dot_72_bar__plus_00_dot_37 loc_bar__minus_7_bar_5_bar_2_bar_0)\\n        (objectAtLocation Pen_bar__minus_01_dot_94_bar__plus_01_dot_73_bar__plus_00_dot_41 loc_bar__minus_7_bar_5_bar_2_bar_0)\\n        (objectAtLocation CD_bar__minus_00_dot_55_bar__plus_00_dot_65_bar__minus_00_dot_85 loc_bar_1_bar__minus_5_bar_3_bar_45)\\n        (objectAtLocation Mug_bar__minus_00_dot_74_bar__plus_00_dot_86_bar__minus_00_dot_66 loc_bar_1_bar__minus_5_bar_3_bar_60)\\n        (objectAtLocation Chair_bar__minus_01_dot_42_bar__plus_00_dot_53_bar__plus_00_dot_81 loc_bar__minus_7_bar_5_bar_2_bar_60)\\n        (objectAtLocation Book_bar__plus_00_dot_80_bar__plus_00_dot_78_bar__plus_02_dot_23 loc_bar__minus_1_bar_6_bar_1_bar_45)\\n        (objectAtLocation LaundryHamperLid_bar__plus_00_dot_16_bar__plus_00_dot_48_bar__plus_02_dot_64 loc_bar_0_bar_9_bar_0_bar_60)\\n        (objectAtLocation Chair_bar__minus_00_dot_13_bar__plus_00_dot_53_bar__minus_01_dot_58 loc_bar_2_bar__minus_6_bar_3_bar_60)\\n        (objectAtLocation LightSwitch_bar__plus_02_dot_15_bar__plus_01_dot_23_bar__minus_00_dot_52 loc_bar_6_bar__minus_2_bar_1_bar_30)\\n        (objectAtLocation AlarmClock_bar__minus_01_dot_83_bar__plus_00_dot_88_bar__plus_00_dot_45 loc_bar__minus_7_bar_6_bar_2_bar_30)\\n        (objectAtLocation BasketBall_bar__plus_01_dot_98_bar__plus_00_dot_12_bar__plus_00_dot_21 loc_bar_6_bar_0_bar_1_bar_60)\\n        (objectAtLocation Pen_bar__minus_01_dot_99_bar__plus_00_dot_39_bar__plus_00_dot_72 loc_bar__minus_8_bar_5_bar_2_bar_60)\\n        (objectAtLocation Laptop_bar__plus_01_dot_61_bar__plus_00_dot_78_bar__plus_01_dot_37 loc_bar__minus_1_bar_6_bar_1_bar_45)\\n        (objectAtLocation BaseballBat_bar__plus_01_dot_95_bar__plus_00_dot_66_bar__minus_01_dot_81 loc_bar_6_bar__minus_5_bar_2_bar_60)\\n        (objectAtLocation Bowl_bar__minus_01_dot_74_bar__plus_00_dot_88_bar__plus_00_dot_75 loc_bar__minus_1_bar_3_bar_3_bar_45)\\n        (objectAtLocation Pillow_bar__plus_01_dot_61_bar__plus_00_dot_92_bar__plus_02_dot_23 loc_bar__minus_1_bar_6_bar_1_bar_45)\\n        (objectAtLocation KeyChain_bar__minus_00_dot_51_bar__plus_00_dot_37_bar__minus_00_dot_85 loc_bar_0_bar__minus_3_bar_3_bar_60)\\n        (objectAtLocation CreditCard_bar__minus_00_dot_51_bar__plus_00_dot_65_bar__minus_00_dot_61 loc_bar_1_bar__minus_5_bar_3_bar_45)\\n        (objectAtLocation CellPhone_bar__minus_01_dot_40_bar__plus_00_dot_88_bar__plus_00_dot_67 loc_bar__minus_1_bar_3_bar_3_bar_45)\\n        (objectAtLocation Mirror_bar__minus_01_dot_36_bar__plus_01_dot_43_bar__plus_02_dot_86 loc_bar__minus_5_bar_9_bar_0_bar_15)\\n        (objectAtLocation DeskLamp_bar__minus_02_dot_30_bar__plus_00_dot_87_bar__plus_00_dot_75 loc_bar__minus_7_bar_6_bar_2_bar_30)\\n        (objectAtLocation CD_bar__minus_00_dot_90_bar__plus_00_dot_86_bar__minus_00_dot_84 loc_bar_1_bar__minus_5_bar_3_bar_60)\\n        (objectAtLocation Window_bar__minus_00_dot_42_bar__plus_01_dot_53_bar__minus_01_dot_95 loc_bar_2_bar__minus_6_bar_3_bar_0)\\n        (objectAtLocation Window_bar__plus_00_dot_58_bar__plus_01_dot_53_bar__minus_01_dot_95 loc_bar_2_bar__minus_5_bar_2_bar_15)\\n        (objectAtLocation Pencil_bar__minus_02_dot_05_bar__plus_01_dot_35_bar__plus_00_dot_45 loc_bar__minus_3_bar_4_bar_3_bar_15)\\n        (objectAtLocation Mug_bar__minus_00_dot_40_bar__plus_00_dot_86_bar__minus_01_dot_18 loc_bar_1_bar__minus_5_bar_3_bar_60)\\n        (objectAtLocation Blinds_bar__plus_00_dot_60_bar__plus_02_dot_16_bar__minus_01_dot_92 loc_bar_2_bar__minus_6_bar_2_bar__minus_30)\\n        (objectAtLocation Blinds_bar__minus_00_dot_40_bar__plus_02_dot_16_bar__minus_01_dot_92 loc_bar_2_bar__minus_6_bar_3_bar__minus_30)\\n        )\\n    \\n\\n                (:goal\\n                    (and\\n                        (exists (?r - receptacle)\\n                            (exists (?o1 - object)\\n                                (and\\n                                    (objectType ?o1 CDType)\\n                                    (receptacleType ?r SafeType)\\n                                    (inReceptacle ?o1 ?r)\\n                                    (exists (?o2 - object)\\n                                        (and\\n                                            (not (= ?o1 ?o2))\\n                                            (objectType ?o2 CDType)\\n                                            (receptacleType ?r SafeType)\\n                                            (inReceptacle ?o2 ?r)\\n                                        )\\n                                    )\\n                                )\\n                            )\\n                        )\\n                    )\\n                )\\n            )\\n            '}"
      ]
     },
     "execution_count": 32,
     "metadata": {},
     "output_type": "execute_result"
    }
   ],
   "source": [
    "gamedata"
   ]
  },
  {
   "cell_type": "code",
   "execution_count": 33,
   "id": "10b070b0",
   "metadata": {},
   "outputs": [],
   "source": [
    "json.dump(gamedata, open(gamefile, \"w\")) #textworld register"
   ]
  },
  {
   "cell_type": "code",
   "execution_count": 34,
   "id": "16cfd8af",
   "metadata": {},
   "outputs": [],
   "source": [
    "# expert = AlfredExpert(expert_type=AlfredExpertType.PLANNER)\n",
    "expert = AlfredExpert(expert_type=AlfredExpertType.HANDCODED)"
   ]
  },
  {
   "cell_type": "code",
   "execution_count": 35,
   "id": "6daad447",
   "metadata": {},
   "outputs": [],
   "source": [
    "request_infos = textworld.EnvInfos(\n",
    "    won=True,\n",
    "    admissible_commands=True,\n",
    "    score=True,\n",
    "    max_score=True,\n",
    "    intermediate_reward=True,\n",
    "    extras=[\"expert_plan\"]\n",
    ")\n",
    "# reset environment starts here!\n",
    "env_id = textworld.gym.register_game(\n",
    "    gamefile,\n",
    "    request_infos,\n",
    "    max_episode_steps=1000000,\n",
    "    wrappers=[AlfredDemangler(), expert]\n",
    ")\n",
    "env = textworld.gym.make(env_id)\n",
    "\n",
    "obs, infos = env.reset()"
   ]
  },
  {
   "cell_type": "code",
   "execution_count": 36,
   "id": "99e0e1a0",
   "metadata": {},
   "outputs": [
    {
     "name": "stdout",
     "output_type": "stream",
     "text": [
      "-= Welcome to TextWorld, ALFRED! =-\n",
      "\n",
      "You are in the middle of a room. Looking quickly around you, you see a bed 1, a desk 2, a desk 1, a drawer 6, a drawer 5, a drawer 4, a drawer 3, a drawer 2, a drawer 1, a garbagecan 1, a laundryhamper 1, a safe 1, a shelf 6, a shelf 5, a shelf 4, a shelf 3, a shelf 2, and a shelf 1.\n",
      "\n",
      "Your task is to: put two cd in safe.\n"
     ]
    }
   ],
   "source": [
    "print(obs)"
   ]
  },
  {
   "cell_type": "code",
   "execution_count": 37,
   "id": "b499eeec",
   "metadata": {},
   "outputs": [
    {
     "data": {
      "text/plain": [
       "{'intermediate_reward': None,\n",
       " 'won': False,\n",
       " 'admissible_commands': ['go to bed 1',\n",
       "  'go to desk 1',\n",
       "  'go to desk 2',\n",
       "  'go to drawer 1',\n",
       "  'go to drawer 2',\n",
       "  'go to drawer 3',\n",
       "  'go to drawer 4',\n",
       "  'go to drawer 5',\n",
       "  'go to drawer 6',\n",
       "  'go to garbagecan 1',\n",
       "  'go to laundryhamper 1',\n",
       "  'go to safe 1',\n",
       "  'go to shelf 1',\n",
       "  'go to shelf 2',\n",
       "  'go to shelf 3',\n",
       "  'go to shelf 4',\n",
       "  'go to shelf 5',\n",
       "  'go to shelf 6',\n",
       "  'help',\n",
       "  'inventory',\n",
       "  'look'],\n",
       " 'score': None,\n",
       " 'facts': [Proposition('objectatlocation', (Variable('keychain 2', 'object'), Variable('loc 23', 'location'))),\n",
       "  Proposition('objectatlocation', (Variable('pen 3', 'object'), Variable('loc 23', 'location'))),\n",
       "  Proposition('objectatlocation', (Variable('laptop 2', 'object'), Variable('loc 13', 'location'))),\n",
       "  Proposition('objectatlocation', (Variable('cd 2', 'object'), Variable('loc 23', 'location'))),\n",
       "  Proposition('objectatlocation', (Variable('pen 2', 'object'), Variable('loc 4', 'location'))),\n",
       "  Proposition('objectatlocation', (Variable('pencil 1', 'object'), Variable('loc 1', 'location'))),\n",
       "  Proposition('objectatlocation', (Variable('keychain 1', 'object'), Variable('loc 26', 'location'))),\n",
       "  Proposition('objectatlocation', (Variable('alarmclock 2', 'object'), Variable('loc 2', 'location'))),\n",
       "  Proposition('objectatlocation', (Variable('mirror 1', 'object'), Variable('loc 6', 'location'))),\n",
       "  Proposition('objectatlocation', (Variable('chair 2', 'object'), Variable('loc 19', 'location'))),\n",
       "  Proposition('objectatlocation', (Variable('cd 3', 'object'), Variable('loc 24', 'location'))),\n",
       "  Proposition('objectatlocation', (Variable('mug 2', 'object'), Variable('loc 23', 'location'))),\n",
       "  Proposition('objectatlocation', (Variable('laptop 1', 'object'), Variable('loc 13', 'location'))),\n",
       "  Proposition('objectatlocation', (Variable('mug 3', 'object'), Variable('loc 23', 'location'))),\n",
       "  Proposition('objectatlocation', (Variable('laundryhamperlid 1', 'object'), Variable('loc 27', 'location'))),\n",
       "  Proposition('objectatlocation', (Variable('window 1', 'object'), Variable('loc 22', 'location'))),\n",
       "  Proposition('objectatlocation', (Variable('lightswitch 1', 'object'), Variable('loc 16', 'location'))),\n",
       "  Proposition('objectatlocation', (Variable('desklamp 1', 'object'), Variable('loc 2', 'location'))),\n",
       "  Proposition('objectatlocation', (Variable('pen 1', 'object'), Variable('loc 1', 'location'))),\n",
       "  Proposition('objectatlocation', (Variable('cd 1', 'object'), Variable('loc 14', 'location'))),\n",
       "  Proposition('objectatlocation', (Variable('book 1', 'object'), Variable('loc 13', 'location'))),\n",
       "  Proposition('objectatlocation', (Variable('pencil 2', 'object'), Variable('loc 11', 'location'))),\n",
       "  Proposition('objectatlocation', (Variable('chair 1', 'object'), Variable('loc 3', 'location'))),\n",
       "  Proposition('objectatlocation', (Variable('bowl 1', 'object'), Variable('loc 14', 'location'))),\n",
       "  Proposition('objectatlocation', (Variable('pillow 1', 'object'), Variable('loc 13', 'location'))),\n",
       "  Proposition('objectatlocation', (Variable('blinds 2', 'object'), Variable('loc 18', 'location'))),\n",
       "  Proposition('objectatlocation', (Variable('mug 1', 'object'), Variable('loc 2', 'location'))),\n",
       "  Proposition('objectatlocation', (Variable('bowl 2', 'object'), Variable('loc 23', 'location'))),\n",
       "  Proposition('objectatlocation', (Variable('blinds 1', 'object'), Variable('loc 21', 'location'))),\n",
       "  Proposition('objectatlocation', (Variable('cellphone 1', 'object'), Variable('loc 14', 'location'))),\n",
       "  Proposition('objectatlocation', (Variable('creditcard 1', 'object'), Variable('loc 24', 'location'))),\n",
       "  Proposition('objectatlocation', (Variable('basketball 1', 'object'), Variable('loc 17', 'location'))),\n",
       "  Proposition('objectatlocation', (Variable('alarmclock 1', 'object'), Variable('loc 4', 'location'))),\n",
       "  Proposition('objectatlocation', (Variable('baseballbat 1', 'object'), Variable('loc 15', 'location'))),\n",
       "  Proposition('objectatlocation', (Variable('window 2', 'object'), Variable('loc 20', 'location'))),\n",
       "  Proposition('objectatlocation', (Variable('pillow 2', 'object'), Variable('loc 13', 'location'))),\n",
       "  Proposition('cancontain', (Variable('drawertype ', 'rtype'), Variable('keychaintype ', 'otype'))),\n",
       "  Proposition('cancontain', (Variable('drawertype ', 'rtype'), Variable('cdtype ', 'otype'))),\n",
       "  Proposition('cancontain', (Variable('garbagecantype ', 'rtype'), Variable('pentype ', 'otype'))),\n",
       "  Proposition('cancontain', (Variable('shelftype ', 'rtype'), Variable('bowltype ', 'otype'))),\n",
       "  Proposition('cancontain', (Variable('desktype ', 'rtype'), Variable('pentype ', 'otype'))),\n",
       "  Proposition('cancontain', (Variable('bedtype ', 'rtype'), Variable('booktype ', 'otype'))),\n",
       "  Proposition('cancontain', (Variable('garbagecantype ', 'rtype'), Variable('penciltype ', 'otype'))),\n",
       "  Proposition('cancontain', (Variable('desktype ', 'rtype'), Variable('bowltype ', 'otype'))),\n",
       "  Proposition('cancontain', (Variable('shelftype ', 'rtype'), Variable('penciltype ', 'otype'))),\n",
       "  Proposition('cancontain', (Variable('safetype ', 'rtype'), Variable('creditcardtype ', 'otype'))),\n",
       "  Proposition('cancontain', (Variable('desktype ', 'rtype'), Variable('penciltype ', 'otype'))),\n",
       "  Proposition('cancontain', (Variable('shelftype ', 'rtype'), Variable('creditcardtype ', 'otype'))),\n",
       "  Proposition('cancontain', (Variable('shelftype ', 'rtype'), Variable('booktype ', 'otype'))),\n",
       "  Proposition('cancontain', (Variable('shelftype ', 'rtype'), Variable('alarmclocktype ', 'otype'))),\n",
       "  Proposition('cancontain', (Variable('desktype ', 'rtype'), Variable('creditcardtype ', 'otype'))),\n",
       "  Proposition('cancontain', (Variable('desktype ', 'rtype'), Variable('mugtype ', 'otype'))),\n",
       "  Proposition('cancontain', (Variable('drawertype ', 'rtype'), Variable('pentype ', 'otype'))),\n",
       "  Proposition('cancontain', (Variable('shelftype ', 'rtype'), Variable('keychaintype ', 'otype'))),\n",
       "  Proposition('cancontain', (Variable('safetype ', 'rtype'), Variable('keychaintype ', 'otype'))),\n",
       "  Proposition('cancontain', (Variable('desktype ', 'rtype'), Variable('keychaintype ', 'otype'))),\n",
       "  Proposition('cancontain', (Variable('shelftype ', 'rtype'), Variable('cdtype ', 'otype'))),\n",
       "  Proposition('cancontain', (Variable('drawertype ', 'rtype'), Variable('cellphonetype ', 'otype'))),\n",
       "  Proposition('cancontain', (Variable('safetype ', 'rtype'), Variable('cdtype ', 'otype'))),\n",
       "  Proposition('cancontain', (Variable('bedtype ', 'rtype'), Variable('cellphonetype ', 'otype'))),\n",
       "  Proposition('cancontain', (Variable('bedtype ', 'rtype'), Variable('basketballtype ', 'otype'))),\n",
       "  Proposition('cancontain', (Variable('bedtype ', 'rtype'), Variable('laptoptype ', 'otype'))),\n",
       "  Proposition('cancontain', (Variable('desktype ', 'rtype'), Variable('booktype ', 'otype'))),\n",
       "  Proposition('cancontain', (Variable('desktype ', 'rtype'), Variable('alarmclocktype ', 'otype'))),\n",
       "  Proposition('cancontain', (Variable('garbagecantype ', 'rtype'), Variable('cdtype ', 'otype'))),\n",
       "  Proposition('cancontain', (Variable('drawertype ', 'rtype'), Variable('penciltype ', 'otype'))),\n",
       "  Proposition('cancontain', (Variable('drawertype ', 'rtype'), Variable('booktype ', 'otype'))),\n",
       "  Proposition('cancontain', (Variable('desktype ', 'rtype'), Variable('cdtype ', 'otype'))),\n",
       "  Proposition('cancontain', (Variable('shelftype ', 'rtype'), Variable('pentype ', 'otype'))),\n",
       "  Proposition('cancontain', (Variable('shelftype ', 'rtype'), Variable('cellphonetype ', 'otype'))),\n",
       "  Proposition('cancontain', (Variable('drawertype ', 'rtype'), Variable('creditcardtype ', 'otype'))),\n",
       "  Proposition('cancontain', (Variable('bedtype ', 'rtype'), Variable('baseballbattype ', 'otype'))),\n",
       "  Proposition('cancontain', (Variable('shelftype ', 'rtype'), Variable('mugtype ', 'otype'))),\n",
       "  Proposition('cancontain', (Variable('safetype ', 'rtype'), Variable('cellphonetype ', 'otype'))),\n",
       "  Proposition('cancontain', (Variable('desktype ', 'rtype'), Variable('cellphonetype ', 'otype'))),\n",
       "  Proposition('cancontain', (Variable('desktype ', 'rtype'), Variable('basketballtype ', 'otype'))),\n",
       "  Proposition('cancontain', (Variable('desktype ', 'rtype'), Variable('laptoptype ', 'otype'))),\n",
       "  Proposition('cancontain', (Variable('bedtype ', 'rtype'), Variable('pillowtype ', 'otype'))),\n",
       "  Proposition('toggleable', (Variable('desklamp 1', 'object'),)),\n",
       "  Proposition('receptacleatlocation', (Variable('shelf 5', 'receptacle'), Variable('loc 12', 'location'))),\n",
       "  Proposition('receptacleatlocation', (Variable('shelf 2', 'receptacle'), Variable('loc 11', 'location'))),\n",
       "  Proposition('receptacleatlocation', (Variable('drawer 4', 'receptacle'), Variable('loc 24', 'location'))),\n",
       "  Proposition('receptacleatlocation', (Variable('drawer 3', 'receptacle'), Variable('loc 1', 'location'))),\n",
       "  Proposition('receptacleatlocation', (Variable('drawer 2', 'receptacle'), Variable('loc 1', 'location'))),\n",
       "  Proposition('receptacleatlocation', (Variable('shelf 3', 'receptacle'), Variable('loc 2', 'location'))),\n",
       "  Proposition('receptacleatlocation', (Variable('laundryhamper 1', 'receptacle'), Variable('loc 27', 'location'))),\n",
       "  Proposition('receptacleatlocation', (Variable('garbagecan 1', 'receptacle'), Variable('loc 25', 'location'))),\n",
       "  Proposition('receptacleatlocation', (Variable('desk 1', 'receptacle'), Variable('loc 14', 'location'))),\n",
       "  Proposition('receptacleatlocation', (Variable('safe 1', 'receptacle'), Variable('loc 8', 'location'))),\n",
       "  Proposition('receptacleatlocation', (Variable('shelf 1', 'receptacle'), Variable('loc 4', 'location'))),\n",
       "  Proposition('receptacleatlocation', (Variable('bed 1', 'receptacle'), Variable('loc 13', 'location'))),\n",
       "  Proposition('receptacleatlocation', (Variable('drawer 1', 'receptacle'), Variable('loc 7', 'location'))),\n",
       "  Proposition('receptacleatlocation', (Variable('drawer 5', 'receptacle'), Variable('loc 26', 'location'))),\n",
       "  Proposition('receptacleatlocation', (Variable('shelf 4', 'receptacle'), Variable('loc 10', 'location'))),\n",
       "  Proposition('receptacleatlocation', (Variable('desk 2', 'receptacle'), Variable('loc 23', 'location'))),\n",
       "  Proposition('receptacleatlocation', (Variable('drawer 6', 'receptacle'), Variable('loc 19', 'location'))),\n",
       "  Proposition('receptacleatlocation', (Variable('shelf 6', 'receptacle'), Variable('loc 9', 'location'))),\n",
       "  Proposition('pickupable', (Variable('keychain 1', 'object'),)),\n",
       "  Proposition('pickupable', (Variable('cd 3', 'object'),)),\n",
       "  Proposition('pickupable', (Variable('creditcard 1', 'object'),)),\n",
       "  Proposition('pickupable', (Variable('basketball 1', 'object'),)),\n",
       "  Proposition('pickupable', (Variable('pencil 2', 'object'),)),\n",
       "  Proposition('pickupable', (Variable('pencil 1', 'object'),)),\n",
       "  Proposition('pickupable', (Variable('baseballbat 1', 'object'),)),\n",
       "  Proposition('pickupable', (Variable('cd 1', 'object'),)),\n",
       "  Proposition('pickupable', (Variable('alarmclock 2', 'object'),)),\n",
       "  Proposition('pickupable', (Variable('pillow 2', 'object'),)),\n",
       "  Proposition('pickupable', (Variable('pen 2', 'object'),)),\n",
       "  Proposition('pickupable', (Variable('mug 1', 'object'),)),\n",
       "  Proposition('pickupable', (Variable('bowl 1', 'object'),)),\n",
       "  Proposition('pickupable', (Variable('mug 2', 'object'),)),\n",
       "  Proposition('pickupable', (Variable('cellphone 1', 'object'),)),\n",
       "  Proposition('pickupable', (Variable('bowl 2', 'object'),)),\n",
       "  Proposition('pickupable', (Variable('book 1', 'object'),)),\n",
       "  Proposition('pickupable', (Variable('alarmclock 1', 'object'),)),\n",
       "  Proposition('pickupable', (Variable('laptop 1', 'object'),)),\n",
       "  Proposition('pickupable', (Variable('pen 1', 'object'),)),\n",
       "  Proposition('pickupable', (Variable('pen 3', 'object'),)),\n",
       "  Proposition('pickupable', (Variable('pillow 1', 'object'),)),\n",
       "  Proposition('pickupable', (Variable('keychain 2', 'object'),)),\n",
       "  Proposition('pickupable', (Variable('laptop 2', 'object'),)),\n",
       "  Proposition('pickupable', (Variable('cd 2', 'object'),)),\n",
       "  Proposition('pickupable', (Variable('mug 3', 'object'),)),\n",
       "  Proposition('objecttype', (Variable('mug 1', 'object'), Variable('mugtype ', 'otype'))),\n",
       "  Proposition('objecttype', (Variable('laptop 2', 'object'), Variable('laptoptype ', 'otype'))),\n",
       "  Proposition('objecttype', (Variable('mug 3', 'object'), Variable('mugtype ', 'otype'))),\n",
       "  Proposition('objecttype', (Variable('mug 2', 'object'), Variable('mugtype ', 'otype'))),\n",
       "  Proposition('objecttype', (Variable('window 1', 'object'), Variable('windowtype ', 'otype'))),\n",
       "  Proposition('objecttype', (Variable('cd 1', 'object'), Variable('cdtype ', 'otype'))),\n",
       "  Proposition('objecttype', (Variable('book 1', 'object'), Variable('booktype ', 'otype'))),\n",
       "  Proposition('objecttype', (Variable('keychain 1', 'object'), Variable('keychaintype ', 'otype'))),\n",
       "  Proposition('objecttype', (Variable('mirror 1', 'object'), Variable('mirrortype ', 'otype'))),\n",
       "  Proposition('objecttype', (Variable('blinds 1', 'object'), Variable('blindstype ', 'otype'))),\n",
       "  Proposition('objecttype', (Variable('alarmclock 2', 'object'), Variable('alarmclocktype ', 'otype'))),\n",
       "  Proposition('objecttype', (Variable('pen 3', 'object'), Variable('pentype ', 'otype'))),\n",
       "  Proposition('objecttype', (Variable('desklamp 1', 'object'), Variable('desklamptype ', 'otype'))),\n",
       "  Proposition('objecttype', (Variable('laptop 1', 'object'), Variable('laptoptype ', 'otype'))),\n",
       "  Proposition('objecttype', (Variable('bowl 2', 'object'), Variable('bowltype ', 'otype'))),\n",
       "  Proposition('objecttype', (Variable('cd 2', 'object'), Variable('cdtype ', 'otype'))),\n",
       "  Proposition('objecttype', (Variable('pillow 1', 'object'), Variable('pillowtype ', 'otype'))),\n",
       "  Proposition('objecttype', (Variable('window 2', 'object'), Variable('windowtype ', 'otype'))),\n",
       "  Proposition('objecttype', (Variable('pen 1', 'object'), Variable('pentype ', 'otype'))),\n",
       "  Proposition('objecttype', (Variable('pen 2', 'object'), Variable('pentype ', 'otype'))),\n",
       "  Proposition('objecttype', (Variable('pencil 1', 'object'), Variable('penciltype ', 'otype'))),\n",
       "  Proposition('objecttype', (Variable('baseballbat 1', 'object'), Variable('baseballbattype ', 'otype'))),\n",
       "  Proposition('objecttype', (Variable('pillow 2', 'object'), Variable('pillowtype ', 'otype'))),\n",
       "  Proposition('objecttype', (Variable('chair 1', 'object'), Variable('chairtype ', 'otype'))),\n",
       "  Proposition('objecttype', (Variable('alarmclock 1', 'object'), Variable('alarmclocktype ', 'otype'))),\n",
       "  Proposition('objecttype', (Variable('cellphone 1', 'object'), Variable('cellphonetype ', 'otype'))),\n",
       "  Proposition('objecttype', (Variable('laundryhamperlid 1', 'object'), Variable('laundryhamperlidtype ', 'otype'))),\n",
       "  Proposition('objecttype', (Variable('creditcard 1', 'object'), Variable('creditcardtype ', 'otype'))),\n",
       "  Proposition('objecttype', (Variable('cd 3', 'object'), Variable('cdtype ', 'otype'))),\n",
       "  Proposition('objecttype', (Variable('pencil 2', 'object'), Variable('penciltype ', 'otype'))),\n",
       "  Proposition('objecttype', (Variable('keychain 2', 'object'), Variable('keychaintype ', 'otype'))),\n",
       "  Proposition('objecttype', (Variable('bowl 1', 'object'), Variable('bowltype ', 'otype'))),\n",
       "  Proposition('objecttype', (Variable('blinds 2', 'object'), Variable('blindstype ', 'otype'))),\n",
       "  Proposition('objecttype', (Variable('basketball 1', 'object'), Variable('basketballtype ', 'otype'))),\n",
       "  Proposition('objecttype', (Variable('lightswitch 1', 'object'), Variable('lightswitchtype ', 'otype'))),\n",
       "  Proposition('objecttype', (Variable('chair 2', 'object'), Variable('chairtype ', 'otype'))),\n",
       "  Proposition('openable', (Variable('drawer 6', 'receptacle'),)),\n",
       "  Proposition('openable', (Variable('drawer 4', 'receptacle'),)),\n",
       "  Proposition('openable', (Variable('drawer 1', 'receptacle'),)),\n",
       "  Proposition('openable', (Variable('safe 1', 'receptacle'),)),\n",
       "  Proposition('cleanable', (Variable('mug 1', 'object'),)),\n",
       "  Proposition('cleanable', (Variable('mug 2', 'object'),)),\n",
       "  Proposition('cleanable', (Variable('bowl 2', 'object'),)),\n",
       "  Proposition('cleanable', (Variable('bowl 1', 'object'),)),\n",
       "  Proposition('cleanable', (Variable('mug 3', 'object'),)),\n",
       "  Proposition('receptacletype', (Variable('drawer 6', 'receptacle'), Variable('drawertype ', 'rtype'))),\n",
       "  Proposition('receptacletype', (Variable('shelf 4', 'receptacle'), Variable('shelftype ', 'rtype'))),\n",
       "  Proposition('receptacletype', (Variable('shelf 5', 'receptacle'), Variable('shelftype ', 'rtype'))),\n",
       "  Proposition('receptacletype', (Variable('bed 1', 'receptacle'), Variable('bedtype ', 'rtype'))),\n",
       "  Proposition('receptacletype', (Variable('desk 1', 'receptacle'), Variable('desktype ', 'rtype'))),\n",
       "  Proposition('receptacletype', (Variable('desk 2', 'receptacle'), Variable('desktype ', 'rtype'))),\n",
       "  Proposition('receptacletype', (Variable('drawer 3', 'receptacle'), Variable('drawertype ', 'rtype'))),\n",
       "  Proposition('receptacletype', (Variable('garbagecan 1', 'receptacle'), Variable('garbagecantype ', 'rtype'))),\n",
       "  Proposition('receptacletype', (Variable('shelf 1', 'receptacle'), Variable('shelftype ', 'rtype'))),\n",
       "  Proposition('receptacletype', (Variable('laundryhamper 1', 'receptacle'), Variable('laundryhampertype ', 'rtype'))),\n",
       "  Proposition('receptacletype', (Variable('shelf 2', 'receptacle'), Variable('shelftype ', 'rtype'))),\n",
       "  Proposition('receptacletype', (Variable('drawer 1', 'receptacle'), Variable('drawertype ', 'rtype'))),\n",
       "  Proposition('receptacletype', (Variable('drawer 5', 'receptacle'), Variable('drawertype ', 'rtype'))),\n",
       "  Proposition('receptacletype', (Variable('shelf 6', 'receptacle'), Variable('shelftype ', 'rtype'))),\n",
       "  Proposition('receptacletype', (Variable('shelf 3', 'receptacle'), Variable('shelftype ', 'rtype'))),\n",
       "  Proposition('receptacletype', (Variable('drawer 2', 'receptacle'), Variable('drawertype ', 'rtype'))),\n",
       "  Proposition('receptacletype', (Variable('safe 1', 'receptacle'), Variable('safetype ', 'rtype'))),\n",
       "  Proposition('receptacletype', (Variable('drawer 4', 'receptacle'), Variable('drawertype ', 'rtype'))),\n",
       "  Proposition('inreceptacle', (Variable('desklamp 1', 'object'), Variable('shelf 3', 'receptacle'))),\n",
       "  Proposition('inreceptacle', (Variable('laptop 1', 'object'), Variable('bed 1', 'receptacle'))),\n",
       "  Proposition('inreceptacle', (Variable('mug 2', 'object'), Variable('desk 2', 'receptacle'))),\n",
       "  Proposition('inreceptacle', (Variable('mug 3', 'object'), Variable('desk 2', 'receptacle'))),\n",
       "  Proposition('inreceptacle', (Variable('cd 1', 'object'), Variable('desk 1', 'receptacle'))),\n",
       "  Proposition('inreceptacle', (Variable('alarmclock 2', 'object'), Variable('desk 1', 'receptacle'))),\n",
       "  Proposition('inreceptacle', (Variable('bowl 1', 'object'), Variable('desk 1', 'receptacle'))),\n",
       "  Proposition('inreceptacle', (Variable('mug 1', 'object'), Variable('shelf 3', 'receptacle'))),\n",
       "  Proposition('inreceptacle', (Variable('cellphone 1', 'object'), Variable('desk 1', 'receptacle'))),\n",
       "  Proposition('inreceptacle', (Variable('desklamp 1', 'object'), Variable('desk 1', 'receptacle'))),\n",
       "  Proposition('inreceptacle', (Variable('book 1', 'object'), Variable('bed 1', 'receptacle'))),\n",
       "  Proposition('inreceptacle', (Variable('keychain 1', 'object'), Variable('drawer 5', 'receptacle'))),\n",
       "  Proposition('inreceptacle', (Variable('alarmclock 1', 'object'), Variable('shelf 1', 'receptacle'))),\n",
       "  Proposition('inreceptacle', (Variable('keychain 2', 'object'), Variable('desk 2', 'receptacle'))),\n",
       "  Proposition('inreceptacle', (Variable('pencil 2', 'object'), Variable('shelf 2', 'receptacle'))),\n",
       "  Proposition('inreceptacle', (Variable('bowl 2', 'object'), Variable('desk 2', 'receptacle'))),\n",
       "  Proposition('inreceptacle', (Variable('pen 3', 'object'), Variable('desk 2', 'receptacle'))),\n",
       "  Proposition('inreceptacle', (Variable('cd 2', 'object'), Variable('desk 2', 'receptacle'))),\n",
       "  Proposition('inreceptacle', (Variable('creditcard 1', 'object'), Variable('drawer 4', 'receptacle'))),\n",
       "  Proposition('inreceptacle', (Variable('pencil 1', 'object'), Variable('drawer 2', 'receptacle'))),\n",
       "  Proposition('inreceptacle', (Variable('mug 1', 'object'), Variable('desk 1', 'receptacle'))),\n",
       "  Proposition('inreceptacle', (Variable('pillow 2', 'object'), Variable('bed 1', 'receptacle'))),\n",
       "  Proposition('inreceptacle', (Variable('pen 2', 'object'), Variable('shelf 1', 'receptacle'))),\n",
       "  Proposition('inreceptacle', (Variable('pillow 1', 'object'), Variable('bed 1', 'receptacle'))),\n",
       "  Proposition('inreceptacle', (Variable('laptop 2', 'object'), Variable('bed 1', 'receptacle'))),\n",
       "  Proposition('inreceptacle', (Variable('cd 3', 'object'), Variable('drawer 4', 'receptacle'))),\n",
       "  Proposition('inreceptacle', (Variable('alarmclock 2', 'object'), Variable('shelf 3', 'receptacle'))),\n",
       "  Proposition('inreceptacle', (Variable('pen 1', 'object'), Variable('drawer 2', 'receptacle'))),\n",
       "  Proposition('heatable', (Variable('mug 3', 'object'),)),\n",
       "  Proposition('heatable', (Variable('mug 2', 'object'),)),\n",
       "  Proposition('heatable', (Variable('mug 1', 'object'),)),\n",
       "  Proposition('coolable', (Variable('mug 2', 'object'),)),\n",
       "  Proposition('coolable', (Variable('bowl 1', 'object'),)),\n",
       "  Proposition('coolable', (Variable('bowl 2', 'object'),)),\n",
       "  Proposition('coolable', (Variable('mug 3', 'object'),)),\n",
       "  Proposition('coolable', (Variable('mug 1', 'object'),)),\n",
       "  Proposition('isreceptacleobject', (Variable('mug 2', 'object'),)),\n",
       "  Proposition('isreceptacleobject', (Variable('bowl 2', 'object'),)),\n",
       "  Proposition('isreceptacleobject', (Variable('mug 3', 'object'),)),\n",
       "  Proposition('isreceptacleobject', (Variable('mug 1', 'object'),)),\n",
       "  Proposition('isreceptacleobject', (Variable('bowl 1', 'object'),)),\n",
       "  Proposition('atlocation', (Variable('agent1 ', 'agent'), Variable('loc 5', 'location')))],\n",
       " 'extra.expert_plan': ['look'],\n",
       " 'max_score': None}"
      ]
     },
     "execution_count": 37,
     "metadata": {},
     "output_type": "execute_result"
    }
   ],
   "source": [
    "infos"
   ]
  },
  {
   "cell_type": "code",
   "execution_count": 53,
   "id": "2c68f8cb",
   "metadata": {},
   "outputs": [
    {
     "name": "stdout",
     "output_type": "stream",
     "text": [
      "You are in the middle of a room. Looking quickly around you, you see a bed 1, a desk 2, a desk 1, a drawer 6, a drawer 5, a drawer 4, a drawer 3, a drawer 2, a drawer 1, a garbagecan 1, a laundryhamper 1, a safe 1, a shelf 6, a shelf 5, a shelf 4, a shelf 3, a shelf 2, and a shelf 1.\n"
     ]
    }
   ],
   "source": [
    "init_obs = obs.split('\\n')[2]\n",
    "print(init_obs)\n",
    "goal = obs.split('\\n')[-1]\n",
    "valid_actions = infos[\"admissible_commands\"]\n",
    "valid_actions.remove('look')\n",
    "valid_actions.remove('inventory')\n",
    "valid_actions.remove('help')"
   ]
  },
  {
   "cell_type": "code",
   "execution_count": 54,
   "id": "ca8d22d2",
   "metadata": {},
   "outputs": [
    {
     "name": "stdout",
     "output_type": "stream",
     "text": [
      "Your task is to: put two cd in safe.\n"
     ]
    }
   ],
   "source": [
    "print(goal)"
   ]
  },
  {
   "cell_type": "code",
   "execution_count": 55,
   "id": "1554e2c1",
   "metadata": {},
   "outputs": [],
   "source": [
    "obs, reward, done, infos = env.step('go to shelf 5')"
   ]
  },
  {
   "cell_type": "code",
   "execution_count": 56,
   "id": "98ef99bf",
   "metadata": {},
   "outputs": [
    {
     "data": {
      "text/plain": [
       "'You arrive at shelf 5. On the shelf 5, you see a keychain 1.'"
      ]
     },
     "execution_count": 56,
     "metadata": {},
     "output_type": "execute_result"
    }
   ],
   "source": [
    "obs"
   ]
  },
  {
   "cell_type": "code",
   "execution_count": 57,
   "id": "2bcb2905",
   "metadata": {},
   "outputs": [
    {
     "data": {
      "text/plain": [
       "0"
      ]
     },
     "execution_count": 57,
     "metadata": {},
     "output_type": "execute_result"
    }
   ],
   "source": [
    "reward"
   ]
  },
  {
   "cell_type": "code",
   "execution_count": 59,
   "id": "518f53fe",
   "metadata": {},
   "outputs": [
    {
     "data": {
      "text/plain": [
       "{'won': False,\n",
       " 'max_score': None,\n",
       " 'admissible_commands': ['examine shelf 5',\n",
       "  'go to bed 1',\n",
       "  'go to desk 1',\n",
       "  'go to desk 2',\n",
       "  'go to drawer 1',\n",
       "  'go to drawer 2',\n",
       "  'go to drawer 3',\n",
       "  'go to drawer 4',\n",
       "  'go to drawer 5',\n",
       "  'go to drawer 6',\n",
       "  'go to garbagecan 1',\n",
       "  'go to laundryhamper 1',\n",
       "  'go to safe 1',\n",
       "  'go to shelf 1',\n",
       "  'go to shelf 2',\n",
       "  'go to shelf 3',\n",
       "  'go to shelf 4',\n",
       "  'go to shelf 6',\n",
       "  'help',\n",
       "  'inventory',\n",
       "  'look',\n",
       "  'take keychain 1 from shelf 5'],\n",
       " 'facts': [Proposition('cancontain', (Variable('drawertype ', 'rtype'), Variable('pentype ', 'otype'))),\n",
       "  Proposition('cancontain', (Variable('safetype ', 'rtype'), Variable('keychaintype ', 'otype'))),\n",
       "  Proposition('cancontain', (Variable('shelftype ', 'rtype'), Variable('pentype ', 'otype'))),\n",
       "  Proposition('cancontain', (Variable('desktype ', 'rtype'), Variable('pentype ', 'otype'))),\n",
       "  Proposition('cancontain', (Variable('drawertype ', 'rtype'), Variable('creditcardtype ', 'otype'))),\n",
       "  Proposition('cancontain', (Variable('safetype ', 'rtype'), Variable('cellphonetype ', 'otype'))),\n",
       "  Proposition('cancontain', (Variable('safetype ', 'rtype'), Variable('cdtype ', 'otype'))),\n",
       "  Proposition('cancontain', (Variable('shelftype ', 'rtype'), Variable('booktype ', 'otype'))),\n",
       "  Proposition('cancontain', (Variable('desktype ', 'rtype'), Variable('booktype ', 'otype'))),\n",
       "  Proposition('cancontain', (Variable('shelftype ', 'rtype'), Variable('penciltype ', 'otype'))),\n",
       "  Proposition('cancontain', (Variable('desktype ', 'rtype'), Variable('penciltype ', 'otype'))),\n",
       "  Proposition('cancontain', (Variable('bedtype ', 'rtype'), Variable('laptoptype ', 'otype'))),\n",
       "  Proposition('cancontain', (Variable('desktype ', 'rtype'), Variable('alarmclocktype ', 'otype'))),\n",
       "  Proposition('cancontain', (Variable('shelftype ', 'rtype'), Variable('alarmclocktype ', 'otype'))),\n",
       "  Proposition('cancontain', (Variable('desktype ', 'rtype'), Variable('creditcardtype ', 'otype'))),\n",
       "  Proposition('cancontain', (Variable('shelftype ', 'rtype'), Variable('creditcardtype ', 'otype'))),\n",
       "  Proposition('cancontain', (Variable('drawertype ', 'rtype'), Variable('penciltype ', 'otype'))),\n",
       "  Proposition('cancontain', (Variable('drawertype ', 'rtype'), Variable('booktype ', 'otype'))),\n",
       "  Proposition('cancontain', (Variable('desktype ', 'rtype'), Variable('mugtype ', 'otype'))),\n",
       "  Proposition('cancontain', (Variable('shelftype ', 'rtype'), Variable('mugtype ', 'otype'))),\n",
       "  Proposition('cancontain', (Variable('bedtype ', 'rtype'), Variable('basketballtype ', 'otype'))),\n",
       "  Proposition('cancontain', (Variable('shelftype ', 'rtype'), Variable('keychaintype ', 'otype'))),\n",
       "  Proposition('cancontain', (Variable('desktype ', 'rtype'), Variable('keychaintype ', 'otype'))),\n",
       "  Proposition('cancontain', (Variable('bedtype ', 'rtype'), Variable('cellphonetype ', 'otype'))),\n",
       "  Proposition('cancontain', (Variable('garbagecantype ', 'rtype'), Variable('cdtype ', 'otype'))),\n",
       "  Proposition('cancontain', (Variable('desktype ', 'rtype'), Variable('bowltype ', 'otype'))),\n",
       "  Proposition('cancontain', (Variable('shelftype ', 'rtype'), Variable('bowltype ', 'otype'))),\n",
       "  Proposition('cancontain', (Variable('desktype ', 'rtype'), Variable('basketballtype ', 'otype'))),\n",
       "  Proposition('cancontain', (Variable('shelftype ', 'rtype'), Variable('cellphonetype ', 'otype'))),\n",
       "  Proposition('cancontain', (Variable('garbagecantype ', 'rtype'), Variable('pentype ', 'otype'))),\n",
       "  Proposition('cancontain', (Variable('desktype ', 'rtype'), Variable('cellphonetype ', 'otype'))),\n",
       "  Proposition('cancontain', (Variable('shelftype ', 'rtype'), Variable('cdtype ', 'otype'))),\n",
       "  Proposition('cancontain', (Variable('desktype ', 'rtype'), Variable('cdtype ', 'otype'))),\n",
       "  Proposition('cancontain', (Variable('bedtype ', 'rtype'), Variable('baseballbattype ', 'otype'))),\n",
       "  Proposition('cancontain', (Variable('desktype ', 'rtype'), Variable('laptoptype ', 'otype'))),\n",
       "  Proposition('cancontain', (Variable('drawertype ', 'rtype'), Variable('keychaintype ', 'otype'))),\n",
       "  Proposition('cancontain', (Variable('bedtype ', 'rtype'), Variable('pillowtype ', 'otype'))),\n",
       "  Proposition('cancontain', (Variable('bedtype ', 'rtype'), Variable('booktype ', 'otype'))),\n",
       "  Proposition('cancontain', (Variable('drawertype ', 'rtype'), Variable('cellphonetype ', 'otype'))),\n",
       "  Proposition('cancontain', (Variable('garbagecantype ', 'rtype'), Variable('penciltype ', 'otype'))),\n",
       "  Proposition('cancontain', (Variable('safetype ', 'rtype'), Variable('creditcardtype ', 'otype'))),\n",
       "  Proposition('cancontain', (Variable('drawertype ', 'rtype'), Variable('cdtype ', 'otype'))),\n",
       "  Proposition('receptacleatlocation', (Variable('drawer 5', 'receptacle'), Variable('loc 26', 'location'))),\n",
       "  Proposition('receptacleatlocation', (Variable('drawer 6', 'receptacle'), Variable('loc 19', 'location'))),\n",
       "  Proposition('receptacleatlocation', (Variable('bed 1', 'receptacle'), Variable('loc 12', 'location'))),\n",
       "  Proposition('receptacleatlocation', (Variable('shelf 2', 'receptacle'), Variable('loc 10', 'location'))),\n",
       "  Proposition('receptacleatlocation', (Variable('laundryhamper 1', 'receptacle'), Variable('loc 27', 'location'))),\n",
       "  Proposition('receptacleatlocation', (Variable('shelf 5', 'receptacle'), Variable('loc 11', 'location'))),\n",
       "  Proposition('receptacleatlocation', (Variable('drawer 4', 'receptacle'), Variable('loc 24', 'location'))),\n",
       "  Proposition('receptacleatlocation', (Variable('shelf 4', 'receptacle'), Variable('loc 9', 'location'))),\n",
       "  Proposition('receptacleatlocation', (Variable('desk 2', 'receptacle'), Variable('loc 23', 'location'))),\n",
       "  Proposition('receptacleatlocation', (Variable('drawer 1', 'receptacle'), Variable('loc 6', 'location'))),\n",
       "  Proposition('receptacleatlocation', (Variable('garbagecan 1', 'receptacle'), Variable('loc 25', 'location'))),\n",
       "  Proposition('receptacleatlocation', (Variable('shelf 1', 'receptacle'), Variable('loc 4', 'location'))),\n",
       "  Proposition('receptacleatlocation', (Variable('drawer 3', 'receptacle'), Variable('loc 1', 'location'))),\n",
       "  Proposition('receptacleatlocation', (Variable('shelf 6', 'receptacle'), Variable('loc 8', 'location'))),\n",
       "  Proposition('receptacleatlocation', (Variable('desk 1', 'receptacle'), Variable('loc 13', 'location'))),\n",
       "  Proposition('receptacleatlocation', (Variable('safe 1', 'receptacle'), Variable('loc 7', 'location'))),\n",
       "  Proposition('receptacleatlocation', (Variable('drawer 2', 'receptacle'), Variable('loc 1', 'location'))),\n",
       "  Proposition('receptacleatlocation', (Variable('shelf 3', 'receptacle'), Variable('loc 2', 'location'))),\n",
       "  Proposition('isreceptacleobject', (Variable('bowl 2', 'object'),)),\n",
       "  Proposition('isreceptacleobject', (Variable('mug 1', 'object'),)),\n",
       "  Proposition('isreceptacleobject', (Variable('bowl 1', 'object'),)),\n",
       "  Proposition('isreceptacleobject', (Variable('mug 2', 'object'),)),\n",
       "  Proposition('objectatlocation', (Variable('creditcard 3', 'object'), Variable('loc 23', 'location'))),\n",
       "  Proposition('objectatlocation', (Variable('pencil 2', 'object'), Variable('loc 23', 'location'))),\n",
       "  Proposition('objectatlocation', (Variable('cd 3', 'object'), Variable('loc 26', 'location'))),\n",
       "  Proposition('objectatlocation', (Variable('book 1', 'object'), Variable('loc 12', 'location'))),\n",
       "  Proposition('objectatlocation', (Variable('pen 2', 'object'), Variable('loc 26', 'location'))),\n",
       "  Proposition('objectatlocation', (Variable('laundryhamperlid 1', 'object'), Variable('loc 27', 'location'))),\n",
       "  Proposition('objectatlocation', (Variable('blinds 2', 'object'), Variable('loc 18', 'location'))),\n",
       "  Proposition('objectatlocation', (Variable('book 3', 'object'), Variable('loc 19', 'location'))),\n",
       "  Proposition('objectatlocation', (Variable('chair 2', 'object'), Variable('loc 19', 'location'))),\n",
       "  Proposition('objectatlocation', (Variable('mug 1', 'object'), Variable('loc 13', 'location'))),\n",
       "  Proposition('objectatlocation', (Variable('pillow 1', 'object'), Variable('loc 12', 'location'))),\n",
       "  Proposition('objectatlocation', (Variable('cd 2', 'object'), Variable('loc 23', 'location'))),\n",
       "  Proposition('objectatlocation', (Variable('cd 1', 'object'), Variable('loc 23', 'location'))),\n",
       "  Proposition('objectatlocation', (Variable('pencil 3', 'object'), Variable('loc 23', 'location'))),\n",
       "  Proposition('objectatlocation', (Variable('cellphone 2', 'object'), Variable('loc 7', 'location'))),\n",
       "  Proposition('objectatlocation', (Variable('bowl 1', 'object'), Variable('loc 2', 'location'))),\n",
       "  Proposition('objectatlocation', (Variable('book 2', 'object'), Variable('loc 12', 'location'))),\n",
       "  Proposition('objectatlocation', (Variable('alarmclock 1', 'object'), Variable('loc 4', 'location'))),\n",
       "  Proposition('objectatlocation', (Variable('mug 2', 'object'), Variable('loc 23', 'location'))),\n",
       "  Proposition('objectatlocation', (Variable('laptop 2', 'object'), Variable('loc 12', 'location'))),\n",
       "  Proposition('objectatlocation', (Variable('creditcard 2', 'object'), Variable('loc 1', 'location'))),\n",
       "  Proposition('objectatlocation', (Variable('blinds 1', 'object'), Variable('loc 21', 'location'))),\n",
       "  Proposition('objectatlocation', (Variable('baseballbat 1', 'object'), Variable('loc 14', 'location'))),\n",
       "  Proposition('objectatlocation', (Variable('window 1', 'object'), Variable('loc 22', 'location'))),\n",
       "  Proposition('objectatlocation', (Variable('creditcard 1', 'object'), Variable('loc 6', 'location'))),\n",
       "  Proposition('objectatlocation', (Variable('keychain 1', 'object'), Variable('loc 11', 'location'))),\n",
       "  Proposition('objectatlocation', (Variable('cellphone 1', 'object'), Variable('loc 12', 'location'))),\n",
       "  Proposition('objectatlocation', (Variable('laptop 1', 'object'), Variable('loc 12', 'location'))),\n",
       "  Proposition('objectatlocation', (Variable('basketball 1', 'object'), Variable('loc 16', 'location'))),\n",
       "  Proposition('objectatlocation', (Variable('pen 1', 'object'), Variable('loc 13', 'location'))),\n",
       "  Proposition('objectatlocation', (Variable('chair 1', 'object'), Variable('loc 3', 'location'))),\n",
       "  Proposition('objectatlocation', (Variable('window 2', 'object'), Variable('loc 20', 'location'))),\n",
       "  Proposition('objectatlocation', (Variable('bowl 2', 'object'), Variable('loc 23', 'location'))),\n",
       "  Proposition('objectatlocation', (Variable('desklamp 1', 'object'), Variable('loc 2', 'location'))),\n",
       "  Proposition('objectatlocation', (Variable('cellphone 3', 'object'), Variable('loc 1', 'location'))),\n",
       "  Proposition('objectatlocation', (Variable('mirror 1', 'object'), Variable('loc 5', 'location'))),\n",
       "  Proposition('objectatlocation', (Variable('lightswitch 1', 'object'), Variable('loc 15', 'location'))),\n",
       "  Proposition('objectatlocation', (Variable('pencil 1', 'object'), Variable('loc 1', 'location'))),\n",
       "  Proposition('objecttype', (Variable('pencil 1', 'object'), Variable('penciltype ', 'otype'))),\n",
       "  Proposition('objecttype', (Variable('creditcard 1', 'object'), Variable('creditcardtype ', 'otype'))),\n",
       "  Proposition('objecttype', (Variable('laptop 2', 'object'), Variable('laptoptype ', 'otype'))),\n",
       "  Proposition('objecttype', (Variable('cellphone 3', 'object'), Variable('cellphonetype ', 'otype'))),\n",
       "  Proposition('objecttype', (Variable('pillow 1', 'object'), Variable('pillowtype ', 'otype'))),\n",
       "  Proposition('objecttype', (Variable('chair 2', 'object'), Variable('chairtype ', 'otype'))),\n",
       "  Proposition('objecttype', (Variable('cellphone 1', 'object'), Variable('cellphonetype ', 'otype'))),\n",
       "  Proposition('objecttype', (Variable('laptop 1', 'object'), Variable('laptoptype ', 'otype'))),\n",
       "  Proposition('objecttype', (Variable('book 2', 'object'), Variable('booktype ', 'otype'))),\n",
       "  Proposition('objecttype', (Variable('creditcard 3', 'object'), Variable('creditcardtype ', 'otype'))),\n",
       "  Proposition('objecttype', (Variable('pencil 3', 'object'), Variable('penciltype ', 'otype'))),\n",
       "  Proposition('objecttype', (Variable('laundryhamperlid 1', 'object'), Variable('laundryhamperlidtype ', 'otype'))),\n",
       "  Proposition('objecttype', (Variable('alarmclock 1', 'object'), Variable('alarmclocktype ', 'otype'))),\n",
       "  Proposition('objecttype', (Variable('blinds 1', 'object'), Variable('blindstype ', 'otype'))),\n",
       "  Proposition('objecttype', (Variable('basketball 1', 'object'), Variable('basketballtype ', 'otype'))),\n",
       "  Proposition('objecttype', (Variable('pen 2', 'object'), Variable('pentype ', 'otype'))),\n",
       "  Proposition('objecttype', (Variable('mirror 1', 'object'), Variable('mirrortype ', 'otype'))),\n",
       "  Proposition('objecttype', (Variable('pen 1', 'object'), Variable('pentype ', 'otype'))),\n",
       "  Proposition('objecttype', (Variable('blinds 2', 'object'), Variable('blindstype ', 'otype'))),\n",
       "  Proposition('objecttype', (Variable('window 2', 'object'), Variable('windowtype ', 'otype'))),\n",
       "  Proposition('objecttype', (Variable('mug 1', 'object'), Variable('mugtype ', 'otype'))),\n",
       "  Proposition('objecttype', (Variable('bowl 1', 'object'), Variable('bowltype ', 'otype'))),\n",
       "  Proposition('objecttype', (Variable('mug 2', 'object'), Variable('mugtype ', 'otype'))),\n",
       "  Proposition('objecttype', (Variable('cellphone 2', 'object'), Variable('cellphonetype ', 'otype'))),\n",
       "  Proposition('objecttype', (Variable('book 3', 'object'), Variable('booktype ', 'otype'))),\n",
       "  Proposition('objecttype', (Variable('cd 1', 'object'), Variable('cdtype ', 'otype'))),\n",
       "  Proposition('objecttype', (Variable('creditcard 2', 'object'), Variable('creditcardtype ', 'otype'))),\n",
       "  Proposition('objecttype', (Variable('baseballbat 1', 'object'), Variable('baseballbattype ', 'otype'))),\n",
       "  Proposition('objecttype', (Variable('window 1', 'object'), Variable('windowtype ', 'otype'))),\n",
       "  Proposition('objecttype', (Variable('keychain 1', 'object'), Variable('keychaintype ', 'otype'))),\n",
       "  Proposition('objecttype', (Variable('pencil 2', 'object'), Variable('penciltype ', 'otype'))),\n",
       "  Proposition('objecttype', (Variable('lightswitch 1', 'object'), Variable('lightswitchtype ', 'otype'))),\n",
       "  Proposition('objecttype', (Variable('desklamp 1', 'object'), Variable('desklamptype ', 'otype'))),\n",
       "  Proposition('objecttype', (Variable('book 1', 'object'), Variable('booktype ', 'otype'))),\n",
       "  Proposition('objecttype', (Variable('cd 3', 'object'), Variable('cdtype ', 'otype'))),\n",
       "  Proposition('objecttype', (Variable('cd 2', 'object'), Variable('cdtype ', 'otype'))),\n",
       "  Proposition('objecttype', (Variable('chair 1', 'object'), Variable('chairtype ', 'otype'))),\n",
       "  Proposition('objecttype', (Variable('bowl 2', 'object'), Variable('bowltype ', 'otype'))),\n",
       "  Proposition('pickupable', (Variable('baseballbat 1', 'object'),)),\n",
       "  Proposition('pickupable', (Variable('mug 1', 'object'),)),\n",
       "  Proposition('pickupable', (Variable('book 2', 'object'),)),\n",
       "  Proposition('pickupable', (Variable('laptop 2', 'object'),)),\n",
       "  Proposition('pickupable', (Variable('book 3', 'object'),)),\n",
       "  Proposition('pickupable', (Variable('cellphone 2', 'object'),)),\n",
       "  Proposition('pickupable', (Variable('pen 2', 'object'),)),\n",
       "  Proposition('pickupable', (Variable('pencil 3', 'object'),)),\n",
       "  Proposition('pickupable', (Variable('creditcard 2', 'object'),)),\n",
       "  Proposition('pickupable', (Variable('creditcard 1', 'object'),)),\n",
       "  Proposition('pickupable', (Variable('pencil 2', 'object'),)),\n",
       "  Proposition('pickupable', (Variable('cd 2', 'object'),)),\n",
       "  Proposition('pickupable', (Variable('laptop 1', 'object'),)),\n",
       "  Proposition('pickupable', (Variable('bowl 1', 'object'),)),\n",
       "  Proposition('pickupable', (Variable('cellphone 3', 'object'),)),\n",
       "  Proposition('pickupable', (Variable('pen 1', 'object'),)),\n",
       "  Proposition('pickupable', (Variable('mug 2', 'object'),)),\n",
       "  Proposition('pickupable', (Variable('cd 3', 'object'),)),\n",
       "  Proposition('pickupable', (Variable('book 1', 'object'),)),\n",
       "  Proposition('pickupable', (Variable('alarmclock 1', 'object'),)),\n",
       "  Proposition('pickupable', (Variable('pencil 1', 'object'),)),\n",
       "  Proposition('pickupable', (Variable('basketball 1', 'object'),)),\n",
       "  Proposition('pickupable', (Variable('keychain 1', 'object'),)),\n",
       "  Proposition('pickupable', (Variable('cellphone 1', 'object'),)),\n",
       "  Proposition('pickupable', (Variable('creditcard 3', 'object'),)),\n",
       "  Proposition('pickupable', (Variable('pillow 1', 'object'),)),\n",
       "  Proposition('pickupable', (Variable('bowl 2', 'object'),)),\n",
       "  Proposition('pickupable', (Variable('cd 1', 'object'),)),\n",
       "  Proposition('inreceptacle', (Variable('pen 2', 'object'), Variable('drawer 5', 'receptacle'))),\n",
       "  Proposition('inreceptacle', (Variable('laptop 2', 'object'), Variable('bed 1', 'receptacle'))),\n",
       "  Proposition('inreceptacle', (Variable('cellphone 1', 'object'), Variable('bed 1', 'receptacle'))),\n",
       "  Proposition('inreceptacle', (Variable('laptop 1', 'object'), Variable('bed 1', 'receptacle'))),\n",
       "  Proposition('inreceptacle', (Variable('keychain 1', 'object'), Variable('shelf 5', 'receptacle'))),\n",
       "  Proposition('inreceptacle', (Variable('pen 1', 'object'), Variable('desk 1', 'receptacle'))),\n",
       "  Proposition('inreceptacle', (Variable('alarmclock 1', 'object'), Variable('shelf 1', 'receptacle'))),\n",
       "  Proposition('inreceptacle', (Variable('creditcard 3', 'object'), Variable('desk 2', 'receptacle'))),\n",
       "  Proposition('inreceptacle', (Variable('pencil 2', 'object'), Variable('desk 2', 'receptacle'))),\n",
       "  Proposition('inreceptacle', (Variable('bowl 1', 'object'), Variable('shelf 3', 'receptacle'))),\n",
       "  Proposition('inreceptacle', (Variable('cd 2', 'object'), Variable('desk 2', 'receptacle'))),\n",
       "  Proposition('inreceptacle', (Variable('desklamp 1', 'object'), Variable('desk 1', 'receptacle'))),\n",
       "  Proposition('inreceptacle', (Variable('cd 1', 'object'), Variable('desk 2', 'receptacle'))),\n",
       "  Proposition('inreceptacle', (Variable('pencil 3', 'object'), Variable('desk 2', 'receptacle'))),\n",
       "  Proposition('inreceptacle', (Variable('mug 2', 'object'), Variable('desk 2', 'receptacle'))),\n",
       "  Proposition('inreceptacle', (Variable('book 3', 'object'), Variable('drawer 6', 'receptacle'))),\n",
       "  Proposition('inreceptacle', (Variable('cellphone 3', 'object'), Variable('drawer 3', 'receptacle'))),\n",
       "  Proposition('inreceptacle', (Variable('creditcard 1', 'object'), Variable('drawer 1', 'receptacle'))),\n",
       "  Proposition('inreceptacle', (Variable('book 1', 'object'), Variable('bed 1', 'receptacle'))),\n",
       "  Proposition('inreceptacle', (Variable('creditcard 2', 'object'), Variable('drawer 2', 'receptacle'))),\n",
       "  Proposition('inreceptacle', (Variable('cellphone 2', 'object'), Variable('safe 1', 'receptacle'))),\n",
       "  Proposition('inreceptacle', (Variable('book 2', 'object'), Variable('bed 1', 'receptacle'))),\n",
       "  Proposition('inreceptacle', (Variable('desklamp 1', 'object'), Variable('shelf 3', 'receptacle'))),\n",
       "  Proposition('inreceptacle', (Variable('bowl 2', 'object'), Variable('desk 2', 'receptacle'))),\n",
       "  Proposition('inreceptacle', (Variable('bowl 1', 'object'), Variable('desk 1', 'receptacle'))),\n",
       "  Proposition('inreceptacle', (Variable('pencil 1', 'object'), Variable('drawer 3', 'receptacle'))),\n",
       "  Proposition('inreceptacle', (Variable('pillow 1', 'object'), Variable('bed 1', 'receptacle'))),\n",
       "  Proposition('inreceptacle', (Variable('cd 3', 'object'), Variable('drawer 5', 'receptacle'))),\n",
       "  Proposition('inreceptacle', (Variable('mug 1', 'object'), Variable('desk 1', 'receptacle'))),\n",
       "  Proposition('receptacletype', (Variable('drawer 2', 'receptacle'), Variable('drawertype ', 'rtype'))),\n",
       "  Proposition('receptacletype', (Variable('safe 1', 'receptacle'), Variable('safetype ', 'rtype'))),\n",
       "  Proposition('receptacletype', (Variable('desk 1', 'receptacle'), Variable('desktype ', 'rtype'))),\n",
       "  Proposition('receptacletype', (Variable('garbagecan 1', 'receptacle'), Variable('garbagecantype ', 'rtype'))),\n",
       "  Proposition('receptacletype', (Variable('shelf 6', 'receptacle'), Variable('shelftype ', 'rtype'))),\n",
       "  Proposition('receptacletype', (Variable('shelf 3', 'receptacle'), Variable('shelftype ', 'rtype'))),\n",
       "  Proposition('receptacletype', (Variable('shelf 4', 'receptacle'), Variable('shelftype ', 'rtype'))),\n",
       "  Proposition('receptacletype', (Variable('laundryhamper 1', 'receptacle'), Variable('laundryhampertype ', 'rtype'))),\n",
       "  Proposition('receptacletype', (Variable('drawer 6', 'receptacle'), Variable('drawertype ', 'rtype'))),\n",
       "  Proposition('receptacletype', (Variable('drawer 5', 'receptacle'), Variable('drawertype ', 'rtype'))),\n",
       "  Proposition('receptacletype', (Variable('shelf 1', 'receptacle'), Variable('shelftype ', 'rtype'))),\n",
       "  Proposition('receptacletype', (Variable('drawer 1', 'receptacle'), Variable('drawertype ', 'rtype'))),\n",
       "  Proposition('receptacletype', (Variable('bed 1', 'receptacle'), Variable('bedtype ', 'rtype'))),\n",
       "  Proposition('receptacletype', (Variable('drawer 3', 'receptacle'), Variable('drawertype ', 'rtype'))),\n",
       "  Proposition('receptacletype', (Variable('drawer 4', 'receptacle'), Variable('drawertype ', 'rtype'))),\n",
       "  Proposition('receptacletype', (Variable('shelf 2', 'receptacle'), Variable('shelftype ', 'rtype'))),\n",
       "  Proposition('receptacletype', (Variable('desk 2', 'receptacle'), Variable('desktype ', 'rtype'))),\n",
       "  Proposition('receptacletype', (Variable('shelf 5', 'receptacle'), Variable('shelftype ', 'rtype'))),\n",
       "  Proposition('atlocation', (Variable('agent1 ', 'agent'), Variable('loc 11', 'location'))),\n",
       "  Proposition('coolable', (Variable('mug 1', 'object'),)),\n",
       "  Proposition('coolable', (Variable('bowl 1', 'object'),)),\n",
       "  Proposition('coolable', (Variable('mug 2', 'object'),)),\n",
       "  Proposition('coolable', (Variable('bowl 2', 'object'),)),\n",
       "  Proposition('heatable', (Variable('mug 1', 'object'),)),\n",
       "  Proposition('heatable', (Variable('mug 2', 'object'),)),\n",
       "  Proposition('openable', (Variable('drawer 4', 'receptacle'),)),\n",
       "  Proposition('openable', (Variable('drawer 1', 'receptacle'),)),\n",
       "  Proposition('openable', (Variable('drawer 6', 'receptacle'),)),\n",
       "  Proposition('openable', (Variable('safe 1', 'receptacle'),)),\n",
       "  Proposition('cleanable', (Variable('bowl 1', 'object'),)),\n",
       "  Proposition('cleanable', (Variable('mug 2', 'object'),)),\n",
       "  Proposition('cleanable', (Variable('bowl 2', 'object'),)),\n",
       "  Proposition('cleanable', (Variable('mug 1', 'object'),)),\n",
       "  Proposition('toggleable', (Variable('desklamp 1', 'object'),)),\n",
       "  Proposition('not_atlocation', (Variable('agent1 ', 'agent'), Variable('loc 17', 'location')))],\n",
       " 'score': 0,\n",
       " 'extra.expert_plan': ['go to shelf 1'],\n",
       " 'intermediate_reward': None}"
      ]
     },
     "execution_count": 59,
     "metadata": {},
     "output_type": "execute_result"
    }
   ],
   "source": [
    "infos"
   ]
  },
  {
   "cell_type": "code",
   "execution_count": 8,
   "id": "b7c89910",
   "metadata": {},
   "outputs": [],
   "source": [
    "import requests\n",
    "def run_solver(domain_file, problem_file, solver = \"dual-bfws-ffparser\"):\n",
    "\n",
    "    req_body = {\"domain\" : domain_file, \"problem\" : problem_file}\n",
    "\n",
    "    # Send job request to solve endpoint\n",
    "    solve_request_url=requests.post(f\"https://solver.planning.domains:5001/package/{solver}/solve\", json=req_body).json()\n",
    "    print(solve_request_url)\n",
    "    # Query the result in the job\n",
    "    celery_result=requests.post('https://solver.planning.domains:5001' + solve_request_url['result'])\n",
    "    print(celery_result.json())\n",
    "\n",
    "    while celery_result.json().get(\"status\",\"\")== 'PENDING':\n",
    "        # Query the result every 0.5 seconds while the job is executing\n",
    "        celery_result=requests.post('https://solver.planning.domains:5001' + solve_request_url['result'])\n",
    "\n",
    "    result = celery_result.json()['result']\n",
    "    return result\n"
   ]
  },
  {
   "cell_type": "code",
   "execution_count": 1,
   "id": "0a0aa675",
   "metadata": {},
   "outputs": [],
   "source": [
    "# read domain.pddl\n",
    "import os\n",
    "\n",
    "\n",
    "with open(\"domain.pddl\", \"r\") as f:\n",
    "    domain_pddl = f.read()\n",
    "with open(\"problem.pddl\", \"r\") as f:\n",
    "    problem_pddl = f.read()"
   ]
  },
  {
   "cell_type": "code",
   "execution_count": 9,
   "id": "a3ba7965",
   "metadata": {},
   "outputs": [
    {
     "name": "stdout",
     "output_type": "stream",
     "text": [
      "{'result': '/check/10c0c439-b1ed-46c6-ba06-b478ea95df51?external=True'}\n",
      "{'result': {'call': 'timeout 30 planutils run dual-bfws-ffparser -- domain problem plan', 'output': {'plan': ''}, 'output_type': 'generic', 'stderr': \"\\ndomain: syntax error in line 4, ':PRECONDITIONS':\\ndomain definition expected\\n\", 'stdout': ''}, 'status': 'ok'}\n"
     ]
    },
    {
     "data": {
      "text/plain": [
       "{'call': 'timeout 30 planutils run dual-bfws-ffparser -- domain problem plan',\n",
       " 'output': {'plan': ''},\n",
       " 'output_type': 'generic',\n",
       " 'stderr': \"\\ndomain: syntax error in line 4, ':PRECONDITIONS':\\ndomain definition expected\\n\",\n",
       " 'stdout': ''}"
      ]
     },
     "execution_count": 9,
     "metadata": {},
     "output_type": "execute_result"
    }
   ],
   "source": [
    "run_solver(domain_pddl, problem_pddl)"
   ]
  },
  {
   "cell_type": "code",
   "execution_count": 2,
   "id": "0a1af708",
   "metadata": {},
   "outputs": [
    {
     "name": "stdout",
     "output_type": "stream",
     "text": [
      "PDDL Domain (Formatted):\n",
      "==================================================\n",
      "(define (domain exploration)\n",
      "(:requirements :strips :typing)\n",
      "(:types location direction)\n",
      "(:action open-door\n",
      ":parameters (?loc1 - location ?loc2 - location ?dir - direction)\n",
      ":preconditions (and (at ?loc1) (door-closed ?loc1 ?loc2 ?dir)\n",
      ")\n",
      ":effects (door-open ?loc1 ?loc2 ?dir)\n",
      ")\n",
      "(:action move\n",
      ":parameters (?from - location ?to - location ?dir - direction)\n",
      ":preconditions (and (at ?from) (door-open ?from ?to ?dir)\n",
      ")\n",
      ":effects (at ?to)\n",
      "))\n",
      "==================================================\n"
     ]
    }
   ],
   "source": [
    "import re\n",
    "\n",
    "def format_pddl(pddl_text):\n",
    "    \"\"\"Format PDDL text with proper indentation and line breaks\"\"\"\n",
    "    # Add line breaks after key PDDL keywords\n",
    "    formatted = pddl_text.replace('(define', '\\n(define')\n",
    "    formatted = formatted.replace('(:requirements', '\\n  (:requirements')\n",
    "    formatted = formatted.replace('(:types', '\\n  (:types')\n",
    "    formatted = formatted.replace('(:action', '\\n  (:action')\n",
    "    formatted = formatted.replace(':parameters', '\\n    :parameters')\n",
    "    formatted = formatted.replace(':preconditions', '\\n    :preconditions')\n",
    "    formatted = formatted.replace(':effects', '\\n    :effects')\n",
    "    \n",
    "    # Add line breaks before closing major sections\n",
    "    formatted = formatted.replace('))', ')\\n)')\n",
    "    \n",
    "    # Clean up extra whitespace and ensure proper spacing\n",
    "    lines = formatted.split('\\n')\n",
    "    cleaned_lines = []\n",
    "    for line in lines:\n",
    "        line = line.strip()\n",
    "        if line:\n",
    "            cleaned_lines.append(line)\n",
    "    \n",
    "    return '\\n'.join(cleaned_lines)\n",
    "\n",
    "# Format and print the domain_pddl\n",
    "print(\"PDDL Domain (Formatted):\")\n",
    "print(\"=\" * 50)\n",
    "formatted_domain = format_pddl(domain_pddl)\n",
    "print(formatted_domain)\n",
    "print(\"=\" * 50)"
   ]
  },
  {
   "cell_type": "code",
   "execution_count": null,
   "id": "024b0383",
   "metadata": {},
   "outputs": [],
   "source": []
  },
  {
   "cell_type": "code",
   "execution_count": null,
   "id": "97c0d0a2",
   "metadata": {},
   "outputs": [],
   "source": []
  },
  {
   "cell_type": "code",
   "execution_count": null,
   "id": "89a0114b",
   "metadata": {},
   "outputs": [],
   "source": []
  },
  {
   "cell_type": "code",
   "execution_count": 8,
   "id": "28ba8347",
   "metadata": {},
   "outputs": [],
   "source": [
    "import sys\n",
    "# print(sys.path)\n",
    "import time\n",
    "from datetime import date\n",
    "import csv\n",
    "import json\n",
    "import asyncio\n",
    "import re\n",
    "\n",
    "## module for server\n",
    "# from kani import Kani\n",
    "# from kani.engines.huggingface import HuggingEngine\n",
    "\n",
    "import subprocess\n",
    "import requests\n",
    "\n",
    "import os\n",
    "import json\n",
    "import glob\n",
    "import random\n",
    "import argparse\n",
    "from os.path import join as pjoin\n",
    "\n",
    "from textworld_express import TextWorldExpressEnv\n",
    "import textworld\n",
    "import textworld.gym\n",
    "\n",
    "from alfworld.info import ALFWORLD_DATA\n",
    "from alfworld.agents.utils.misc import add_task_to_grammar\n",
    "from alfworld.agents.environment.alfred_tw_env import AlfredExpert, AlfredDemangler, AlfredExpertType\n",
    "\n",
    "from openai import OpenAI"
   ]
  },
  {
   "cell_type": "code",
   "execution_count": 89,
   "id": "6ba41302",
   "metadata": {},
   "outputs": [],
   "source": [
    "env = TextWorldExpressEnv(envStepLimit=100)\n",
    "NUM_LOCATIONS_lst = [3,5,7,9,11]\n",
    "seed_lst = range(1,11)\n",
    "NUM_LOCATIONS = NUM_LOCATIONS_lst[1]"
   ]
  },
  {
   "cell_type": "code",
   "execution_count": 94,
   "id": "43371763",
   "metadata": {},
   "outputs": [],
   "source": [
    "env.load(gameName=\"coin\", gameParams=f\"numLocations={NUM_LOCATIONS},numDistractorItems=2, includeDoors=1, limitInventorySize=0\")\n",
    "obs, infos = env.reset(seed=seed_lst[0], gameFold=\"train\", generateGoldPath=True)"
   ]
  },
  {
   "cell_type": "code",
   "execution_count": 141,
   "id": "0f0cdaf0",
   "metadata": {},
   "outputs": [
    {
     "data": {
      "text/plain": [
       "{'properties': {'numDistractorItems': 2,\n",
       "  'seed': 1,\n",
       "  'numLocations': 5,\n",
       "  'includeDoors': 1,\n",
       "  'gameSet': 1,\n",
       "  'limitInventorySize': 0},\n",
       " 'finalScore': 0.0,\n",
       " 'numSteps': 18,\n",
       " 'history': [{'observation': 'You are in the kitchen. In one part of the room you see a stove. There is also an oven. You also see a fridge that is closed. In another part of the room you see a counter, that has nothing on it. In one part of the room you see a kitchen cupboard that is closed. There is also a cutlery drawer that is closed. You also see a trash can that is closed. In another part of the room you see a dishwasher that is closed. In one part of the room you see a dining chair, that has nothing on it. \\nTo the South you see a closed plain door. To the West you see a closed sliding patio door. ',\n",
       "   'look': 'You are in the kitchen. In one part of the room you see a stove. There is also an oven. You also see a fridge that is closed. In another part of the room you see a counter, that has nothing on it. In one part of the room you see a kitchen cupboard that is closed. There is also a cutlery drawer that is closed. You also see a trash can that is closed. In another part of the room you see a dishwasher that is closed. In one part of the room you see a dining chair, that has nothing on it. \\nTo the South you see a closed plain door. To the West you see a closed sliding patio door. ',\n",
       "   'inventory': 'Inventory: \\n  Your inventory is currently empty.\\n',\n",
       "   'validActions': ['look around',\n",
       "    'close door to west',\n",
       "    'move west',\n",
       "    'open door to south',\n",
       "    'open door to west',\n",
       "    'inventory',\n",
       "    'move south',\n",
       "    'close door to south'],\n",
       "   'scoreRaw': 0.0,\n",
       "   'score': 0.0,\n",
       "   'tasksuccess': False,\n",
       "   'taskfailure': False,\n",
       "   'reward': 0,\n",
       "   'done': False,\n",
       "   'numMoves': 0,\n",
       "   'taskDescription': 'Your task is to search the environment and find the coin.  Once you find the coin, take it.'},\n",
       "  {'observation': \"You can't move there, the door is closed. \",\n",
       "   'look': 'You are in the kitchen. In one part of the room you see a stove. There is also an oven. You also see a fridge that is closed. In another part of the room you see a counter, that has nothing on it. In one part of the room you see a kitchen cupboard that is closed. There is also a cutlery drawer that is closed. You also see a trash can that is closed. In another part of the room you see a dishwasher that is closed. In one part of the room you see a dining chair, that has nothing on it. \\nTo the South you see a closed plain door. To the West you see a closed sliding patio door. ',\n",
       "   'inventory': 'Inventory: \\n  Your inventory is currently empty.\\n',\n",
       "   'validActions': ['close door to west',\n",
       "    'move west',\n",
       "    'open door to south',\n",
       "    'inventory',\n",
       "    'close door to south',\n",
       "    'move south',\n",
       "    'open door to west',\n",
       "    'look around'],\n",
       "   'scoreRaw': 0.0,\n",
       "   'score': 0.0,\n",
       "   'tasksuccess': False,\n",
       "   'taskfailure': False,\n",
       "   'reward': 0.0,\n",
       "   'done': False,\n",
       "   'numMoves': 1,\n",
       "   'taskDescription': 'Your task is to search the environment and find the coin.  Once you find the coin, take it.',\n",
       "   'lastActionStr': 'move west'},\n",
       "  {'observation': 'You open the plain door, revealing the pantry. ',\n",
       "   'look': 'You are in the kitchen. In one part of the room you see a stove. There is also an oven. You also see a fridge that is closed. In another part of the room you see a counter, that has nothing on it. In one part of the room you see a kitchen cupboard that is closed. There is also a cutlery drawer that is closed. You also see a trash can that is closed. In another part of the room you see a dishwasher that is closed. In one part of the room you see a dining chair, that has nothing on it. \\nThrough an open plain door, to the South you see the pantry. To the West you see a closed sliding patio door. ',\n",
       "   'inventory': 'Inventory: \\n  Your inventory is currently empty.\\n',\n",
       "   'validActions': ['inventory',\n",
       "    'close door to south',\n",
       "    'move south',\n",
       "    'move west',\n",
       "    'open door to west',\n",
       "    'open door to south',\n",
       "    'look around',\n",
       "    'close door to west'],\n",
       "   'scoreRaw': 0.0,\n",
       "   'score': 0.0,\n",
       "   'tasksuccess': False,\n",
       "   'taskfailure': False,\n",
       "   'reward': 0.0,\n",
       "   'done': False,\n",
       "   'numMoves': 2,\n",
       "   'taskDescription': 'Your task is to search the environment and find the coin.  Once you find the coin, take it.',\n",
       "   'lastActionStr': 'open door to south'},\n",
       "  {'observation': 'You are in the kitchen. In one part of the room you see a stove. There is also an oven. You also see a fridge that is closed. In another part of the room you see a counter, that has nothing on it. In one part of the room you see a kitchen cupboard that is closed. There is also a cutlery drawer that is closed. You also see a trash can that is closed. In another part of the room you see a dishwasher that is closed. In one part of the room you see a dining chair, that has nothing on it. \\nThrough an open plain door, to the South you see the pantry. To the West you see a closed sliding patio door. ',\n",
       "   'look': 'You are in the kitchen. In one part of the room you see a stove. There is also an oven. You also see a fridge that is closed. In another part of the room you see a counter, that has nothing on it. In one part of the room you see a kitchen cupboard that is closed. There is also a cutlery drawer that is closed. You also see a trash can that is closed. In another part of the room you see a dishwasher that is closed. In one part of the room you see a dining chair, that has nothing on it. \\nThrough an open plain door, to the South you see the pantry. To the West you see a closed sliding patio door. ',\n",
       "   'inventory': 'Inventory: \\n  Your inventory is currently empty.\\n',\n",
       "   'validActions': ['inventory',\n",
       "    'open door to west',\n",
       "    'look around',\n",
       "    'open door to south',\n",
       "    'close door to west',\n",
       "    'close door to south',\n",
       "    'move west',\n",
       "    'move south'],\n",
       "   'scoreRaw': 0.0,\n",
       "   'score': 0.0,\n",
       "   'tasksuccess': False,\n",
       "   'taskfailure': False,\n",
       "   'reward': 0.0,\n",
       "   'done': False,\n",
       "   'numMoves': 3,\n",
       "   'taskDescription': 'Your task is to search the environment and find the coin.  Once you find the coin, take it.',\n",
       "   'lastActionStr': 'look around'},\n",
       "  {'observation': 'You open the sliding patio door, revealing the backyard. ',\n",
       "   'look': 'You are in the kitchen. In one part of the room you see a stove. There is also an oven. You also see a fridge that is closed. In another part of the room you see a counter, that has nothing on it. In one part of the room you see a kitchen cupboard that is closed. There is also a cutlery drawer that is closed. You also see a trash can that is closed. In another part of the room you see a dishwasher that is closed. In one part of the room you see a dining chair, that has nothing on it. \\nThrough an open plain door, to the South you see the pantry. Through an open sliding patio door, to the West you see the backyard. ',\n",
       "   'inventory': 'Inventory: \\n  Your inventory is currently empty.\\n',\n",
       "   'validActions': ['move west',\n",
       "    'inventory',\n",
       "    'move south',\n",
       "    'close door to west',\n",
       "    'look around',\n",
       "    'close door to south',\n",
       "    'open door to west',\n",
       "    'open door to south'],\n",
       "   'scoreRaw': 0.0,\n",
       "   'score': 0.0,\n",
       "   'tasksuccess': False,\n",
       "   'taskfailure': False,\n",
       "   'reward': 0.0,\n",
       "   'done': False,\n",
       "   'numMoves': 4,\n",
       "   'taskDescription': 'Your task is to search the environment and find the coin.  Once you find the coin, take it.',\n",
       "   'lastActionStr': 'open door to west'},\n",
       "  {'observation': 'You are in the backyard. In one part of the room you see a barbeque. There is also a workbench, that has nothing on it. You also see a patio chair, that has nothing on it. In another part of the room you see a patio table, that has nothing on it. In one part of the room you see a clothes line, that has nothing on it. There is also a garden, that has nothing on it. You also see a coin. \\nTo the North you see a closed sliding patio door. Through an open sliding patio door, to the East you see the kitchen. ',\n",
       "   'look': 'You are in the backyard. In one part of the room you see a barbeque. There is also a workbench, that has nothing on it. You also see a patio chair, that has nothing on it. In another part of the room you see a patio table, that has nothing on it. In one part of the room you see a clothes line, that has nothing on it. There is also a garden, that has nothing on it. You also see a coin. \\nTo the North you see a closed sliding patio door. Through an open sliding patio door, to the East you see the kitchen. ',\n",
       "   'inventory': 'Inventory: \\n  Your inventory is currently empty.\\n',\n",
       "   'validActions': ['take coin',\n",
       "    'close door to north',\n",
       "    'inventory',\n",
       "    'close door to east',\n",
       "    'open door to east',\n",
       "    'open door to north',\n",
       "    'look around',\n",
       "    'move east',\n",
       "    'move north'],\n",
       "   'scoreRaw': 0.0,\n",
       "   'score': 0.0,\n",
       "   'tasksuccess': False,\n",
       "   'taskfailure': False,\n",
       "   'reward': 0.0,\n",
       "   'done': False,\n",
       "   'numMoves': 5,\n",
       "   'taskDescription': 'Your task is to search the environment and find the coin.  Once you find the coin, take it.',\n",
       "   'lastActionStr': 'move west'},\n",
       "  {'observation': 'You are in the kitchen. In one part of the room you see a stove. There is also an oven. You also see a fridge that is closed. In another part of the room you see a counter, that has nothing on it. In one part of the room you see a kitchen cupboard that is closed. There is also a cutlery drawer that is closed. You also see a trash can that is closed. In another part of the room you see a dishwasher that is closed. In one part of the room you see a dining chair, that has nothing on it. \\nThrough an open plain door, to the South you see the pantry. Through an open sliding patio door, to the West you see the backyard. ',\n",
       "   'look': 'You are in the kitchen. In one part of the room you see a stove. There is also an oven. You also see a fridge that is closed. In another part of the room you see a counter, that has nothing on it. In one part of the room you see a kitchen cupboard that is closed. There is also a cutlery drawer that is closed. You also see a trash can that is closed. In another part of the room you see a dishwasher that is closed. In one part of the room you see a dining chair, that has nothing on it. \\nThrough an open plain door, to the South you see the pantry. Through an open sliding patio door, to the West you see the backyard. ',\n",
       "   'inventory': 'Inventory: \\n  Your inventory is currently empty.\\n',\n",
       "   'validActions': ['close door to south',\n",
       "    'look around',\n",
       "    'inventory',\n",
       "    'move south',\n",
       "    'open door to south',\n",
       "    'move west',\n",
       "    'close door to west',\n",
       "    'open door to west'],\n",
       "   'scoreRaw': 0.0,\n",
       "   'score': 0.0,\n",
       "   'tasksuccess': False,\n",
       "   'taskfailure': False,\n",
       "   'reward': 0.0,\n",
       "   'done': False,\n",
       "   'numMoves': 6,\n",
       "   'taskDescription': 'Your task is to search the environment and find the coin.  Once you find the coin, take it.',\n",
       "   'lastActionStr': 'move east'},\n",
       "  {'observation': 'You are in the backyard. In one part of the room you see a barbeque. There is also a workbench, that has nothing on it. You also see a patio chair, that has nothing on it. In another part of the room you see a patio table, that has nothing on it. In one part of the room you see a clothes line, that has nothing on it. There is also a garden, that has nothing on it. You also see a coin. \\nTo the North you see a closed sliding patio door. Through an open sliding patio door, to the East you see the kitchen. ',\n",
       "   'look': 'You are in the backyard. In one part of the room you see a barbeque. There is also a workbench, that has nothing on it. You also see a patio chair, that has nothing on it. In another part of the room you see a patio table, that has nothing on it. In one part of the room you see a clothes line, that has nothing on it. There is also a garden, that has nothing on it. You also see a coin. \\nTo the North you see a closed sliding patio door. Through an open sliding patio door, to the East you see the kitchen. ',\n",
       "   'inventory': 'Inventory: \\n  Your inventory is currently empty.\\n',\n",
       "   'validActions': ['close door to north',\n",
       "    'take coin',\n",
       "    'inventory',\n",
       "    'close door to east',\n",
       "    'move north',\n",
       "    'look around',\n",
       "    'open door to east',\n",
       "    'move east',\n",
       "    'open door to north'],\n",
       "   'scoreRaw': 0.0,\n",
       "   'score': 0.0,\n",
       "   'tasksuccess': False,\n",
       "   'taskfailure': False,\n",
       "   'reward': 0.0,\n",
       "   'done': False,\n",
       "   'numMoves': 7,\n",
       "   'taskDescription': 'Your task is to search the environment and find the coin.  Once you find the coin, take it.',\n",
       "   'lastActionStr': 'move west'},\n",
       "  {'observation': 'You are in the kitchen. In one part of the room you see a stove. There is also an oven. You also see a fridge that is closed. In another part of the room you see a counter, that has nothing on it. In one part of the room you see a kitchen cupboard that is closed. There is also a cutlery drawer that is closed. You also see a trash can that is closed. In another part of the room you see a dishwasher that is closed. In one part of the room you see a dining chair, that has nothing on it. \\nThrough an open plain door, to the South you see the pantry. Through an open sliding patio door, to the West you see the backyard. ',\n",
       "   'look': 'You are in the kitchen. In one part of the room you see a stove. There is also an oven. You also see a fridge that is closed. In another part of the room you see a counter, that has nothing on it. In one part of the room you see a kitchen cupboard that is closed. There is also a cutlery drawer that is closed. You also see a trash can that is closed. In another part of the room you see a dishwasher that is closed. In one part of the room you see a dining chair, that has nothing on it. \\nThrough an open plain door, to the South you see the pantry. Through an open sliding patio door, to the West you see the backyard. ',\n",
       "   'inventory': 'Inventory: \\n  Your inventory is currently empty.\\n',\n",
       "   'validActions': ['open door to south',\n",
       "    'inventory',\n",
       "    'close door to west',\n",
       "    'open door to west',\n",
       "    'move west',\n",
       "    'close door to south',\n",
       "    'move south',\n",
       "    'look around'],\n",
       "   'scoreRaw': 0.0,\n",
       "   'score': 0.0,\n",
       "   'tasksuccess': False,\n",
       "   'taskfailure': False,\n",
       "   'reward': 0.0,\n",
       "   'done': False,\n",
       "   'numMoves': 8,\n",
       "   'taskDescription': 'Your task is to search the environment and find the coin.  Once you find the coin, take it.',\n",
       "   'lastActionStr': 'move east'},\n",
       "  {'observation': 'That is already open. ',\n",
       "   'look': 'You are in the kitchen. In one part of the room you see a stove. There is also an oven. You also see a fridge that is closed. In another part of the room you see a counter, that has nothing on it. In one part of the room you see a kitchen cupboard that is closed. There is also a cutlery drawer that is closed. You also see a trash can that is closed. In another part of the room you see a dishwasher that is closed. In one part of the room you see a dining chair, that has nothing on it. \\nThrough an open plain door, to the South you see the pantry. Through an open sliding patio door, to the West you see the backyard. ',\n",
       "   'inventory': 'Inventory: \\n  Your inventory is currently empty.\\n',\n",
       "   'validActions': ['close door to west',\n",
       "    'open door to south',\n",
       "    'close door to south',\n",
       "    'inventory',\n",
       "    'move west',\n",
       "    'move south',\n",
       "    'open door to west',\n",
       "    'look around'],\n",
       "   'scoreRaw': 0.0,\n",
       "   'score': 0.0,\n",
       "   'tasksuccess': False,\n",
       "   'taskfailure': False,\n",
       "   'reward': 0.0,\n",
       "   'done': False,\n",
       "   'numMoves': 9,\n",
       "   'taskDescription': 'Your task is to search the environment and find the coin.  Once you find the coin, take it.',\n",
       "   'lastActionStr': 'open door to south'},\n",
       "  {'observation': 'You are in the pantry. In one part of the room you see a folding chair, that has nothing on it. There is also a shelf, that has nothing on it. \\nThrough an open plain door, to the North you see the kitchen. ',\n",
       "   'look': 'You are in the pantry. In one part of the room you see a folding chair, that has nothing on it. There is also a shelf, that has nothing on it. \\nThrough an open plain door, to the North you see the kitchen. ',\n",
       "   'inventory': 'Inventory: \\n  Your inventory is currently empty.\\n',\n",
       "   'validActions': ['look around',\n",
       "    'inventory',\n",
       "    'open door to north',\n",
       "    'close door to north',\n",
       "    'move north'],\n",
       "   'scoreRaw': 0.0,\n",
       "   'score': 0.0,\n",
       "   'tasksuccess': False,\n",
       "   'taskfailure': False,\n",
       "   'reward': 0.0,\n",
       "   'done': False,\n",
       "   'numMoves': 10,\n",
       "   'taskDescription': 'Your task is to search the environment and find the coin.  Once you find the coin, take it.',\n",
       "   'lastActionStr': 'move south'},\n",
       "  {'observation': 'You are in the kitchen. In one part of the room you see a stove. There is also an oven. You also see a fridge that is closed. In another part of the room you see a counter, that has nothing on it. In one part of the room you see a kitchen cupboard that is closed. There is also a cutlery drawer that is closed. You also see a trash can that is closed. In another part of the room you see a dishwasher that is closed. In one part of the room you see a dining chair, that has nothing on it. \\nThrough an open plain door, to the South you see the pantry. Through an open sliding patio door, to the West you see the backyard. ',\n",
       "   'look': 'You are in the kitchen. In one part of the room you see a stove. There is also an oven. You also see a fridge that is closed. In another part of the room you see a counter, that has nothing on it. In one part of the room you see a kitchen cupboard that is closed. There is also a cutlery drawer that is closed. You also see a trash can that is closed. In another part of the room you see a dishwasher that is closed. In one part of the room you see a dining chair, that has nothing on it. \\nThrough an open plain door, to the South you see the pantry. Through an open sliding patio door, to the West you see the backyard. ',\n",
       "   'inventory': 'Inventory: \\n  Your inventory is currently empty.\\n',\n",
       "   'validActions': ['close door to west',\n",
       "    'close door to south',\n",
       "    'open door to south',\n",
       "    'open door to west',\n",
       "    'look around',\n",
       "    'inventory',\n",
       "    'move west',\n",
       "    'move south'],\n",
       "   'scoreRaw': 0.0,\n",
       "   'score': 0.0,\n",
       "   'tasksuccess': False,\n",
       "   'taskfailure': False,\n",
       "   'reward': 0.0,\n",
       "   'done': False,\n",
       "   'numMoves': 11,\n",
       "   'taskDescription': 'Your task is to search the environment and find the coin.  Once you find the coin, take it.',\n",
       "   'lastActionStr': 'move north'},\n",
       "  {'observation': \"Unknown action: I'm not sure what you mean.\",\n",
       "   'look': 'You are in the kitchen. In one part of the room you see a stove. There is also an oven. You also see a fridge that is closed. In another part of the room you see a counter, that has nothing on it. In one part of the room you see a kitchen cupboard that is closed. There is also a cutlery drawer that is closed. You also see a trash can that is closed. In another part of the room you see a dishwasher that is closed. In one part of the room you see a dining chair, that has nothing on it. \\nThrough an open plain door, to the South you see the pantry. Through an open sliding patio door, to the West you see the backyard. ',\n",
       "   'inventory': 'Inventory: \\n  Your inventory is currently empty.\\n',\n",
       "   'validActions': ['close door to west',\n",
       "    'close door to south',\n",
       "    'open door to south',\n",
       "    'open door to west',\n",
       "    'look around',\n",
       "    'inventory',\n",
       "    'move west',\n",
       "    'move south'],\n",
       "   'scoreRaw': 0.0,\n",
       "   'score': 0.0,\n",
       "   'tasksuccess': False,\n",
       "   'taskfailure': False,\n",
       "   'reward': 0.0,\n",
       "   'done': False,\n",
       "   'numMoves': 12,\n",
       "   'taskDescription': 'Your task is to search the environment and find the coin.  Once you find the coin, take it.',\n",
       "   'lastActionStr': 'move east'},\n",
       "  {'observation': 'You are in the backyard. In one part of the room you see a barbeque. There is also a workbench, that has nothing on it. You also see a patio chair, that has nothing on it. In another part of the room you see a patio table, that has nothing on it. In one part of the room you see a clothes line, that has nothing on it. There is also a garden, that has nothing on it. You also see a coin. \\nTo the North you see a closed sliding patio door. Through an open sliding patio door, to the East you see the kitchen. ',\n",
       "   'look': 'You are in the backyard. In one part of the room you see a barbeque. There is also a workbench, that has nothing on it. You also see a patio chair, that has nothing on it. In another part of the room you see a patio table, that has nothing on it. In one part of the room you see a clothes line, that has nothing on it. There is also a garden, that has nothing on it. You also see a coin. \\nTo the North you see a closed sliding patio door. Through an open sliding patio door, to the East you see the kitchen. ',\n",
       "   'inventory': 'Inventory: \\n  Your inventory is currently empty.\\n',\n",
       "   'validActions': ['open door to east',\n",
       "    'move north',\n",
       "    'close door to north',\n",
       "    'look around',\n",
       "    'move east',\n",
       "    'inventory',\n",
       "    'close door to east',\n",
       "    'take coin',\n",
       "    'open door to north'],\n",
       "   'scoreRaw': 0.0,\n",
       "   'score': 0.0,\n",
       "   'tasksuccess': False,\n",
       "   'taskfailure': False,\n",
       "   'reward': 0.0,\n",
       "   'done': False,\n",
       "   'numMoves': 13,\n",
       "   'taskDescription': 'Your task is to search the environment and find the coin.  Once you find the coin, take it.',\n",
       "   'lastActionStr': 'move west'},\n",
       "  {'observation': 'You open the sliding patio door, revealing the corridor. ',\n",
       "   'look': 'You are in the backyard. In one part of the room you see a barbeque. There is also a workbench, that has nothing on it. You also see a patio chair, that has nothing on it. In another part of the room you see a patio table, that has nothing on it. In one part of the room you see a clothes line, that has nothing on it. There is also a garden, that has nothing on it. You also see a coin. \\nThrough an open sliding patio door, to the North you see the corridor. Through an open sliding patio door, to the East you see the kitchen. ',\n",
       "   'inventory': 'Inventory: \\n  Your inventory is currently empty.\\n',\n",
       "   'validActions': ['close door to north',\n",
       "    'inventory',\n",
       "    'take coin',\n",
       "    'open door to north',\n",
       "    'move east',\n",
       "    'open door to east',\n",
       "    'move north',\n",
       "    'look around',\n",
       "    'close door to east'],\n",
       "   'scoreRaw': 0.0,\n",
       "   'score': 0.0,\n",
       "   'tasksuccess': False,\n",
       "   'taskfailure': False,\n",
       "   'reward': 0.0,\n",
       "   'done': False,\n",
       "   'numMoves': 14,\n",
       "   'taskDescription': 'Your task is to search the environment and find the coin.  Once you find the coin, take it.',\n",
       "   'lastActionStr': 'open door to north'},\n",
       "  {'observation': 'You are in the corridor. In one part of the room you see a key holder, that has nothing on it. There is also a shoe cabinet that is closed. You also see a umbrella stand, that has nothing on it. In another part of the room you see a hat rack, that has nothing on it. In one part of the room you see a coat hanger, that has nothing on it. \\nTo the North you see a closed wood door. Through an open sliding patio door, to the South you see the backyard. ',\n",
       "   'look': 'You are in the corridor. In one part of the room you see a key holder, that has nothing on it. There is also a shoe cabinet that is closed. You also see a umbrella stand, that has nothing on it. In another part of the room you see a hat rack, that has nothing on it. In one part of the room you see a coat hanger, that has nothing on it. \\nTo the North you see a closed wood door. Through an open sliding patio door, to the South you see the backyard. ',\n",
       "   'inventory': 'Inventory: \\n  Your inventory is currently empty.\\n',\n",
       "   'validActions': ['move north',\n",
       "    'close door to south',\n",
       "    'look around',\n",
       "    'open door to south',\n",
       "    'open door to north',\n",
       "    'move south',\n",
       "    'inventory',\n",
       "    'close door to north'],\n",
       "   'scoreRaw': 0.0,\n",
       "   'score': 0.0,\n",
       "   'tasksuccess': False,\n",
       "   'taskfailure': False,\n",
       "   'reward': 0.0,\n",
       "   'done': False,\n",
       "   'numMoves': 15,\n",
       "   'taskDescription': 'Your task is to search the environment and find the coin.  Once you find the coin, take it.',\n",
       "   'lastActionStr': 'move north'},\n",
       "  {'observation': 'You open the wood door, revealing the bedroom. ',\n",
       "   'look': 'You are in the corridor. In one part of the room you see a key holder, that has nothing on it. There is also a shoe cabinet that is closed. You also see a umbrella stand, that has nothing on it. In another part of the room you see a hat rack, that has nothing on it. In one part of the room you see a coat hanger, that has nothing on it. \\nThrough an open wood door, to the North you see the bedroom. Through an open sliding patio door, to the South you see the backyard. ',\n",
       "   'inventory': 'Inventory: \\n  Your inventory is currently empty.\\n',\n",
       "   'validActions': ['close door to north',\n",
       "    'inventory',\n",
       "    'move north',\n",
       "    'open door to south',\n",
       "    'move south',\n",
       "    'close door to south',\n",
       "    'open door to north',\n",
       "    'look around'],\n",
       "   'scoreRaw': 0.0,\n",
       "   'score': 0.0,\n",
       "   'tasksuccess': False,\n",
       "   'taskfailure': False,\n",
       "   'reward': 0.0,\n",
       "   'done': False,\n",
       "   'numMoves': 16,\n",
       "   'taskDescription': 'Your task is to search the environment and find the coin.  Once you find the coin, take it.',\n",
       "   'lastActionStr': 'open door to north'},\n",
       "  {'observation': 'You are in the bedroom. In one part of the room you see a dressing table, that has nothing on it. There is also a desk chair, that has nothing on it. You also see a desk, that has nothing on it. In another part of the room you see a chest of drawers that is closed. In one part of the room you see a wardrobe that is closed. There is also a night stand, that has nothing on it. You also see a bed, that has nothing on it. \\nThrough an open wood door, to the South you see the corridor. ',\n",
       "   'look': 'You are in the bedroom. In one part of the room you see a dressing table, that has nothing on it. There is also a desk chair, that has nothing on it. You also see a desk, that has nothing on it. In another part of the room you see a chest of drawers that is closed. In one part of the room you see a wardrobe that is closed. There is also a night stand, that has nothing on it. You also see a bed, that has nothing on it. \\nThrough an open wood door, to the South you see the corridor. ',\n",
       "   'inventory': 'Inventory: \\n  Your inventory is currently empty.\\n',\n",
       "   'validActions': ['look around',\n",
       "    'move south',\n",
       "    'close door to south',\n",
       "    'open door to south',\n",
       "    'inventory'],\n",
       "   'scoreRaw': 0.0,\n",
       "   'score': 0.0,\n",
       "   'tasksuccess': False,\n",
       "   'taskfailure': False,\n",
       "   'reward': 0.0,\n",
       "   'done': False,\n",
       "   'numMoves': 17,\n",
       "   'taskDescription': 'Your task is to search the environment and find the coin.  Once you find the coin, take it.',\n",
       "   'lastActionStr': 'move north'}]}"
      ]
     },
     "execution_count": 141,
     "metadata": {},
     "output_type": "execute_result"
    }
   ],
   "source": [
    "env.getRunHistory()"
   ]
  },
  {
   "cell_type": "code",
   "execution_count": 96,
   "id": "70791df3",
   "metadata": {},
   "outputs": [
    {
     "data": {
      "text/plain": [
       "'You are in the kitchen. In one part of the room you see a stove. There is also an oven. You also see a fridge that is closed. In another part of the room you see a counter, that has nothing on it. In one part of the room you see a kitchen cupboard that is closed. There is also a cutlery drawer that is closed. You also see a trash can that is closed. In another part of the room you see a dishwasher that is closed. In one part of the room you see a dining chair, that has nothing on it. \\nTo the South you see a closed plain door. To the West you see a closed sliding patio door. '"
      ]
     },
     "execution_count": 96,
     "metadata": {},
     "output_type": "execute_result"
    }
   ],
   "source": [
    "obs"
   ]
  },
  {
   "cell_type": "code",
   "execution_count": 97,
   "id": "4216ab8b",
   "metadata": {},
   "outputs": [
    {
     "name": "stdout",
     "output_type": "stream",
     "text": [
      "You are in the kitchen. In one part of the room you see a stove. There is also an oven. You also see a fridge that is closed. In another part of the room you see a counter, that has nothing on it. In one part of the room you see a kitchen cupboard that is closed. There is also a cutlery drawer that is closed. You also see a trash can that is closed. In another part of the room you see a dishwasher that is closed. In one part of the room you see a dining chair, that has nothing on it. \n",
      "To the South you see a closed plain door. To the West you see a closed sliding patio door. \n"
     ]
    }
   ],
   "source": [
    "print(infos['observation'])"
   ]
  },
  {
   "cell_type": "code",
   "execution_count": 98,
   "id": "ca051491",
   "metadata": {},
   "outputs": [
    {
     "data": {
      "text/plain": [
       "['close door to south',\n",
       " 'close door to west',\n",
       " 'inventory',\n",
       " 'look around',\n",
       " 'move south',\n",
       " 'move west',\n",
       " 'open door to south',\n",
       " 'open door to west']"
      ]
     },
     "execution_count": 98,
     "metadata": {},
     "output_type": "execute_result"
    }
   ],
   "source": [
    "valid_actions = sorted(infos['validActions'])\n",
    "# valid_actions.remove('look around') # 이거 왜뺐지\n",
    "# valid_actions.remove('inventory') # 이거 왜뺐지\n",
    "valid_actions"
   ]
  },
  {
   "cell_type": "code",
   "execution_count": 99,
   "id": "1cd9e880",
   "metadata": {},
   "outputs": [
    {
     "data": {
      "text/plain": [
       "['look around',\n",
       " 'open door to south',\n",
       " 'open door to west',\n",
       " 'move west',\n",
       " 'take coin']"
      ]
     },
     "execution_count": 99,
     "metadata": {},
     "output_type": "execute_result"
    }
   ],
   "source": [
    "env.getGoldActionSequence()"
   ]
  },
  {
   "cell_type": "code",
   "execution_count": 138,
   "id": "c69fb13b",
   "metadata": {},
   "outputs": [],
   "source": [
    "action = 'move north'\n",
    "obs, reward, done, infos = env.step(action)"
   ]
  },
  {
   "cell_type": "code",
   "execution_count": null,
   "id": "856d9d3d",
   "metadata": {},
   "outputs": [
    {
     "data": {
      "text/plain": [
       "'You are in the bedroom. In one part of the room you see a dressing table, that has nothing on it. There is also a desk chair, that has nothing on it. You also see a desk, that has nothing on it. In another part of the room you see a chest of drawers that is closed. In one part of the room you see a wardrobe that is closed. There is also a night stand, that has nothing on it. You also see a bed, that has nothing on it. \\nThrough an open wood door, to the South you see the corridor. '"
      ]
     },
     "execution_count": 139,
     "metadata": {},
     "output_type": "execute_result"
    }
   ],
   "source": [
    "obs # 결국 문 말고는 다른걸 여는 선택지는 없네(drawer, cupboard, trashcan, fridge, ...etc.)"
   ]
  },
  {
   "cell_type": "code",
   "execution_count": 55,
   "id": "bc8b8fc7",
   "metadata": {},
   "outputs": [
    {
     "data": {
      "text/plain": [
       "0.0"
      ]
     },
     "execution_count": 55,
     "metadata": {},
     "output_type": "execute_result"
    }
   ],
   "source": [
    "reward"
   ]
  },
  {
   "cell_type": "code",
   "execution_count": 45,
   "id": "dca38702",
   "metadata": {},
   "outputs": [
    {
     "data": {
      "text/plain": [
       "True"
      ]
     },
     "execution_count": 45,
     "metadata": {},
     "output_type": "execute_result"
    }
   ],
   "source": [
    "done"
   ]
  },
  {
   "cell_type": "code",
   "execution_count": 140,
   "id": "42d10a88",
   "metadata": {},
   "outputs": [
    {
     "data": {
      "text/plain": [
       "{'observation': 'You are in the bedroom. In one part of the room you see a dressing table, that has nothing on it. There is also a desk chair, that has nothing on it. You also see a desk, that has nothing on it. In another part of the room you see a chest of drawers that is closed. In one part of the room you see a wardrobe that is closed. There is also a night stand, that has nothing on it. You also see a bed, that has nothing on it. \\nThrough an open wood door, to the South you see the corridor. ',\n",
       " 'look': 'You are in the bedroom. In one part of the room you see a dressing table, that has nothing on it. There is also a desk chair, that has nothing on it. You also see a desk, that has nothing on it. In another part of the room you see a chest of drawers that is closed. In one part of the room you see a wardrobe that is closed. There is also a night stand, that has nothing on it. You also see a bed, that has nothing on it. \\nThrough an open wood door, to the South you see the corridor. ',\n",
       " 'inventory': 'Inventory: \\n  Your inventory is currently empty.\\n',\n",
       " 'validActions': ['look around',\n",
       "  'move south',\n",
       "  'close door to south',\n",
       "  'open door to south',\n",
       "  'inventory'],\n",
       " 'scoreRaw': 0.0,\n",
       " 'score': 0.0,\n",
       " 'tasksuccess': False,\n",
       " 'taskfailure': False,\n",
       " 'reward': 0.0,\n",
       " 'done': False,\n",
       " 'numMoves': 17,\n",
       " 'taskDescription': 'Your task is to search the environment and find the coin.  Once you find the coin, take it.',\n",
       " 'lastActionStr': 'move north'}"
      ]
     },
     "execution_count": 140,
     "metadata": {},
     "output_type": "execute_result"
    }
   ],
   "source": [
    "infos"
   ]
  },
  {
   "cell_type": "code",
   "execution_count": 68,
   "id": "3d69ba1b",
   "metadata": {},
   "outputs": [
    {
     "data": {
      "text/plain": [
       "[{'observation': 'You are in the kitchen. In one part of the room you see a stove. There is also an oven. You also see a fridge that is closed. In another part of the room you see a counter, that has nothing on it. In one part of the room you see a kitchen cupboard that is closed. There is also a cutlery drawer that is closed. You also see a trash can that is closed. In another part of the room you see a dishwasher that is closed. In one part of the room you see a dining chair, that has nothing on it. There is also a coin. \\nTo the South you see the corridor. To the East you see a closed plain door. ',\n",
       "  'look': 'You are in the kitchen. In one part of the room you see a stove. There is also an oven. You also see a fridge that is closed. In another part of the room you see a counter, that has nothing on it. In one part of the room you see a kitchen cupboard that is closed. There is also a cutlery drawer that is closed. You also see a trash can that is closed. In another part of the room you see a dishwasher that is closed. In one part of the room you see a dining chair, that has nothing on it. There is also a coin. \\nTo the South you see the corridor. To the East you see a closed plain door. ',\n",
       "  'inventory': 'Inventory: \\n  Your inventory is currently empty.\\n',\n",
       "  'validActions': ['inventory',\n",
       "   'look around',\n",
       "   'move east',\n",
       "   'move south',\n",
       "   'take coin',\n",
       "   'open door to east',\n",
       "   'close door to east'],\n",
       "  'scoreRaw': 0.0,\n",
       "  'score': 0.0,\n",
       "  'tasksuccess': False,\n",
       "  'taskfailure': False,\n",
       "  'reward': 0,\n",
       "  'done': False,\n",
       "  'numMoves': 0,\n",
       "  'taskDescription': 'Your task is to search the environment and find the coin.  Once you find the coin, take it.'},\n",
       " {'observation': 'You are in the corridor. In one part of the room you see a key holder, that has nothing on it. There is also a shoe cabinet that is closed. You also see a umbrella stand, that has nothing on it. In another part of the room you see a hat rack, that has nothing on it. In one part of the room you see a coat hanger, that has nothing on it. \\nTo the North you see the kitchen. ',\n",
       "  'look': 'You are in the corridor. In one part of the room you see a key holder, that has nothing on it. There is also a shoe cabinet that is closed. You also see a umbrella stand, that has nothing on it. In another part of the room you see a hat rack, that has nothing on it. In one part of the room you see a coat hanger, that has nothing on it. \\nTo the North you see the kitchen. ',\n",
       "  'inventory': 'Inventory: \\n  Your inventory is currently empty.\\n',\n",
       "  'validActions': ['inventory', 'look around', 'move north'],\n",
       "  'scoreRaw': 0.0,\n",
       "  'score': 0.0,\n",
       "  'tasksuccess': False,\n",
       "  'taskfailure': False,\n",
       "  'reward': 0.0,\n",
       "  'done': False,\n",
       "  'numMoves': 1,\n",
       "  'taskDescription': 'Your task is to search the environment and find the coin.  Once you find the coin, take it.',\n",
       "  'lastActionStr': 'move south'},\n",
       " {'observation': 'You are in the kitchen. In one part of the room you see a stove. There is also an oven. You also see a fridge that is closed. In another part of the room you see a counter, that has nothing on it. In one part of the room you see a kitchen cupboard that is closed. There is also a cutlery drawer that is closed. You also see a trash can that is closed. In another part of the room you see a dishwasher that is closed. In one part of the room you see a dining chair, that has nothing on it. There is also a coin. \\nTo the South you see the corridor. To the East you see a closed plain door. ',\n",
       "  'look': 'You are in the kitchen. In one part of the room you see a stove. There is also an oven. You also see a fridge that is closed. In another part of the room you see a counter, that has nothing on it. In one part of the room you see a kitchen cupboard that is closed. There is also a cutlery drawer that is closed. You also see a trash can that is closed. In another part of the room you see a dishwasher that is closed. In one part of the room you see a dining chair, that has nothing on it. There is also a coin. \\nTo the South you see the corridor. To the East you see a closed plain door. ',\n",
       "  'inventory': 'Inventory: \\n  Your inventory is currently empty.\\n',\n",
       "  'validActions': ['look around',\n",
       "   'move east',\n",
       "   'open door to east',\n",
       "   'inventory',\n",
       "   'close door to east',\n",
       "   'move south',\n",
       "   'take coin'],\n",
       "  'scoreRaw': 0.0,\n",
       "  'score': 0.0,\n",
       "  'tasksuccess': False,\n",
       "  'taskfailure': False,\n",
       "  'reward': 0.0,\n",
       "  'done': False,\n",
       "  'numMoves': 2,\n",
       "  'taskDescription': 'Your task is to search the environment and find the coin.  Once you find the coin, take it.',\n",
       "  'lastActionStr': 'move north'},\n",
       " {'observation': \"You can't move there, the door is closed. \",\n",
       "  'look': 'You are in the kitchen. In one part of the room you see a stove. There is also an oven. You also see a fridge that is closed. In another part of the room you see a counter, that has nothing on it. In one part of the room you see a kitchen cupboard that is closed. There is also a cutlery drawer that is closed. You also see a trash can that is closed. In another part of the room you see a dishwasher that is closed. In one part of the room you see a dining chair, that has nothing on it. There is also a coin. \\nTo the South you see the corridor. To the East you see a closed plain door. ',\n",
       "  'inventory': 'Inventory: \\n  Your inventory is currently empty.\\n',\n",
       "  'validActions': ['inventory',\n",
       "   'move east',\n",
       "   'close door to east',\n",
       "   'look around',\n",
       "   'take coin',\n",
       "   'move south',\n",
       "   'open door to east'],\n",
       "  'scoreRaw': 0.0,\n",
       "  'score': 0.0,\n",
       "  'tasksuccess': False,\n",
       "  'taskfailure': False,\n",
       "  'reward': 0.0,\n",
       "  'done': False,\n",
       "  'numMoves': 3,\n",
       "  'taskDescription': 'Your task is to search the environment and find the coin.  Once you find the coin, take it.',\n",
       "  'lastActionStr': 'move east'},\n",
       " {'observation': 'You open the plain door, revealing the pantry. ',\n",
       "  'look': 'You are in the kitchen. In one part of the room you see a stove. There is also an oven. You also see a fridge that is closed. In another part of the room you see a counter, that has nothing on it. In one part of the room you see a kitchen cupboard that is closed. There is also a cutlery drawer that is closed. You also see a trash can that is closed. In another part of the room you see a dishwasher that is closed. In one part of the room you see a dining chair, that has nothing on it. There is also a coin. \\nTo the South you see the corridor. Through an open plain door, to the East you see the pantry. ',\n",
       "  'inventory': 'Inventory: \\n  Your inventory is currently empty.\\n',\n",
       "  'validActions': ['close door to east',\n",
       "   'move east',\n",
       "   'move south',\n",
       "   'take coin',\n",
       "   'open door to east',\n",
       "   'look around',\n",
       "   'inventory'],\n",
       "  'scoreRaw': 0.0,\n",
       "  'score': 0.0,\n",
       "  'tasksuccess': False,\n",
       "  'taskfailure': False,\n",
       "  'reward': 0.0,\n",
       "  'done': False,\n",
       "  'numMoves': 4,\n",
       "  'taskDescription': 'Your task is to search the environment and find the coin.  Once you find the coin, take it.',\n",
       "  'lastActionStr': 'open door to east'},\n",
       " {'observation': 'You are in the kitchen. In one part of the room you see a stove. There is also an oven. You also see a fridge that is closed. In another part of the room you see a counter, that has nothing on it. In one part of the room you see a kitchen cupboard that is closed. There is also a cutlery drawer that is closed. You also see a trash can that is closed. In another part of the room you see a dishwasher that is closed. In one part of the room you see a dining chair, that has nothing on it. There is also a coin. \\nTo the South you see the corridor. Through an open plain door, to the East you see the pantry. ',\n",
       "  'look': 'You are in the kitchen. In one part of the room you see a stove. There is also an oven. You also see a fridge that is closed. In another part of the room you see a counter, that has nothing on it. In one part of the room you see a kitchen cupboard that is closed. There is also a cutlery drawer that is closed. You also see a trash can that is closed. In another part of the room you see a dishwasher that is closed. In one part of the room you see a dining chair, that has nothing on it. There is also a coin. \\nTo the South you see the corridor. Through an open plain door, to the East you see the pantry. ',\n",
       "  'inventory': 'Inventory: \\n  Your inventory is currently empty.\\n',\n",
       "  'validActions': ['move east',\n",
       "   'inventory',\n",
       "   'close door to east',\n",
       "   'look around',\n",
       "   'move south',\n",
       "   'open door to east',\n",
       "   'take coin'],\n",
       "  'scoreRaw': 0.0,\n",
       "  'score': 0.0,\n",
       "  'tasksuccess': False,\n",
       "  'taskfailure': False,\n",
       "  'reward': 0.0,\n",
       "  'done': False,\n",
       "  'numMoves': 5,\n",
       "  'taskDescription': 'Your task is to search the environment and find the coin.  Once you find the coin, take it.',\n",
       "  'lastActionStr': 'look around'}]"
      ]
     },
     "execution_count": 68,
     "metadata": {},
     "output_type": "execute_result"
    }
   ],
   "source": [
    "env.getRunHistory()['history']"
   ]
  },
  {
   "cell_type": "code",
   "execution_count": null,
   "id": "fed2b10c",
   "metadata": {},
   "outputs": [],
   "source": [
    "valid_actions = sorted(infos['validActions'])\n",
    "valid_actions.remove('look around') # 이거 왜뺐지\n",
    "valid_actions.remove('inventory') # 이거 왜뺐지\n",
    "\n",
    "print(f\"Observations: {obs} \\n\") \n",
    "print(f\"Gold path: {env.getGoldActionSequence()} \\n\")\n",
    "print(f\"Valid Actions: {valid_actions} \\n\")\n",
    "print(f\"taskDescription: {infos['taskDescription']} \\n\")\n",
    "\n",
    "# actions = ['open door to south', 'move south', 'open door to west', 'move west', 'move east', 'move north', 'open door to west', 'move west', 'move east', 'move south', 'move south', 'move north', 'move east', 'open door to north', 'move north', 'take coin']\n",
    "actions = ['open door to south']\n",
    "\n",
    "for action in actions:\n",
    "    print('>', action)\n",
    "    obs, reward, done, infos = env.step(action)\n",
    "    print(obs)\n",
    "\n",
    "print(infos['done'])"
   ]
  },
  {
   "cell_type": "code",
   "execution_count": null,
   "id": "3cc04d1b",
   "metadata": {},
   "outputs": [],
   "source": []
  },
  {
   "cell_type": "code",
   "execution_count": 6,
   "id": "9a52b1f1",
   "metadata": {},
   "outputs": [
    {
     "data": {
      "text/plain": [
       "'(define (domain exploration)\\n  (:requirements :strips :typing)\\n  \\n  (:types\\n    location direction\\n  )\\n  \\n  (:predicates\\n    (at ?loc - location)\\n    (door-open ?loc1 - location ?loc2 - location ?dir - direction)\\n    (door-closed ?loc1 - location ?loc2 - location ?dir - direction)\\n  )\\n  \\n  (:action open-door\\n    :parameters (?loc1 - location ?loc2 - location ?dir - direction)\\n    :precondition (and (at ?loc1) (door-closed ?loc1 ?loc2 ?dir))\\n    :effect (and (door-open ?loc1 ?loc2 ?dir) (not (door-closed ?loc1 ?loc2 ?dir)))\\n  )\\n  \\n  (:action move\\n    :parameters (?from - location ?to - location ?dir - direction)\\n    :precondition (and (at ?from) (door-open ?from ?to ?dir))\\n    :effect (and (at ?to) (not (at ?from)))\\n  )\\n)'"
      ]
     },
     "execution_count": 6,
     "metadata": {},
     "output_type": "execute_result"
    }
   ],
   "source": [
    "domain_file = open(f'domain.pddl').read()\n",
    "problem_file = open(f'problem.pddl').read()\n",
    "domain_file"
   ]
  },
  {
   "cell_type": "code",
   "execution_count": 9,
   "id": "5d6eadd3",
   "metadata": {},
   "outputs": [
    {
     "name": "stdout",
     "output_type": "stream",
     "text": [
      "{'result': '/check/158419d0-5072-47a0-8e7f-d24736a9fd7a?external=True'}\n",
      "ok\n",
      "{'call': 'timeout 30 planutils run dual-bfws-ffparser -- domain problem plan', 'output': {'plan': '(OPEN-DOOR KITCHEN WEST_ROOM WEST)\\n(MOVE KITCHEN WEST_ROOM WEST)\\n'}, 'output_type': 'generic', 'stderr': '', 'stdout': ' --- OK.\\n Match tree built with 4 nodes.\\n\\nPDDL problem description loaded: \\n\\tDomain: EXPLORATION\\n\\tProblem: EXPLORATION-PROBLEM\\n\\t#Actions: 4\\n\\t#Fluents: 7\\nGoals found: 1\\nGoals_Edges found: 1\\nStarting search with 1-BFWS...\\n--[1 / 0]--\\n--[1 / 1]--\\n--[0 / 0]--\\n--[0 / 2]--\\nTotal time: 6.19997e-05\\nNodes generated during search: 5\\nNodes expanded during search: 2\\nPlan found with cost: 2\\nFast-BFS search completed in 6.19997e-05 secs\\n'}\n"
     ]
    }
   ],
   "source": [
    "max_retries=3\n",
    "\n",
    "req_body = {\"domain\" : domain_file, \"problem\" : problem_file}\n",
    "\n",
    "retries = 0\n",
    "\n",
    "while retries < max_retries:\n",
    "    try:\n",
    "        # Send job request to solve endpoint\n",
    "        solve_request_url = requests.post(\n",
    "            f\"https://solver.planning.domains:5001/package/dual-bfws-ffparser/solve\", \n",
    "            json=req_body\n",
    "        ).json()\n",
    "\n",
    "        print(solve_request_url)\n",
    "\n",
    "        # Query the result in the job\n",
    "        celery_result = requests.post(\n",
    "            'https://solver.planning.domains:5001' + solve_request_url['result']\n",
    "        )\n",
    "        print(celery_result.json().get(\"status\", \"?\"))\n",
    "        while celery_result.json().get(\"status\", \"\") == 'PENDING':\n",
    "            time.sleep(0.5)\n",
    "            celery_result = requests.post(\n",
    "                'https://solver.planning.domains:5001' + solve_request_url['result']\n",
    "            )\n",
    "        \n",
    "        print(celery_result.json()['result'])\n",
    "        break\n",
    "\n",
    "    except Exception as e:\n",
    "        print(f\"Error encountered: {e}. Retrying in 5 seconds... (Attempt {retries+1}/{max_retries})\")\n",
    "        retries += 1\n",
    "        time.sleep(5)"
   ]
  },
  {
   "cell_type": "code",
   "execution_count": 11,
   "id": "4a0aa215",
   "metadata": {},
   "outputs": [
    {
     "data": {
      "text/plain": [
       "{'plan': '(OPEN-DOOR KITCHEN WEST_ROOM WEST)\\n(MOVE KITCHEN WEST_ROOM WEST)\\n'}"
      ]
     },
     "execution_count": 11,
     "metadata": {},
     "output_type": "execute_result"
    }
   ],
   "source": [
    "celery_result.json()['result']['output']"
   ]
  },
  {
   "cell_type": "code",
   "execution_count": 12,
   "id": "caf0968f",
   "metadata": {},
   "outputs": [],
   "source": [
    "def map_actions(action):\n",
    "    actions = action.lower().replace(\"(\", \"\").replace(\")\", \"\").split('\\n')\n",
    "    action_lst = []\n",
    "    for act in actions:\n",
    "        if \"open\" in act and \"door\" in act:\n",
    "            direction = act.split(' ')[-1]\n",
    "            action_lst.append(f'open door to {direction}')\n",
    "        elif \"move\" in act:\n",
    "            action_lst.append(f\"move {act.split(' ')[-1]}\")\n",
    "    if len(action_lst) == 0:\n",
    "        return None\n",
    "    return action_lst"
   ]
  },
  {
   "cell_type": "code",
   "execution_count": 13,
   "id": "5df96659",
   "metadata": {},
   "outputs": [
    {
     "data": {
      "text/plain": [
       "['open door to west', 'move west']"
      ]
     },
     "execution_count": 13,
     "metadata": {},
     "output_type": "execute_result"
    }
   ],
   "source": [
    "map_actions(celery_result.json()['result']['output']['plan'])"
   ]
  },
  {
   "cell_type": "code",
   "execution_count": 15,
   "id": "c8d94739",
   "metadata": {},
   "outputs": [
    {
     "data": {
      "text/plain": [
       "True"
      ]
     },
     "execution_count": 15,
     "metadata": {},
     "output_type": "execute_result"
    }
   ],
   "source": [
    "\"'hello\".startswith(\"'\")"
   ]
  }
 ],
 "metadata": {
  "kernelspec": {
   "display_name": "venv",
   "language": "python",
   "name": "python3"
  },
  "language_info": {
   "codemirror_mode": {
    "name": "ipython",
    "version": 3
   },
   "file_extension": ".py",
   "mimetype": "text/x-python",
   "name": "python",
   "nbconvert_exporter": "python",
   "pygments_lexer": "ipython3",
   "version": "3.12.3"
  }
 },
 "nbformat": 4,
 "nbformat_minor": 5
}
